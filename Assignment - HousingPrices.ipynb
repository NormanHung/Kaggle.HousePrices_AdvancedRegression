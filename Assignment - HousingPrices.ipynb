{
 "cells": [
  {
   "cell_type": "markdown",
   "metadata": {},
   "source": [
    "# Loading Data"
   ]
  },
  {
   "cell_type": "code",
   "execution_count": 1,
   "metadata": {},
   "outputs": [],
   "source": [
    "import pandas as pd\n",
    "import numpy as np"
   ]
  },
  {
   "cell_type": "code",
   "execution_count": 2,
   "metadata": {},
   "outputs": [],
   "source": [
    "RawData = pd.read_csv(\"train.csv\")"
   ]
  },
  {
   "cell_type": "code",
   "execution_count": 3,
   "metadata": {
    "scrolled": true
   },
   "outputs": [
    {
     "data": {
      "text/html": [
       "<div>\n",
       "<style scoped>\n",
       "    .dataframe tbody tr th:only-of-type {\n",
       "        vertical-align: middle;\n",
       "    }\n",
       "\n",
       "    .dataframe tbody tr th {\n",
       "        vertical-align: top;\n",
       "    }\n",
       "\n",
       "    .dataframe thead th {\n",
       "        text-align: right;\n",
       "    }\n",
       "</style>\n",
       "<table border=\"1\" class=\"dataframe\">\n",
       "  <thead>\n",
       "    <tr style=\"text-align: right;\">\n",
       "      <th></th>\n",
       "      <th>Id</th>\n",
       "      <th>MSSubClass</th>\n",
       "      <th>MSZoning</th>\n",
       "      <th>LotFrontage</th>\n",
       "      <th>LotArea</th>\n",
       "      <th>Street</th>\n",
       "      <th>Alley</th>\n",
       "      <th>LotShape</th>\n",
       "      <th>LandContour</th>\n",
       "      <th>Utilities</th>\n",
       "      <th>...</th>\n",
       "      <th>PoolArea</th>\n",
       "      <th>PoolQC</th>\n",
       "      <th>Fence</th>\n",
       "      <th>MiscFeature</th>\n",
       "      <th>MiscVal</th>\n",
       "      <th>MoSold</th>\n",
       "      <th>YrSold</th>\n",
       "      <th>SaleType</th>\n",
       "      <th>SaleCondition</th>\n",
       "      <th>SalePrice</th>\n",
       "    </tr>\n",
       "  </thead>\n",
       "  <tbody>\n",
       "    <tr>\n",
       "      <td>0</td>\n",
       "      <td>1</td>\n",
       "      <td>60</td>\n",
       "      <td>RL</td>\n",
       "      <td>65.0</td>\n",
       "      <td>8450</td>\n",
       "      <td>Pave</td>\n",
       "      <td>NaN</td>\n",
       "      <td>Reg</td>\n",
       "      <td>Lvl</td>\n",
       "      <td>AllPub</td>\n",
       "      <td>...</td>\n",
       "      <td>0</td>\n",
       "      <td>NaN</td>\n",
       "      <td>NaN</td>\n",
       "      <td>NaN</td>\n",
       "      <td>0</td>\n",
       "      <td>2</td>\n",
       "      <td>2008</td>\n",
       "      <td>WD</td>\n",
       "      <td>Normal</td>\n",
       "      <td>208500</td>\n",
       "    </tr>\n",
       "    <tr>\n",
       "      <td>1</td>\n",
       "      <td>2</td>\n",
       "      <td>20</td>\n",
       "      <td>RL</td>\n",
       "      <td>80.0</td>\n",
       "      <td>9600</td>\n",
       "      <td>Pave</td>\n",
       "      <td>NaN</td>\n",
       "      <td>Reg</td>\n",
       "      <td>Lvl</td>\n",
       "      <td>AllPub</td>\n",
       "      <td>...</td>\n",
       "      <td>0</td>\n",
       "      <td>NaN</td>\n",
       "      <td>NaN</td>\n",
       "      <td>NaN</td>\n",
       "      <td>0</td>\n",
       "      <td>5</td>\n",
       "      <td>2007</td>\n",
       "      <td>WD</td>\n",
       "      <td>Normal</td>\n",
       "      <td>181500</td>\n",
       "    </tr>\n",
       "    <tr>\n",
       "      <td>2</td>\n",
       "      <td>3</td>\n",
       "      <td>60</td>\n",
       "      <td>RL</td>\n",
       "      <td>68.0</td>\n",
       "      <td>11250</td>\n",
       "      <td>Pave</td>\n",
       "      <td>NaN</td>\n",
       "      <td>IR1</td>\n",
       "      <td>Lvl</td>\n",
       "      <td>AllPub</td>\n",
       "      <td>...</td>\n",
       "      <td>0</td>\n",
       "      <td>NaN</td>\n",
       "      <td>NaN</td>\n",
       "      <td>NaN</td>\n",
       "      <td>0</td>\n",
       "      <td>9</td>\n",
       "      <td>2008</td>\n",
       "      <td>WD</td>\n",
       "      <td>Normal</td>\n",
       "      <td>223500</td>\n",
       "    </tr>\n",
       "    <tr>\n",
       "      <td>3</td>\n",
       "      <td>4</td>\n",
       "      <td>70</td>\n",
       "      <td>RL</td>\n",
       "      <td>60.0</td>\n",
       "      <td>9550</td>\n",
       "      <td>Pave</td>\n",
       "      <td>NaN</td>\n",
       "      <td>IR1</td>\n",
       "      <td>Lvl</td>\n",
       "      <td>AllPub</td>\n",
       "      <td>...</td>\n",
       "      <td>0</td>\n",
       "      <td>NaN</td>\n",
       "      <td>NaN</td>\n",
       "      <td>NaN</td>\n",
       "      <td>0</td>\n",
       "      <td>2</td>\n",
       "      <td>2006</td>\n",
       "      <td>WD</td>\n",
       "      <td>Abnorml</td>\n",
       "      <td>140000</td>\n",
       "    </tr>\n",
       "    <tr>\n",
       "      <td>4</td>\n",
       "      <td>5</td>\n",
       "      <td>60</td>\n",
       "      <td>RL</td>\n",
       "      <td>84.0</td>\n",
       "      <td>14260</td>\n",
       "      <td>Pave</td>\n",
       "      <td>NaN</td>\n",
       "      <td>IR1</td>\n",
       "      <td>Lvl</td>\n",
       "      <td>AllPub</td>\n",
       "      <td>...</td>\n",
       "      <td>0</td>\n",
       "      <td>NaN</td>\n",
       "      <td>NaN</td>\n",
       "      <td>NaN</td>\n",
       "      <td>0</td>\n",
       "      <td>12</td>\n",
       "      <td>2008</td>\n",
       "      <td>WD</td>\n",
       "      <td>Normal</td>\n",
       "      <td>250000</td>\n",
       "    </tr>\n",
       "    <tr>\n",
       "      <td>...</td>\n",
       "      <td>...</td>\n",
       "      <td>...</td>\n",
       "      <td>...</td>\n",
       "      <td>...</td>\n",
       "      <td>...</td>\n",
       "      <td>...</td>\n",
       "      <td>...</td>\n",
       "      <td>...</td>\n",
       "      <td>...</td>\n",
       "      <td>...</td>\n",
       "      <td>...</td>\n",
       "      <td>...</td>\n",
       "      <td>...</td>\n",
       "      <td>...</td>\n",
       "      <td>...</td>\n",
       "      <td>...</td>\n",
       "      <td>...</td>\n",
       "      <td>...</td>\n",
       "      <td>...</td>\n",
       "      <td>...</td>\n",
       "      <td>...</td>\n",
       "    </tr>\n",
       "    <tr>\n",
       "      <td>1455</td>\n",
       "      <td>1456</td>\n",
       "      <td>60</td>\n",
       "      <td>RL</td>\n",
       "      <td>62.0</td>\n",
       "      <td>7917</td>\n",
       "      <td>Pave</td>\n",
       "      <td>NaN</td>\n",
       "      <td>Reg</td>\n",
       "      <td>Lvl</td>\n",
       "      <td>AllPub</td>\n",
       "      <td>...</td>\n",
       "      <td>0</td>\n",
       "      <td>NaN</td>\n",
       "      <td>NaN</td>\n",
       "      <td>NaN</td>\n",
       "      <td>0</td>\n",
       "      <td>8</td>\n",
       "      <td>2007</td>\n",
       "      <td>WD</td>\n",
       "      <td>Normal</td>\n",
       "      <td>175000</td>\n",
       "    </tr>\n",
       "    <tr>\n",
       "      <td>1456</td>\n",
       "      <td>1457</td>\n",
       "      <td>20</td>\n",
       "      <td>RL</td>\n",
       "      <td>85.0</td>\n",
       "      <td>13175</td>\n",
       "      <td>Pave</td>\n",
       "      <td>NaN</td>\n",
       "      <td>Reg</td>\n",
       "      <td>Lvl</td>\n",
       "      <td>AllPub</td>\n",
       "      <td>...</td>\n",
       "      <td>0</td>\n",
       "      <td>NaN</td>\n",
       "      <td>MnPrv</td>\n",
       "      <td>NaN</td>\n",
       "      <td>0</td>\n",
       "      <td>2</td>\n",
       "      <td>2010</td>\n",
       "      <td>WD</td>\n",
       "      <td>Normal</td>\n",
       "      <td>210000</td>\n",
       "    </tr>\n",
       "    <tr>\n",
       "      <td>1457</td>\n",
       "      <td>1458</td>\n",
       "      <td>70</td>\n",
       "      <td>RL</td>\n",
       "      <td>66.0</td>\n",
       "      <td>9042</td>\n",
       "      <td>Pave</td>\n",
       "      <td>NaN</td>\n",
       "      <td>Reg</td>\n",
       "      <td>Lvl</td>\n",
       "      <td>AllPub</td>\n",
       "      <td>...</td>\n",
       "      <td>0</td>\n",
       "      <td>NaN</td>\n",
       "      <td>GdPrv</td>\n",
       "      <td>Shed</td>\n",
       "      <td>2500</td>\n",
       "      <td>5</td>\n",
       "      <td>2010</td>\n",
       "      <td>WD</td>\n",
       "      <td>Normal</td>\n",
       "      <td>266500</td>\n",
       "    </tr>\n",
       "    <tr>\n",
       "      <td>1458</td>\n",
       "      <td>1459</td>\n",
       "      <td>20</td>\n",
       "      <td>RL</td>\n",
       "      <td>68.0</td>\n",
       "      <td>9717</td>\n",
       "      <td>Pave</td>\n",
       "      <td>NaN</td>\n",
       "      <td>Reg</td>\n",
       "      <td>Lvl</td>\n",
       "      <td>AllPub</td>\n",
       "      <td>...</td>\n",
       "      <td>0</td>\n",
       "      <td>NaN</td>\n",
       "      <td>NaN</td>\n",
       "      <td>NaN</td>\n",
       "      <td>0</td>\n",
       "      <td>4</td>\n",
       "      <td>2010</td>\n",
       "      <td>WD</td>\n",
       "      <td>Normal</td>\n",
       "      <td>142125</td>\n",
       "    </tr>\n",
       "    <tr>\n",
       "      <td>1459</td>\n",
       "      <td>1460</td>\n",
       "      <td>20</td>\n",
       "      <td>RL</td>\n",
       "      <td>75.0</td>\n",
       "      <td>9937</td>\n",
       "      <td>Pave</td>\n",
       "      <td>NaN</td>\n",
       "      <td>Reg</td>\n",
       "      <td>Lvl</td>\n",
       "      <td>AllPub</td>\n",
       "      <td>...</td>\n",
       "      <td>0</td>\n",
       "      <td>NaN</td>\n",
       "      <td>NaN</td>\n",
       "      <td>NaN</td>\n",
       "      <td>0</td>\n",
       "      <td>6</td>\n",
       "      <td>2008</td>\n",
       "      <td>WD</td>\n",
       "      <td>Normal</td>\n",
       "      <td>147500</td>\n",
       "    </tr>\n",
       "  </tbody>\n",
       "</table>\n",
       "<p>1460 rows × 81 columns</p>\n",
       "</div>"
      ],
      "text/plain": [
       "        Id  MSSubClass MSZoning  LotFrontage  LotArea Street Alley LotShape  \\\n",
       "0        1          60       RL         65.0     8450   Pave   NaN      Reg   \n",
       "1        2          20       RL         80.0     9600   Pave   NaN      Reg   \n",
       "2        3          60       RL         68.0    11250   Pave   NaN      IR1   \n",
       "3        4          70       RL         60.0     9550   Pave   NaN      IR1   \n",
       "4        5          60       RL         84.0    14260   Pave   NaN      IR1   \n",
       "...    ...         ...      ...          ...      ...    ...   ...      ...   \n",
       "1455  1456          60       RL         62.0     7917   Pave   NaN      Reg   \n",
       "1456  1457          20       RL         85.0    13175   Pave   NaN      Reg   \n",
       "1457  1458          70       RL         66.0     9042   Pave   NaN      Reg   \n",
       "1458  1459          20       RL         68.0     9717   Pave   NaN      Reg   \n",
       "1459  1460          20       RL         75.0     9937   Pave   NaN      Reg   \n",
       "\n",
       "     LandContour Utilities  ... PoolArea PoolQC  Fence MiscFeature MiscVal  \\\n",
       "0            Lvl    AllPub  ...        0    NaN    NaN         NaN       0   \n",
       "1            Lvl    AllPub  ...        0    NaN    NaN         NaN       0   \n",
       "2            Lvl    AllPub  ...        0    NaN    NaN         NaN       0   \n",
       "3            Lvl    AllPub  ...        0    NaN    NaN         NaN       0   \n",
       "4            Lvl    AllPub  ...        0    NaN    NaN         NaN       0   \n",
       "...          ...       ...  ...      ...    ...    ...         ...     ...   \n",
       "1455         Lvl    AllPub  ...        0    NaN    NaN         NaN       0   \n",
       "1456         Lvl    AllPub  ...        0    NaN  MnPrv         NaN       0   \n",
       "1457         Lvl    AllPub  ...        0    NaN  GdPrv        Shed    2500   \n",
       "1458         Lvl    AllPub  ...        0    NaN    NaN         NaN       0   \n",
       "1459         Lvl    AllPub  ...        0    NaN    NaN         NaN       0   \n",
       "\n",
       "     MoSold YrSold  SaleType  SaleCondition  SalePrice  \n",
       "0         2   2008        WD         Normal     208500  \n",
       "1         5   2007        WD         Normal     181500  \n",
       "2         9   2008        WD         Normal     223500  \n",
       "3         2   2006        WD        Abnorml     140000  \n",
       "4        12   2008        WD         Normal     250000  \n",
       "...     ...    ...       ...            ...        ...  \n",
       "1455      8   2007        WD         Normal     175000  \n",
       "1456      2   2010        WD         Normal     210000  \n",
       "1457      5   2010        WD         Normal     266500  \n",
       "1458      4   2010        WD         Normal     142125  \n",
       "1459      6   2008        WD         Normal     147500  \n",
       "\n",
       "[1460 rows x 81 columns]"
      ]
     },
     "execution_count": 3,
     "metadata": {},
     "output_type": "execute_result"
    }
   ],
   "source": [
    "RawData"
   ]
  },
  {
   "cell_type": "code",
   "execution_count": 4,
   "metadata": {
    "scrolled": false
   },
   "outputs": [
    {
     "name": "stdout",
     "output_type": "stream",
     "text": [
      "PoolQC           1453\n",
      "MiscFeature      1406\n",
      "Alley            1369\n",
      "Fence            1179\n",
      "FireplaceQu       690\n",
      "                 ... \n",
      "CentralAir          0\n",
      "SaleCondition       0\n",
      "Heating             0\n",
      "TotalBsmtSF         0\n",
      "Id                  0\n",
      "Length: 81, dtype: int64\n"
     ]
    }
   ],
   "source": [
    "print(RawData.isnull().sum().sort_values(ascending = False))"
   ]
  },
  {
   "cell_type": "markdown",
   "metadata": {},
   "source": [
    "# Data Preparation"
   ]
  },
  {
   "cell_type": "code",
   "execution_count": 5,
   "metadata": {},
   "outputs": [],
   "source": [
    "def ShowSimpleHist(Data_List, width = 7, height = 7):\n",
    "    import matplotlib.pyplot as plt\n",
    "    %matplotlib inline\n",
    "\n",
    "    plt.close()\n",
    "    axes = plt.figure(figsize=(width, height)).add_subplot(111)  # RowsColumnsIndex\n",
    "                                                        # Index starts upper left corner\n",
    "    plt.hist(Data_List)\n",
    "    plt.show()"
   ]
  },
  {
   "cell_type": "code",
   "execution_count": 6,
   "metadata": {
    "scrolled": false
   },
   "outputs": [
    {
     "name": "stdout",
     "output_type": "stream",
     "text": [
      "<class 'pandas.core.frame.DataFrame'>\n",
      "RangeIndex: 1460 entries, 0 to 1459\n",
      "Data columns (total 81 columns):\n",
      "Id               1460 non-null int64\n",
      "MSSubClass       1460 non-null int64\n",
      "MSZoning         1460 non-null object\n",
      "LotFrontage      1201 non-null float64\n",
      "LotArea          1460 non-null int64\n",
      "Street           1460 non-null object\n",
      "Alley            91 non-null object\n",
      "LotShape         1460 non-null object\n",
      "LandContour      1460 non-null object\n",
      "Utilities        1460 non-null object\n",
      "LotConfig        1460 non-null object\n",
      "LandSlope        1460 non-null object\n",
      "Neighborhood     1460 non-null object\n",
      "Condition1       1460 non-null object\n",
      "Condition2       1460 non-null object\n",
      "BldgType         1460 non-null object\n",
      "HouseStyle       1460 non-null object\n",
      "OverallQual      1460 non-null int64\n",
      "OverallCond      1460 non-null int64\n",
      "YearBuilt        1460 non-null int64\n",
      "YearRemodAdd     1460 non-null int64\n",
      "RoofStyle        1460 non-null object\n",
      "RoofMatl         1460 non-null object\n",
      "Exterior1st      1460 non-null object\n",
      "Exterior2nd      1460 non-null object\n",
      "MasVnrType       1452 non-null object\n",
      "MasVnrArea       1452 non-null float64\n",
      "ExterQual        1460 non-null object\n",
      "ExterCond        1460 non-null object\n",
      "Foundation       1460 non-null object\n",
      "BsmtQual         1423 non-null object\n",
      "BsmtCond         1423 non-null object\n",
      "BsmtExposure     1422 non-null object\n",
      "BsmtFinType1     1423 non-null object\n",
      "BsmtFinSF1       1460 non-null int64\n",
      "BsmtFinType2     1422 non-null object\n",
      "BsmtFinSF2       1460 non-null int64\n",
      "BsmtUnfSF        1460 non-null int64\n",
      "TotalBsmtSF      1460 non-null int64\n",
      "Heating          1460 non-null object\n",
      "HeatingQC        1460 non-null object\n",
      "CentralAir       1460 non-null object\n",
      "Electrical       1459 non-null object\n",
      "1stFlrSF         1460 non-null int64\n",
      "2ndFlrSF         1460 non-null int64\n",
      "LowQualFinSF     1460 non-null int64\n",
      "GrLivArea        1460 non-null int64\n",
      "BsmtFullBath     1460 non-null int64\n",
      "BsmtHalfBath     1460 non-null int64\n",
      "FullBath         1460 non-null int64\n",
      "HalfBath         1460 non-null int64\n",
      "BedroomAbvGr     1460 non-null int64\n",
      "KitchenAbvGr     1460 non-null int64\n",
      "KitchenQual      1460 non-null object\n",
      "TotRmsAbvGrd     1460 non-null int64\n",
      "Functional       1460 non-null object\n",
      "Fireplaces       1460 non-null int64\n",
      "FireplaceQu      770 non-null object\n",
      "GarageType       1379 non-null object\n",
      "GarageYrBlt      1379 non-null float64\n",
      "GarageFinish     1379 non-null object\n",
      "GarageCars       1460 non-null int64\n",
      "GarageArea       1460 non-null int64\n",
      "GarageQual       1379 non-null object\n",
      "GarageCond       1379 non-null object\n",
      "PavedDrive       1460 non-null object\n",
      "WoodDeckSF       1460 non-null int64\n",
      "OpenPorchSF      1460 non-null int64\n",
      "EnclosedPorch    1460 non-null int64\n",
      "3SsnPorch        1460 non-null int64\n",
      "ScreenPorch      1460 non-null int64\n",
      "PoolArea         1460 non-null int64\n",
      "PoolQC           7 non-null object\n",
      "Fence            281 non-null object\n",
      "MiscFeature      54 non-null object\n",
      "MiscVal          1460 non-null int64\n",
      "MoSold           1460 non-null int64\n",
      "YrSold           1460 non-null int64\n",
      "SaleType         1460 non-null object\n",
      "SaleCondition    1460 non-null object\n",
      "SalePrice        1460 non-null int64\n",
      "dtypes: float64(3), int64(35), object(43)\n",
      "memory usage: 924.0+ KB\n"
     ]
    }
   ],
   "source": [
    "RawData.info()"
   ]
  },
  {
   "cell_type": "markdown",
   "metadata": {},
   "source": [
    "Identify fields with nulls"
   ]
  },
  {
   "cell_type": "code",
   "execution_count": 7,
   "metadata": {
    "scrolled": true
   },
   "outputs": [
    {
     "data": {
      "text/plain": [
       "['LotFrontage',\n",
       " 'Alley',\n",
       " 'MasVnrType',\n",
       " 'MasVnrArea',\n",
       " 'BsmtQual',\n",
       " 'BsmtCond',\n",
       " 'BsmtExposure',\n",
       " 'BsmtFinType1',\n",
       " 'BsmtFinType2',\n",
       " 'Electrical',\n",
       " 'FireplaceQu',\n",
       " 'GarageType',\n",
       " 'GarageYrBlt',\n",
       " 'GarageFinish',\n",
       " 'GarageQual',\n",
       " 'GarageCond',\n",
       " 'PoolQC',\n",
       " 'Fence',\n",
       " 'MiscFeature']"
      ]
     },
     "execution_count": 7,
     "metadata": {},
     "output_type": "execute_result"
    }
   ],
   "source": [
    "RawData.columns[(RawData.isnull().sum() > 0)].to_list()"
   ]
  },
  {
   "cell_type": "code",
   "execution_count": 8,
   "metadata": {},
   "outputs": [
    {
     "data": {
      "text/plain": [
       "Id                 0\n",
       "MSSubClass         0\n",
       "MSZoning           0\n",
       "LotFrontage      259\n",
       "LotArea            0\n",
       "                ... \n",
       "MoSold             0\n",
       "YrSold             0\n",
       "SaleType           0\n",
       "SaleCondition      0\n",
       "SalePrice          0\n",
       "Length: 81, dtype: int64"
      ]
     },
     "execution_count": 8,
     "metadata": {},
     "output_type": "execute_result"
    }
   ],
   "source": [
    "RawData.isnull().sum()"
   ]
  },
  {
   "cell_type": "markdown",
   "metadata": {},
   "source": [
    "* ID:"
   ]
  },
  {
   "cell_type": "code",
   "execution_count": 9,
   "metadata": {},
   "outputs": [],
   "source": [
    "RawData.set_index(\"Id\");"
   ]
  },
  {
   "cell_type": "markdown",
   "metadata": {},
   "source": [
    "MSSubClass: Identifies the type of dwelling involved in the sale.\t\n",
    "\n",
    "        20\t1-STORY 1946 & NEWER ALL STYLES\n",
    "        30\t1-STORY 1945 & OLDER\n",
    "        40\t1-STORY W/FINISHED ATTIC ALL AGES\n",
    "        45\t1-1/2 STORY - UNFINISHED ALL AGES\n",
    "        50\t1-1/2 STORY FINISHED ALL AGES\n",
    "        60\t2-STORY 1946 & NEWER\n",
    "        70\t2-STORY 1945 & OLDER\n",
    "        75\t2-1/2 STORY ALL AGES\n",
    "        80\tSPLIT OR MULTI-LEVEL\n",
    "        85\tSPLIT FOYER\n",
    "        90\tDUPLEX - ALL STYLES AND AGES\n",
    "       120\t1-STORY PUD (Planned Unit Development) - 1946 & NEWER\n",
    "       150\t1-1/2 STORY PUD - ALL AGES\n",
    "       160\t2-STORY PUD - 1946 & NEWER\n",
    "       180\tPUD - MULTILEVEL - INCL SPLIT LEV/FOYER\n",
    "       190\t2 FAMILY CONVERSION - ALL STYLES AND AGES"
   ]
  },
  {
   "cell_type": "code",
   "execution_count": 10,
   "metadata": {
    "scrolled": false
   },
   "outputs": [
    {
     "data": {
      "text/plain": [
       "20     536\n",
       "30      69\n",
       "40       4\n",
       "45      12\n",
       "50     144\n",
       "60     299\n",
       "70      60\n",
       "75      16\n",
       "80      58\n",
       "85      20\n",
       "90      52\n",
       "120     87\n",
       "160     63\n",
       "180     10\n",
       "190     30\n",
       "Name: MSSubClass, dtype: int64"
      ]
     },
     "execution_count": 10,
     "metadata": {},
     "output_type": "execute_result"
    }
   ],
   "source": [
    "RawData[\"MSSubClass\"].value_counts().sort_index()"
   ]
  },
  {
   "cell_type": "code",
   "execution_count": 11,
   "metadata": {},
   "outputs": [],
   "source": [
    "RawData[\"BuildingClass\"] = RawData[\"MSSubClass\"].map({\n",
    "    20 : \"1_story_1946\",\n",
    "    30 : \"1_story_1945\",\n",
    "    40 : \"1_story_finished_attic\",\n",
    "    45 : \"1_5-story_unfinished\",\n",
    "    50 : \"1_5-story_finished\",\n",
    "    60 : \"2_story_1946\",\n",
    "    70 : \"2_story_1945\",\n",
    "    75 : \"2_5_story\",\n",
    "    80 : \"Split_multilevel\",\n",
    "    85 : \"Split_foyer\",\n",
    "    90 : \"Duplex\",\n",
    "    120: \"1_story_PUD_1946\",\n",
    "    150: \"1_5_story_PUD\",\n",
    "    160: \"2_story_PUD\",\n",
    "    180: \"PUD_multilevel\",\n",
    "    190: \"2_Family_Conersion\"\n",
    "})"
   ]
  },
  {
   "cell_type": "code",
   "execution_count": 12,
   "metadata": {},
   "outputs": [],
   "source": [
    "RawData[\"SplitLevel\"] = RawData[\"MSSubClass\"].apply(lambda x: 1 if (x == 80 or x == 85) else 0)"
   ]
  },
  {
   "cell_type": "code",
   "execution_count": 13,
   "metadata": {
    "scrolled": true
   },
   "outputs": [
    {
     "data": {
      "text/plain": [
       "0    1382\n",
       "1      78\n",
       "Name: SplitLevel, dtype: int64"
      ]
     },
     "execution_count": 13,
     "metadata": {},
     "output_type": "execute_result"
    }
   ],
   "source": [
    "RawData[\"SplitLevel\"].value_counts()"
   ]
  },
  {
   "cell_type": "code",
   "execution_count": 14,
   "metadata": {},
   "outputs": [],
   "source": [
    "RawData.drop(\"MSSubClass\", axis = 1, inplace = True)"
   ]
  },
  {
   "cell_type": "markdown",
   "metadata": {},
   "source": [
    "YearBuilt: Original construction date"
   ]
  },
  {
   "cell_type": "code",
   "execution_count": 15,
   "metadata": {
    "scrolled": true
   },
   "outputs": [
    {
     "data": {
      "text/plain": [
       "count    1460.000000\n",
       "mean     1971.267808\n",
       "std        30.202904\n",
       "min      1872.000000\n",
       "25%      1954.000000\n",
       "50%      1973.000000\n",
       "75%      2000.000000\n",
       "max      2010.000000\n",
       "Name: YearBuilt, dtype: float64"
      ]
     },
     "execution_count": 15,
     "metadata": {},
     "output_type": "execute_result"
    }
   ],
   "source": [
    "RawData[\"YearBuilt\"].describe()"
   ]
  },
  {
   "cell_type": "code",
   "execution_count": 16,
   "metadata": {},
   "outputs": [
    {
     "data": {
      "text/plain": [
       "count     388.000000\n",
       "mean     2004.737113\n",
       "std         2.338966\n",
       "min      2000.000000\n",
       "25%      2003.000000\n",
       "50%      2005.000000\n",
       "75%      2006.000000\n",
       "max      2010.000000\n",
       "Name: YearBuilt, dtype: float64"
      ]
     },
     "execution_count": 16,
     "metadata": {},
     "output_type": "execute_result"
    }
   ],
   "source": [
    "RawData[RawData[\"YearBuilt\"] >= 2000][\"YearBuilt\"].describe()"
   ]
  },
  {
   "cell_type": "code",
   "execution_count": 17,
   "metadata": {
    "scrolled": false
   },
   "outputs": [
    {
     "data": {
      "image/png": "[encoded data removed]",
      "text/plain": [
       "<Figure size 504x504 with 1 Axes>"
      ]
     },
     "metadata": {
      "needs_background": "light"
     },
     "output_type": "display_data"
    }
   ],
   "source": [
    "ShowSimpleHist(RawData[\"YearBuilt\"])"
   ]
  },
  {
   "cell_type": "code",
   "execution_count": 18,
   "metadata": {},
   "outputs": [],
   "source": [
    "def ShowSimpleScatterRelation(DataSeries_X, DataSeries_Y, width = 5, height = 5):\n",
    "    import matplotlib.pyplot as plotter\n",
    "    %matplotlib inline\n",
    "\n",
    "    plotter.close(\"all\")\n",
    "    axes = plotter.figure(figsize = (width, height)).add_subplot(111)  # RowsColumnsIndex\n",
    "                                                        # Index starts upper left corner\n",
    "    axes.scatter(DataSeries_X, DataSeries_Y, s = 1, edgecolors = None)\n",
    "    plotter.show()"
   ]
  },
  {
   "cell_type": "code",
   "execution_count": 19,
   "metadata": {},
   "outputs": [
    {
     "data": {
      "image/png": "[encoded data removed]",
      "text/plain": [
       "<Figure size 720x720 with 1 Axes>"
      ]
     },
     "metadata": {
      "needs_background": "light"
     },
     "output_type": "display_data"
    }
   ],
   "source": [
    "ShowSimpleScatterRelation(RawData[\"YearBuilt\"], RawData[\"SalePrice\"], 10, 10)"
   ]
  },
  {
   "cell_type": "markdown",
   "metadata": {},
   "source": [
    "#### Create age groups by decade\n",
    "    0 :      - 1945  Historical builds\n",
    "    1 : 1946 - 1976 (Postwar boom to asbestos ban)\n",
    "    2 : 1977 - 2000\n",
    "    3 : 2000 - 2010 (Recent construction)"
   ]
  },
  {
   "cell_type": "code",
   "execution_count": 20,
   "metadata": {},
   "outputs": [],
   "source": [
    "#RawData[\"AgeGroup\"] = RawData[\"YearBuilt\"].apply(lambda x: 0 if x <= 1945 else 1 if x <= 1976 else 2 if x <= 2000 else 3)"
   ]
  },
  {
   "cell_type": "code",
   "execution_count": 21,
   "metadata": {
    "scrolled": false
   },
   "outputs": [],
   "source": [
    "#ShowSimpleHist(RawData[\"AgeGroup\"])"
   ]
  },
  {
   "cell_type": "markdown",
   "metadata": {},
   "source": [
    "YearRemodAdd: Remodel date (same as construction date if no remodeling or additions)"
   ]
  },
  {
   "cell_type": "code",
   "execution_count": 22,
   "metadata": {
    "scrolled": true
   },
   "outputs": [
    {
     "data": {
      "text/plain": [
       "count    1460.000000\n",
       "mean     1984.865753\n",
       "std        20.645407\n",
       "min      1950.000000\n",
       "25%      1967.000000\n",
       "50%      1994.000000\n",
       "75%      2004.000000\n",
       "max      2010.000000\n",
       "Name: YearRemodAdd, dtype: float64"
      ]
     },
     "execution_count": 22,
     "metadata": {},
     "output_type": "execute_result"
    }
   ],
   "source": [
    "RawData[\"YearRemodAdd\"].describe()"
   ]
  },
  {
   "cell_type": "code",
   "execution_count": 23,
   "metadata": {},
   "outputs": [
    {
     "data": {
      "image/png": "[encoded data removed]",
      "text/plain": [
       "<Figure size 504x504 with 1 Axes>"
      ]
     },
     "metadata": {
      "needs_background": "light"
     },
     "output_type": "display_data"
    }
   ],
   "source": [
    "ShowSimpleHist(RawData[\"YearRemodAdd\"])"
   ]
  },
  {
   "cell_type": "markdown",
   "metadata": {},
   "source": [
    "#### Create groups based on styling\n",
    "    0 :      - 1980 Outdated\n",
    "    1 : 1981 - 2000 Somewhat older\n",
    "    2 : 2001 - 2010 Contemporary"
   ]
  },
  {
   "cell_type": "code",
   "execution_count": 24,
   "metadata": {},
   "outputs": [],
   "source": [
    "RawData[\"Remodeled\"] = (RawData[\"YearBuilt\"] != RawData[\"YearRemodAdd\"])"
   ]
  },
  {
   "cell_type": "code",
   "execution_count": 25,
   "metadata": {},
   "outputs": [],
   "source": [
    "RawData[\"Styling\"] = RawData.loc[RawData[\"YearBuilt\"] > 1945, \"YearRemodAdd\"].apply(lambda x: 1 if x <= 1980 else 2 if x <= 2000 else 3)\n",
    "RawData.loc[RawData[\"YearBuilt\"] <= 1945, \"Styling\"] = 0"
   ]
  },
  {
   "cell_type": "code",
   "execution_count": 26,
   "metadata": {},
   "outputs": [
    {
     "data": {
      "image/png": "[encoded data removed]",
      "text/plain": [
       "<Figure size 504x504 with 1 Axes>"
      ]
     },
     "metadata": {
      "needs_background": "light"
     },
     "output_type": "display_data"
    }
   ],
   "source": [
    " ShowSimpleHist(RawData[\"Styling\"])"
   ]
  },
  {
   "cell_type": "code",
   "execution_count": 27,
   "metadata": {},
   "outputs": [],
   "source": [
    "# RawData[\"Styling\"].describe()"
   ]
  },
  {
   "cell_type": "markdown",
   "metadata": {},
   "source": [
    "MSZoning: Identifies the general zoning classification of the sale.\n",
    "\t\t\n",
    "       A\tAgriculture\n",
    "       C\tCommercial\n",
    "       FV\tFloating Village Residential\n",
    "       I\tIndustrial\n",
    "       RH\tResidential High Density\n",
    "       RL\tResidential Low Density\n",
    "       RP\tResidential Low Density Park \n",
    "       RM\tResidential Medium Density"
   ]
  },
  {
   "cell_type": "code",
   "execution_count": 28,
   "metadata": {
    "scrolled": false
   },
   "outputs": [
    {
     "data": {
      "image/png": "[encoded data removed]",
      "text/plain": [
       "<Figure size 504x504 with 1 Axes>"
      ]
     },
     "metadata": {
      "needs_background": "light"
     },
     "output_type": "display_data"
    }
   ],
   "source": [
    "ShowSimpleHist(RawData[\"MSZoning\"])"
   ]
  },
  {
   "cell_type": "markdown",
   "metadata": {},
   "source": [
    "> Not interested in industrial and commerical properties (which have a very different market than residential)"
   ]
  },
  {
   "cell_type": "code",
   "execution_count": 29,
   "metadata": {},
   "outputs": [],
   "source": [
    "RawData = RawData[RawData[\"MSZoning\"] != \"C (all)\"]"
   ]
  },
  {
   "cell_type": "code",
   "execution_count": 30,
   "metadata": {},
   "outputs": [
    {
     "name": "stderr",
     "output_type": "stream",
     "text": [
      "C:\\Anaconda3\\lib\\site-packages\\pandas\\core\\indexing.py:494: SettingWithCopyWarning: \n",
      "A value is trying to be set on a copy of a slice from a DataFrame.\n",
      "Try using .loc[row_indexer,col_indexer] = value instead\n",
      "\n",
      "See the caveats in the documentation: http://pandas.pydata.org/pandas-docs/stable/user_guide/indexing.html#returning-a-view-versus-a-copy\n",
      "  self.obj[item] = s\n"
     ]
    }
   ],
   "source": [
    "RawData.loc[:, \"MSZoning\"] = RawData[\"MSZoning\"].replace(\"RH\", \"RM\")"
   ]
  },
  {
   "cell_type": "markdown",
   "metadata": {},
   "source": [
    "LotFrontage: Linear feet of street connected to property\n"
   ]
  },
  {
   "cell_type": "code",
   "execution_count": 31,
   "metadata": {},
   "outputs": [
    {
     "data": {
      "text/plain": [
       "259"
      ]
     },
     "execution_count": 31,
     "metadata": {},
     "output_type": "execute_result"
    }
   ],
   "source": [
    "RawData[\"LotFrontage\"].isnull().sum()"
   ]
  },
  {
   "cell_type": "code",
   "execution_count": 32,
   "metadata": {
    "scrolled": false
   },
   "outputs": [
    {
     "data": {
      "text/plain": [
       "4426      3\n",
       "11250     3\n",
       "2117      3\n",
       "7750      3\n",
       "12155     2\n",
       "         ..\n",
       "16647     1\n",
       "164660    1\n",
       "4403      1\n",
       "16545     1\n",
       "12800     1\n",
       "Name: LotArea, Length: 235, dtype: int64"
      ]
     },
     "execution_count": 32,
     "metadata": {},
     "output_type": "execute_result"
    }
   ],
   "source": [
    "RawData[RawData[\"LotFrontage\"].isnull()][\"LotArea\"].value_counts()"
   ]
  },
  {
   "cell_type": "code",
   "execution_count": 33,
   "metadata": {},
   "outputs": [
    {
     "data": {
      "text/plain": [
       "NAmes      39\n",
       "Gilbert    30\n",
       "NWAmes     28\n",
       "Sawyer     26\n",
       "CollgCr    24\n",
       "ClearCr    15\n",
       "Mitchel    13\n",
       "Crawfor    10\n",
       "SawyerW     9\n",
       "Timber      8\n",
       "NoRidge     8\n",
       "Somerst     8\n",
       "Edwards     8\n",
       "BrkSide     7\n",
       "StoneBr     5\n",
       "Veenker     4\n",
       "OldTown     4\n",
       "IDOTRR      3\n",
       "Blmngtn     3\n",
       "MeadowV     2\n",
       "SWISU       2\n",
       "NPkVill     2\n",
       "NridgHt     1\n",
       "Name: Neighborhood, dtype: int64"
      ]
     },
     "execution_count": 33,
     "metadata": {},
     "output_type": "execute_result"
    }
   ],
   "source": [
    "RawData[RawData[\"LotFrontage\"].isnull()][\"Neighborhood\"].value_counts()"
   ]
  },
  {
   "cell_type": "code",
   "execution_count": 34,
   "metadata": {},
   "outputs": [
    {
     "data": {
      "text/plain": [
       "Blmngtn     4.666667\n",
       "Blueste          NaN\n",
       "BrDale           NaN\n",
       "BrkSide     7.285714\n",
       "ClearCr     0.866667\n",
       "CollgCr     5.250000\n",
       "Crawfor     4.100000\n",
       "Edwards    11.500000\n",
       "Gilbert     1.633333\n",
       "IDOTRR      8.333333\n",
       "MeadowV     7.500000\n",
       "Mitchel     2.769231\n",
       "NAmes       4.769231\n",
       "NPkVill     3.500000\n",
       "NWAmes      1.607143\n",
       "NoRidge     4.125000\n",
       "NridgHt    76.000000\n",
       "OldTown    27.000000\n",
       "SWISU      11.500000\n",
       "Sawyer      1.846154\n",
       "SawyerW     5.555556\n",
       "Somerst     9.750000\n",
       "StoneBr     4.000000\n",
       "Timber      3.750000\n",
       "Veenker     1.750000\n",
       "Name: Neighborhood, dtype: float64"
      ]
     },
     "execution_count": 34,
     "metadata": {},
     "output_type": "execute_result"
    }
   ],
   "source": [
    "RawData[RawData[\"LotFrontage\"].notnull()][\"Neighborhood\"].value_counts() / RawData[RawData[\"LotFrontage\"].isnull()][\"Neighborhood\"].value_counts()"
   ]
  },
  {
   "cell_type": "code",
   "execution_count": 35,
   "metadata": {},
   "outputs": [
    {
     "data": {
      "text/plain": [
       "1Story    128\n",
       "2Story     83\n",
       "SLvl       21\n",
       "1.5Fin     18\n",
       "SFoyer      7\n",
       "1.5Unf      1\n",
       "2.5Unf      1\n",
       "Name: HouseStyle, dtype: int64"
      ]
     },
     "execution_count": 35,
     "metadata": {},
     "output_type": "execute_result"
    }
   ],
   "source": [
    "RawData[RawData[\"LotFrontage\"].isnull()][\"HouseStyle\"].value_counts()"
   ]
  },
  {
   "cell_type": "code",
   "execution_count": 36,
   "metadata": {
    "scrolled": true
   },
   "outputs": [],
   "source": [
    "#ShowSimpleScatter(RawData[\"LotFrontage\"] / RawData[\"LotArea\"], 10, 10)"
   ]
  },
  {
   "cell_type": "code",
   "execution_count": 37,
   "metadata": {
    "scrolled": true
   },
   "outputs": [],
   "source": [
    "temp = RawData[RawData[\"LotFrontage\"].isnull()][[\"Id\", \"Neighborhood\", \"HouseStyle\"]]\n",
    "\n",
    "for rowData in temp.itertuples(index = True):\n",
    "    #print(RawData.iloc[rowData.Index, :])\n",
    "    #print(rowData)\n",
    "    #print(RawData.loc[(RawData[\"Neighborhood\"] == rowData[1]) & (RawData[\"HouseStyle\"] == rowData[2]), \"LotFrontage\"].mean())\n",
    "    #RawData.iloc[rowData.Index, np.where(RawData.columns.values == \"LotFrontage\")[0][0]] = RawData.loc[(RawData[\"Neighborhood\"] == rowData[1]) & (RawData[\"HouseStyle\"] == rowData[2]), \"LotFrontage\"].mean()\n",
    "    #RawData.loc[(RawData[\"Id\"] == rowData[\"Id\"]), np.where(RawData.columns.values == \"LotFrontage\")[0][0]] = RawData.loc[(RawData[\"Neighborhood\"] == rowData[2]) & (RawData[\"HouseStyle\"] == rowData[3]), \"LotFrontage\"].mean()\n",
    "    RawData.loc[(RawData[\"Neighborhood\"] == rowData[2]) & (RawData[\"HouseStyle\"] == rowData[3]) & (RawData[\"LotFrontage\"].isnull()), \"LotFrontage\"] = RawData.loc[(RawData[\"Neighborhood\"] == rowData[2]) & (RawData[\"HouseStyle\"] == rowData[3]), \"LotFrontage\"].mean()"
   ]
  },
  {
   "cell_type": "code",
   "execution_count": 38,
   "metadata": {},
   "outputs": [],
   "source": [
    "#RawData.iloc[12, 3] = 1"
   ]
  },
  {
   "cell_type": "code",
   "execution_count": 39,
   "metadata": {},
   "outputs": [],
   "source": [
    "#RawData.iloc[10:35, 0:15]"
   ]
  },
  {
   "cell_type": "code",
   "execution_count": 40,
   "metadata": {},
   "outputs": [],
   "source": [
    "#RawData[(RawData[\"Neighborhood\"] == \"Sawyer\") & (RawData[\"HouseStyle\"] == \"1Story\")][\"LotFrontage\"]"
   ]
  },
  {
   "cell_type": "code",
   "execution_count": 41,
   "metadata": {},
   "outputs": [
    {
     "data": {
      "text/plain": [
       "4"
      ]
     },
     "execution_count": 41,
     "metadata": {},
     "output_type": "execute_result"
    }
   ],
   "source": [
    "RawData[\"LotFrontage\"].isnull().sum()"
   ]
  },
  {
   "cell_type": "code",
   "execution_count": 42,
   "metadata": {
    "scrolled": true
   },
   "outputs": [],
   "source": [
    "temp = RawData[RawData[\"LotFrontage\"].isnull()][[\"Id\", \"Neighborhood\"]]\n",
    "\n",
    "for rowData in temp.itertuples(index = True):\n",
    "    #print(RawData.iloc[rowData.Index, :])\n",
    "    #print(rowData)\n",
    "    #print(RawData.loc[(RawData[\"Neighborhood\"] == rowData[1]) & (RawData[\"HouseStyle\"] == rowData[2]), \"LotFrontage\"].mean())\n",
    "    #RawData.iloc[rowData.Index, np.where(RawData.columns.values == \"LotFrontage\")[0][0]] = RawData.loc[(RawData[\"Neighborhood\"] == rowData[1]) & (RawData[\"HouseStyle\"] == rowData[2]), \"LotFrontage\"].mean()\n",
    "    #RawData.loc[(RawData[\"Id\"] == rowData[\"Id\"]), np.where(RawData.columns.values == \"LotFrontage\")[0][0]] = RawData.loc[(RawData[\"Neighborhood\"] == rowData[2]) & (RawData[\"HouseStyle\"] == rowData[3]), \"LotFrontage\"].mean()\n",
    "    RawData.loc[(RawData[\"Neighborhood\"] == rowData[2]) & (RawData[\"LotFrontage\"].isnull()), \"LotFrontage\"] = RawData.loc[(RawData[\"Neighborhood\"] == rowData[2]), \"LotFrontage\"].mean()"
   ]
  },
  {
   "cell_type": "code",
   "execution_count": 43,
   "metadata": {},
   "outputs": [
    {
     "data": {
      "text/plain": [
       "0"
      ]
     },
     "execution_count": 43,
     "metadata": {},
     "output_type": "execute_result"
    }
   ],
   "source": [
    "RawData[\"LotFrontage\"].isnull().sum()"
   ]
  },
  {
   "cell_type": "code",
   "execution_count": null,
   "metadata": {},
   "outputs": [],
   "source": []
  },
  {
   "cell_type": "code",
   "execution_count": null,
   "metadata": {},
   "outputs": [],
   "source": []
  },
  {
   "cell_type": "code",
   "execution_count": 44,
   "metadata": {},
   "outputs": [],
   "source": [
    "def ShowSimpleScatter(DataSeries, width = 5, height = 5):\n",
    "    import matplotlib.pyplot as plotter\n",
    "    %matplotlib inline\n",
    "\n",
    "    plotter.close(\"all\")\n",
    "    axes = plotter.figure(figsize = (width, height)).add_subplot(111)  # RowsColumnsIndex\n",
    "                                                        # Index starts upper left corner\n",
    "    x_data = list(range(len(DataSeries)))\n",
    "    axes.scatter(x_data, DataSeries, s = 1, edgecolors = None)\n",
    "    plotter.show()"
   ]
  },
  {
   "cell_type": "markdown",
   "metadata": {},
   "source": [
    "LotArea: Lot size in square feet"
   ]
  },
  {
   "cell_type": "markdown",
   "metadata": {},
   "source": [
    "Street: Type of road access to property\n",
    "\n",
    "       Grvl\tGravel\t\n",
    "       Pave\tPaved"
   ]
  },
  {
   "cell_type": "code",
   "execution_count": 45,
   "metadata": {
    "scrolled": true
   },
   "outputs": [
    {
     "data": {
      "text/plain": [
       "array(['Pave', 'Grvl'], dtype=object)"
      ]
     },
     "execution_count": 45,
     "metadata": {},
     "output_type": "execute_result"
    }
   ],
   "source": [
    "RawData[\"Street\"].unique()"
   ]
  },
  {
   "cell_type": "code",
   "execution_count": 46,
   "metadata": {},
   "outputs": [
    {
     "name": "stderr",
     "output_type": "stream",
     "text": [
      "C:\\Anaconda3\\lib\\site-packages\\ipykernel_launcher.py:1: SettingWithCopyWarning: \n",
      "A value is trying to be set on a copy of a slice from a DataFrame.\n",
      "Try using .loc[row_indexer,col_indexer] = value instead\n",
      "\n",
      "See the caveats in the documentation: http://pandas.pydata.org/pandas-docs/stable/user_guide/indexing.html#returning-a-view-versus-a-copy\n",
      "  \"\"\"Entry point for launching an IPython kernel.\n"
     ]
    }
   ],
   "source": [
    "RawData[\"StreetPaving\"] = RawData[\"Street\"].apply(lambda x: 1 if x == \"Pave\" else 0)"
   ]
  },
  {
   "cell_type": "markdown",
   "metadata": {},
   "source": [
    "Alley: Type of alley access to property\n",
    "\n",
    "       Grvl\tGravel\n",
    "       Pave\tPaved\n",
    "       NA \tNo alley access"
   ]
  },
  {
   "cell_type": "code",
   "execution_count": 47,
   "metadata": {},
   "outputs": [
    {
     "data": {
      "text/plain": [
       "array([nan, 'Grvl', 'Pave'], dtype=object)"
      ]
     },
     "execution_count": 47,
     "metadata": {},
     "output_type": "execute_result"
    }
   ],
   "source": [
    "RawData[\"Alley\"].unique()"
   ]
  },
  {
   "cell_type": "code",
   "execution_count": 48,
   "metadata": {},
   "outputs": [
    {
     "name": "stderr",
     "output_type": "stream",
     "text": [
      "C:\\Anaconda3\\lib\\site-packages\\ipykernel_launcher.py:1: SettingWithCopyWarning: \n",
      "A value is trying to be set on a copy of a slice from a DataFrame.\n",
      "Try using .loc[row_indexer,col_indexer] = value instead\n",
      "\n",
      "See the caveats in the documentation: http://pandas.pydata.org/pandas-docs/stable/user_guide/indexing.html#returning-a-view-versus-a-copy\n",
      "  \"\"\"Entry point for launching an IPython kernel.\n"
     ]
    }
   ],
   "source": [
    "RawData[\"AlleyAccess\"] = RawData[\"Alley\"].notnull().astype(\"uint8\")"
   ]
  },
  {
   "cell_type": "markdown",
   "metadata": {},
   "source": [
    "LotShape: General shape of property\n",
    "\n",
    "       Reg\tRegular\t\n",
    "       IR1\tSlightly irregular\n",
    "       IR2\tModerately Irregular\n",
    "       IR3\tIrregular"
   ]
  },
  {
   "cell_type": "code",
   "execution_count": 49,
   "metadata": {},
   "outputs": [
    {
     "name": "stderr",
     "output_type": "stream",
     "text": [
      "C:\\Anaconda3\\lib\\site-packages\\pandas\\core\\indexing.py:376: SettingWithCopyWarning: \n",
      "A value is trying to be set on a copy of a slice from a DataFrame.\n",
      "Try using .loc[row_indexer,col_indexer] = value instead\n",
      "\n",
      "See the caveats in the documentation: http://pandas.pydata.org/pandas-docs/stable/user_guide/indexing.html#returning-a-view-versus-a-copy\n",
      "  self.obj[key] = _infer_fill_value(value)\n"
     ]
    }
   ],
   "source": [
    "RawData.loc[:, \"LotShapeRegularity\"] = RawData[\"LotShape\"].map({\n",
    "    \"Reg\" : 0,\n",
    "    \"IR1\" : 1,\n",
    "    \"IR2\" : 2,\n",
    "    \"IR3\" : 3,\n",
    "}).astype(\"uint8\")"
   ]
  },
  {
   "cell_type": "markdown",
   "metadata": {},
   "source": [
    "LandContour: Flatness of the property\n",
    "\n",
    "       Lvl\tNear Flat/Level\t\n",
    "       Bnk\tBanked - Quick and significant rise from street grade to building\n",
    "       HLS\tHillside - Significant slope from side to side\n",
    "       Low\tDepression"
   ]
  },
  {
   "cell_type": "code",
   "execution_count": 50,
   "metadata": {},
   "outputs": [
    {
     "data": {
      "text/plain": [
       "array(['Lvl', 'Bnk', 'Low', 'HLS'], dtype=object)"
      ]
     },
     "execution_count": 50,
     "metadata": {},
     "output_type": "execute_result"
    }
   ],
   "source": [
    "RawData[\"LandContour\"].unique()"
   ]
  },
  {
   "cell_type": "code",
   "execution_count": 51,
   "metadata": {},
   "outputs": [
    {
     "name": "stderr",
     "output_type": "stream",
     "text": [
      "C:\\Anaconda3\\lib\\site-packages\\ipykernel_launcher.py:1: SettingWithCopyWarning: \n",
      "A value is trying to be set on a copy of a slice from a DataFrame.\n",
      "Try using .loc[row_indexer,col_indexer] = value instead\n",
      "\n",
      "See the caveats in the documentation: http://pandas.pydata.org/pandas-docs/stable/user_guide/indexing.html#returning-a-view-versus-a-copy\n",
      "  \"\"\"Entry point for launching an IPython kernel.\n"
     ]
    }
   ],
   "source": [
    "RawData[\"Hills\"] = RawData[\"LandContour\"].apply(lambda x: 0 if (x == \"lvl\") else -1 if (x == \"Low\") else 1)"
   ]
  },
  {
   "cell_type": "markdown",
   "metadata": {},
   "source": [
    "Utilities: Type of utilities available\n",
    "\t\t\n",
    "       AllPub\tAll public Utilities (E,G,W,& S)\t\n",
    "       NoSewr\tElectricity, Gas, and Water (Septic Tank)\n",
    "       NoSeWa\tElectricity and Gas Only\n",
    "       ELO\tElectricity only"
   ]
  },
  {
   "cell_type": "code",
   "execution_count": 52,
   "metadata": {},
   "outputs": [
    {
     "data": {
      "text/plain": [
       "array(['AllPub', 'NoSeWa'], dtype=object)"
      ]
     },
     "execution_count": 52,
     "metadata": {},
     "output_type": "execute_result"
    }
   ],
   "source": [
    "RawData[\"Utilities\"].unique()"
   ]
  },
  {
   "cell_type": "code",
   "execution_count": 53,
   "metadata": {},
   "outputs": [],
   "source": [
    "RawData.loc[:, \"Utility-All\"] = RawData[\"Utilities\"] == \"AllPub\""
   ]
  },
  {
   "cell_type": "markdown",
   "metadata": {},
   "source": [
    "LotConfig: Lot configuration\n",
    "\n",
    "       Inside\tInside lot\n",
    "       Corner\tCorner lot\n",
    "       CulDSac\tCul-de-sac\n",
    "       FR2\tFrontage on 2 sides of property\n",
    "       FR3\tFrontage on 3 sides of property"
   ]
  },
  {
   "cell_type": "code",
   "execution_count": 54,
   "metadata": {},
   "outputs": [
    {
     "data": {
      "text/plain": [
       "Inside     1044\n",
       "Corner      261\n",
       "CulDSac      94\n",
       "FR2          47\n",
       "FR3           4\n",
       "Name: LotConfig, dtype: int64"
      ]
     },
     "execution_count": 54,
     "metadata": {},
     "output_type": "execute_result"
    }
   ],
   "source": [
    "RawData[\"LotConfig\"].value_counts()"
   ]
  },
  {
   "cell_type": "code",
   "execution_count": 55,
   "metadata": {},
   "outputs": [],
   "source": [
    "RawData.loc[: ,\"LotAccessibility\"] = RawData[\"LotConfig\"].apply(lambda x: \"Corner\" if (x == \"FR2\" or x == \"FR3\") else x)"
   ]
  },
  {
   "cell_type": "markdown",
   "metadata": {},
   "source": [
    "LandSlope: Slope of property\n",
    "\t\t\n",
    "       Gtl\tGentle slope\n",
    "       Mod\tModerate Slope\t\n",
    "       Sev\tSevere Slope"
   ]
  },
  {
   "cell_type": "code",
   "execution_count": 56,
   "metadata": {
    "scrolled": true
   },
   "outputs": [
    {
     "data": {
      "text/plain": [
       "array(['Gtl', 'Mod', 'Sev'], dtype=object)"
      ]
     },
     "execution_count": 56,
     "metadata": {},
     "output_type": "execute_result"
    }
   ],
   "source": [
    "RawData[\"LandSlope\"].unique()"
   ]
  },
  {
   "cell_type": "code",
   "execution_count": 57,
   "metadata": {},
   "outputs": [
    {
     "name": "stderr",
     "output_type": "stream",
     "text": [
      "C:\\Anaconda3\\lib\\site-packages\\ipykernel_launcher.py:4: SettingWithCopyWarning: \n",
      "A value is trying to be set on a copy of a slice from a DataFrame.\n",
      "Try using .loc[row_indexer,col_indexer] = value instead\n",
      "\n",
      "See the caveats in the documentation: http://pandas.pydata.org/pandas-docs/stable/user_guide/indexing.html#returning-a-view-versus-a-copy\n",
      "  after removing the cwd from sys.path.\n"
     ]
    }
   ],
   "source": [
    "RawData[\"LandGrading\"] = RawData[\"LandSlope\"].map({\n",
    "    \"Gtl\" : 0,\n",
    "    \"Mod\" : 1,\n",
    "    \"Sev\" : 2,\n",
    "})"
   ]
  },
  {
   "cell_type": "markdown",
   "metadata": {},
   "source": [
    "Neighborhood: Physical locations within Ames city limits\n",
    "\n",
    "       Blmngtn\tBloomington Heights\n",
    "       Blueste\tBluestem\n",
    "       BrDale\tBriardale\n",
    "       BrkSide\tBrookside\n",
    "       ClearCr\tClear Creek\n",
    "       CollgCr\tCollege Creek\n",
    "       Crawfor\tCrawford\n",
    "       Edwards\tEdwards\n",
    "       Gilbert\tGilbert\n",
    "       IDOTRR\tIowa DOT and Rail Road\n",
    "       MeadowV\tMeadow Village\n",
    "       Mitchel\tMitchell\n",
    "       Names\tNorth Ames\n",
    "       NoRidge\tNorthridge\n",
    "       NPkVill\tNorthpark Villa\n",
    "       NridgHt\tNorthridge Heights\n",
    "       NWAmes\tNorthwest Ames\n",
    "       OldTown\tOld Town\n",
    "       SWISU\tSouth & West of Iowa State University\n",
    "       Sawyer\tSawyer\n",
    "       SawyerW\tSawyer West\n",
    "       Somerst\tSomerset\n",
    "       StoneBr\tStone Brook\n",
    "       Timber\tTimberland\n",
    "       Veenker\tVeenker"
   ]
  },
  {
   "cell_type": "code",
   "execution_count": 58,
   "metadata": {},
   "outputs": [
    {
     "data": {
      "text/plain": [
       "0     Blmngtn\n",
       "1     Blueste\n",
       "2      BrDale\n",
       "3     BrkSide\n",
       "4     ClearCr\n",
       "5     CollgCr\n",
       "6     Crawfor\n",
       "7     Edwards\n",
       "8     Gilbert\n",
       "9      IDOTRR\n",
       "10    MeadowV\n",
       "11    Mitchel\n",
       "12      NAmes\n",
       "13    NPkVill\n",
       "14     NWAmes\n",
       "15    NoRidge\n",
       "16    NridgHt\n",
       "17    OldTown\n",
       "18      SWISU\n",
       "19     Sawyer\n",
       "20    SawyerW\n",
       "21    Somerst\n",
       "22    StoneBr\n",
       "23     Timber\n",
       "24    Veenker\n",
       "dtype: object"
      ]
     },
     "execution_count": 58,
     "metadata": {},
     "output_type": "execute_result"
    }
   ],
   "source": [
    "pd.Series(np.sort(RawData[\"Neighborhood\"].unique()))"
   ]
  },
  {
   "cell_type": "code",
   "execution_count": 59,
   "metadata": {},
   "outputs": [
    {
     "data": {
      "text/plain": [
       "NAmes      225\n",
       "CollgCr    150\n",
       "OldTown    112\n",
       "Edwards    100\n",
       "Somerst     86\n",
       "Gilbert     79\n",
       "NridgHt     77\n",
       "Sawyer      74\n",
       "NWAmes      73\n",
       "SawyerW     59\n",
       "BrkSide     58\n",
       "Crawfor     51\n",
       "Mitchel     49\n",
       "NoRidge     41\n",
       "Timber      38\n",
       "ClearCr     28\n",
       "IDOTRR      28\n",
       "StoneBr     25\n",
       "SWISU       25\n",
       "Blmngtn     17\n",
       "MeadowV     17\n",
       "BrDale      16\n",
       "Veenker     11\n",
       "NPkVill      9\n",
       "Blueste      2\n",
       "Name: Neighborhood, dtype: int64"
      ]
     },
     "execution_count": 59,
     "metadata": {},
     "output_type": "execute_result"
    }
   ],
   "source": [
    "RawData[\"Neighborhood\"].value_counts()"
   ]
  },
  {
   "cell_type": "markdown",
   "metadata": {},
   "source": [
    "Condition1: Proximity to various conditions\n",
    "\t\n",
    "       Artery\tAdjacent to arterial street\n",
    "       Feedr\tAdjacent to feeder street\t\n",
    "       Norm\tNormal\t\n",
    "       RRNn\tWithin 200' of North-South Railroad\n",
    "       RRAn\tAdjacent to North-South Railroad\n",
    "       PosN\tNear positive off-site feature--park, greenbelt, etc.\n",
    "       PosA\tAdjacent to postive off-site feature\n",
    "       RRNe\tWithin 200' of East-West Railroad\n",
    "       RRAe\tAdjacent to East-West Railroad"
   ]
  },
  {
   "cell_type": "code",
   "execution_count": 60,
   "metadata": {},
   "outputs": [
    {
     "data": {
      "text/plain": [
       "Norm      1252\n",
       "Feedr       79\n",
       "Artery      48\n",
       "RRAn        26\n",
       "PosN        19\n",
       "RRAe        11\n",
       "PosA         8\n",
       "RRNn         5\n",
       "RRNe         2\n",
       "Name: Condition1, dtype: int64"
      ]
     },
     "execution_count": 60,
     "metadata": {},
     "output_type": "execute_result"
    }
   ],
   "source": [
    "RawData[\"Condition1\"].value_counts()"
   ]
  },
  {
   "cell_type": "code",
   "execution_count": 61,
   "metadata": {},
   "outputs": [],
   "source": [
    "RawData.loc[:, \"OtherConditions\"] = RawData[\"Condition1\"].map({\n",
    "    \"Norm\" : \"None\",\n",
    "    \"Feedr\": \"FeederStreet\",\n",
    "    \"Artery\" : \"MajorStreet\",\n",
    "    \"RRAn\" : \"Railroad\",\n",
    "    \"RRAe\" : \"Railroad\",\n",
    "    \"RRNn\" : \"Railroad\",\n",
    "    \"RRNe\" : \"Railroad\",\n",
    "    \"PosN\" : \"Parks\",\n",
    "    \"PosA\" : \"Parks\",\n",
    "})"
   ]
  },
  {
   "cell_type": "markdown",
   "metadata": {},
   "source": [
    "Condition2: Proximity to various conditions (if more than one is present)\n",
    "\t\t\n",
    "       Artery\tAdjacent to arterial street\n",
    "       Feedr\tAdjacent to feeder street\t\n",
    "       Norm\tNormal\t\n",
    "       RRNn\tWithin 200' of North-South Railroad\n",
    "       RRAn\tAdjacent to North-South Railroad\n",
    "       PosN\tNear positive off-site feature--park, greenbelt, etc.\n",
    "       PosA\tAdjacent to postive off-site feature\n",
    "       RRNe\tWithin 200' of East-West Railroad\n",
    "       RRAe\tAdjacent to East-West Railroad"
   ]
  },
  {
   "cell_type": "code",
   "execution_count": 62,
   "metadata": {},
   "outputs": [
    {
     "data": {
      "text/plain": [
       "Norm      1436\n",
       "Feedr        5\n",
       "RRNn         2\n",
       "PosN         2\n",
       "Artery       2\n",
       "RRAe         1\n",
       "PosA         1\n",
       "RRAn         1\n",
       "Name: Condition2, dtype: int64"
      ]
     },
     "execution_count": 62,
     "metadata": {},
     "output_type": "execute_result"
    }
   ],
   "source": [
    "RawData[\"Condition2\"].value_counts()"
   ]
  },
  {
   "cell_type": "markdown",
   "metadata": {},
   "source": [
    "BldgType: Type of dwelling\n",
    "\t\t\n",
    "       1Fam\tSingle-family Detached\t\n",
    "       2FmCon\tTwo-family Conversion; originally built as one-family dwelling\n",
    "       Duplx\tDuplex\n",
    "       TwnhsE\tTownhouse End Unit\n",
    "       TwnhsI\tTownhouse Inside Unit"
   ]
  },
  {
   "cell_type": "code",
   "execution_count": 63,
   "metadata": {},
   "outputs": [
    {
     "name": "stderr",
     "output_type": "stream",
     "text": [
      "C:\\Anaconda3\\lib\\site-packages\\ipykernel_launcher.py:1: SettingWithCopyWarning: \n",
      "A value is trying to be set on a copy of a slice from a DataFrame.\n",
      "Try using .loc[row_indexer,col_indexer] = value instead\n",
      "\n",
      "See the caveats in the documentation: http://pandas.pydata.org/pandas-docs/stable/user_guide/indexing.html#returning-a-view-versus-a-copy\n",
      "  \"\"\"Entry point for launching an IPython kernel.\n"
     ]
    }
   ],
   "source": [
    "RawData.loc[:, \"BuildingType\"] = RawData[\"BldgType\"].replace(\"2FmCon\", \"Duplx\")"
   ]
  },
  {
   "cell_type": "markdown",
   "metadata": {},
   "source": [
    "HouseStyle: Style of dwelling\n",
    "\t\n",
    "       1Story\tOne story\n",
    "       1.5Fin\tOne and one-half story: 2nd level finished\n",
    "       1.5Unf\tOne and one-half story: 2nd level unfinished\n",
    "       2Story\tTwo story\n",
    "       2.5Fin\tTwo and one-half story: 2nd level finished\n",
    "       2.5Unf\tTwo and one-half story: 2nd level unfinished\n",
    "       SFoyer\tSplit Foyer\n",
    "       SLvl\tSplit Level"
   ]
  },
  {
   "cell_type": "code",
   "execution_count": 64,
   "metadata": {
    "scrolled": true
   },
   "outputs": [
    {
     "data": {
      "text/plain": [
       "1Story    722\n",
       "2Story    444\n",
       "1.5Fin    150\n",
       "SLvl       65\n",
       "SFoyer     37\n",
       "1.5Unf     14\n",
       "2.5Unf     10\n",
       "2.5Fin      8\n",
       "Name: HouseStyle, dtype: int64"
      ]
     },
     "execution_count": 64,
     "metadata": {},
     "output_type": "execute_result"
    }
   ],
   "source": [
    "RawData[\"HouseStyle\"].value_counts()"
   ]
  },
  {
   "cell_type": "code",
   "execution_count": 65,
   "metadata": {},
   "outputs": [],
   "source": [
    "RawData.loc[:, \"Floors\"] = RawData[\"HouseStyle\"].replace([\"2.5Fin\", \"2.5Unf\"], \"2Story\").replace([\"1.5Unf\", \"1.5Fin\"], \"1.5\")"
   ]
  },
  {
   "cell_type": "code",
   "execution_count": 66,
   "metadata": {},
   "outputs": [
    {
     "data": {
      "text/plain": [
       "1Story    722\n",
       "2Story    462\n",
       "1.5       164\n",
       "SLvl       65\n",
       "SFoyer     37\n",
       "Name: Floors, dtype: int64"
      ]
     },
     "execution_count": 66,
     "metadata": {},
     "output_type": "execute_result"
    }
   ],
   "source": [
    "RawData[\"Floors\"].value_counts()"
   ]
  },
  {
   "cell_type": "code",
   "execution_count": 67,
   "metadata": {},
   "outputs": [],
   "source": [
    "RawData.loc[:, \"SplitFloors\"] = ((RawData[\"HouseStyle\"] == \"SLvl\") | (RawData[\"HouseStyle\"] == \"SFoyer\")).astype(\"uint8\")"
   ]
  },
  {
   "cell_type": "markdown",
   "metadata": {},
   "source": [
    "OverallQual: Rates the overall material and finish of the house\n",
    "\n",
    "       10\tVery Excellent\n",
    "       9\tExcellent\n",
    "       8\tVery Good\n",
    "       7\tGood\n",
    "       6\tAbove Average\n",
    "       5\tAverage\n",
    "       4\tBelow Average\n",
    "       3\tFair\n",
    "       2\tPoor\n",
    "       1\tVery Poor"
   ]
  },
  {
   "cell_type": "code",
   "execution_count": 68,
   "metadata": {},
   "outputs": [
    {
     "data": {
      "text/plain": [
       "count    1450.000000\n",
       "mean        6.114483\n",
       "std         1.372860\n",
       "min         1.000000\n",
       "25%         5.000000\n",
       "50%         6.000000\n",
       "75%         7.000000\n",
       "max        10.000000\n",
       "Name: OverallQual, dtype: float64"
      ]
     },
     "execution_count": 68,
     "metadata": {},
     "output_type": "execute_result"
    }
   ],
   "source": [
    "RawData[\"OverallQual\"].describe()"
   ]
  },
  {
   "cell_type": "markdown",
   "metadata": {},
   "source": [
    "OverallCond: Rates the overall condition of the house\n",
    "\n",
    "       10\tVery Excellent\n",
    "       9\tExcellent\n",
    "       8\tVery Good\n",
    "       7\tGood\n",
    "       6\tAbove Average\t\n",
    "       5\tAverage\n",
    "       4\tBelow Average\t\n",
    "       3\tFair\n",
    "       2\tPoor\n",
    "       1\tVery Poor"
   ]
  },
  {
   "cell_type": "code",
   "execution_count": 69,
   "metadata": {},
   "outputs": [
    {
     "data": {
      "text/plain": [
       "count    1450.000000\n",
       "mean        5.582069\n",
       "std         1.107330\n",
       "min         1.000000\n",
       "25%         5.000000\n",
       "50%         5.000000\n",
       "75%         6.000000\n",
       "max         9.000000\n",
       "Name: OverallCond, dtype: float64"
      ]
     },
     "execution_count": 69,
     "metadata": {},
     "output_type": "execute_result"
    }
   ],
   "source": [
    "RawData[\"OverallCond\"].describe()"
   ]
  },
  {
   "cell_type": "markdown",
   "metadata": {},
   "source": [
    "RoofStyle: Type of roof\n",
    "\n",
    "       Flat\tFlat\n",
    "       Gable\tGable\n",
    "       Gambrel\tGabrel (Barn)\n",
    "       Hip\tHip\n",
    "       Mansard\tMansard\n",
    "       Shed\tShed"
   ]
  },
  {
   "cell_type": "code",
   "execution_count": 70,
   "metadata": {
    "scrolled": true
   },
   "outputs": [
    {
     "data": {
      "text/plain": [
       "Gable      1135\n",
       "Hip         283\n",
       "Flat         13\n",
       "Gambrel      10\n",
       "Mansard       7\n",
       "Shed          2\n",
       "Name: RoofStyle, dtype: int64"
      ]
     },
     "execution_count": 70,
     "metadata": {},
     "output_type": "execute_result"
    }
   ],
   "source": [
    "RawData[\"RoofStyle\"].value_counts()"
   ]
  },
  {
   "cell_type": "code",
   "execution_count": 71,
   "metadata": {},
   "outputs": [
    {
     "name": "stderr",
     "output_type": "stream",
     "text": [
      "C:\\Anaconda3\\lib\\site-packages\\ipykernel_launcher.py:1: SettingWithCopyWarning: \n",
      "A value is trying to be set on a copy of a slice from a DataFrame.\n",
      "Try using .loc[row_indexer,col_indexer] = value instead\n",
      "\n",
      "See the caveats in the documentation: http://pandas.pydata.org/pandas-docs/stable/user_guide/indexing.html#returning-a-view-versus-a-copy\n",
      "  \"\"\"Entry point for launching an IPython kernel.\n"
     ]
    }
   ],
   "source": [
    "RawData[\"RoofType\"] = RawData[\"RoofStyle\"].replace([\"Flat\", \"Gambrel\", \"Mansard\", \"Shed\"], \"Other\")"
   ]
  },
  {
   "cell_type": "code",
   "execution_count": 72,
   "metadata": {},
   "outputs": [
    {
     "data": {
      "text/plain": [
       "Gable    1135\n",
       "Hip       283\n",
       "Other      32\n",
       "Name: RoofType, dtype: int64"
      ]
     },
     "execution_count": 72,
     "metadata": {},
     "output_type": "execute_result"
    }
   ],
   "source": [
    "RawData[\"RoofType\"].value_counts()"
   ]
  },
  {
   "cell_type": "markdown",
   "metadata": {},
   "source": [
    "RoofMatl: Roof material\n",
    "\n",
    "       ClyTile\tClay or Tile\n",
    "       CompShg\tStandard (Composite) Shingle\n",
    "       Membran\tMembrane\n",
    "       Metal\tMetal\n",
    "       Roll\tRoll\n",
    "       Tar&Grv\tGravel & Tar\n",
    "       WdShake\tWood Shakes\n",
    "       WdShngl\tWood Shingles"
   ]
  },
  {
   "cell_type": "code",
   "execution_count": 73,
   "metadata": {},
   "outputs": [
    {
     "data": {
      "text/plain": [
       "CompShg    1424\n",
       "Tar&Grv      11\n",
       "WdShngl       6\n",
       "WdShake       5\n",
       "Membran       1\n",
       "Roll          1\n",
       "ClyTile       1\n",
       "Metal         1\n",
       "Name: RoofMatl, dtype: int64"
      ]
     },
     "execution_count": 73,
     "metadata": {},
     "output_type": "execute_result"
    }
   ],
   "source": [
    "RawData[\"RoofMatl\"].value_counts()"
   ]
  },
  {
   "cell_type": "code",
   "execution_count": 74,
   "metadata": {},
   "outputs": [],
   "source": [
    "RawData.loc[:, \"RoofMaterial\"] = RawData[\"RoofMatl\"].replace([\"WdShngl\", \"WdShake\", \"Membran\", \"Metal\", \"Roll\", \"ClyTile\"], \"Other\")"
   ]
  },
  {
   "cell_type": "code",
   "execution_count": 75,
   "metadata": {},
   "outputs": [],
   "source": [
    "RawData.loc[:, \"ShingledRoof\"] = RawData[\"RoofMatl\"].apply(lambda x: 1 if (x == \"CompShg\" or x == \"WdShngl\") else 0)"
   ]
  },
  {
   "cell_type": "markdown",
   "metadata": {},
   "source": [
    "Exterior1st: Exterior covering on house\n",
    "\n",
    "       AsbShng\tAsbestos Shingles\n",
    "       AsphShn\tAsphalt Shingles\n",
    "       BrkComm\tBrick Common\n",
    "       BrkFace\tBrick Face\n",
    "       CBlock\tCinder Block\n",
    "       CemntBd\tCement Board\n",
    "       HdBoard\tHard Board\n",
    "       ImStucc\tImitation Stucco\n",
    "       MetalSd\tMetal Siding\n",
    "       Other\tOther\n",
    "       Plywood\tPlywood\n",
    "       PreCast\tPreCast\t\n",
    "       Stone\tStone\n",
    "       Stucco\tStucco\n",
    "       VinylSd\tVinyl Siding\n",
    "       Wd Sdng\tWood Siding\n",
    "       WdShing\tWood Shingles"
   ]
  },
  {
   "cell_type": "code",
   "execution_count": 76,
   "metadata": {},
   "outputs": [
    {
     "data": {
      "text/plain": [
       "VinylSd    515\n",
       "HdBoard    222\n",
       "MetalSd    215\n",
       "Wd Sdng    204\n",
       "Plywood    107\n",
       "CemntBd     61\n",
       "BrkFace     49\n",
       "WdShing     26\n",
       "Stucco      25\n",
       "AsbShng     19\n",
       "BrkComm      2\n",
       "Stone        2\n",
       "CBlock       1\n",
       "ImStucc      1\n",
       "AsphShn      1\n",
       "Name: Exterior1st, dtype: int64"
      ]
     },
     "execution_count": 76,
     "metadata": {},
     "output_type": "execute_result"
    }
   ],
   "source": [
    "RawData[\"Exterior1st\"].value_counts()"
   ]
  },
  {
   "cell_type": "code",
   "execution_count": 77,
   "metadata": {},
   "outputs": [
    {
     "name": "stderr",
     "output_type": "stream",
     "text": [
      "C:\\Anaconda3\\lib\\site-packages\\ipykernel_launcher.py:17: SettingWithCopyWarning: \n",
      "A value is trying to be set on a copy of a slice from a DataFrame.\n",
      "Try using .loc[row_indexer,col_indexer] = value instead\n",
      "\n",
      "See the caveats in the documentation: http://pandas.pydata.org/pandas-docs/stable/user_guide/indexing.html#returning-a-view-versus-a-copy\n"
     ]
    }
   ],
   "source": [
    "RawData[\"ExteriorMaterialType\"] = RawData[\"Exterior1st\"].map({\n",
    "    \"AsbShng\" : \"Asbestos\",\n",
    "    \"AsphShn\" : \"Cement\",\n",
    "    \"BrkComm\" : \"Brick\",\n",
    "    \"BrkFace\" : \"Brick\",\n",
    "    \"CBlock\"  : \"Brick\",\n",
    "    \"CemntBd\" : \"Cement\",\n",
    "    \"HdBoard\" : \"Vinyl\",\n",
    "    \"ImStucc\" : \"Stucco\",\n",
    "    \"MetalSd\" : \"Metal\",\n",
    "    \"Plywood\" : \"Wood\",\n",
    "    \"PreCast\" : \"Cement\",\n",
    "    \"Stone\"   : \"Brick\",\n",
    "    \"Stucco\"  : \"Stucco\",\n",
    "    \"VinylSd\" : \"Vinyl\",\n",
    "    \"Wd Sdng\" : \"Wood\",\n",
    "    \"WdShing\" : \"Wood\"\n",
    "})"
   ]
  },
  {
   "cell_type": "code",
   "execution_count": 78,
   "metadata": {},
   "outputs": [
    {
     "data": {
      "text/plain": [
       "Vinyl       737\n",
       "Wood        337\n",
       "Metal       215\n",
       "Cement       62\n",
       "Brick        54\n",
       "Stucco       26\n",
       "Asbestos     19\n",
       "Name: ExteriorMaterialType, dtype: int64"
      ]
     },
     "execution_count": 78,
     "metadata": {},
     "output_type": "execute_result"
    }
   ],
   "source": [
    "RawData[\"ExteriorMaterialType\"].value_counts()"
   ]
  },
  {
   "cell_type": "markdown",
   "metadata": {},
   "source": [
    "Exterior2nd: Exterior covering on house (if more than one material)\n",
    "\n",
    "       AsbShng\tAsbestos Shingles\n",
    "       AsphShn\tAsphalt Shingles\n",
    "       BrkComm\tBrick Common\n",
    "       BrkFace\tBrick Face\n",
    "       CBlock\tCinder Block\n",
    "       CemntBd\tCement Board\n",
    "       HdBoard\tHard Board\n",
    "       ImStucc\tImitation Stucco\n",
    "       MetalSd\tMetal Siding\n",
    "       Other\tOther\n",
    "       Plywood\tPlywood\n",
    "       PreCast\tPreCast\n",
    "       Stone\tStone\n",
    "       Stucco\tStucco\n",
    "       VinylSd\tVinyl Siding\n",
    "       Wd Sdng\tWood Siding\n",
    "       WdShing\tWood Shingles"
   ]
  },
  {
   "cell_type": "code",
   "execution_count": 79,
   "metadata": {},
   "outputs": [
    {
     "data": {
      "text/plain": [
       "0"
      ]
     },
     "execution_count": 79,
     "metadata": {},
     "output_type": "execute_result"
    }
   ],
   "source": [
    "RawData[\"Exterior2nd\"].isnull().sum()"
   ]
  },
  {
   "cell_type": "code",
   "execution_count": 80,
   "metadata": {
    "scrolled": true
   },
   "outputs": [
    {
     "data": {
      "text/plain": [
       "VinylSd    504\n",
       "MetalSd    209\n",
       "HdBoard    207\n",
       "Wd Sdng    195\n",
       "Plywood    141\n",
       "CmentBd     60\n",
       "Wd Shng     38\n",
       "Stucco      26\n",
       "BrkFace     24\n",
       "AsbShng     19\n",
       "ImStucc     10\n",
       "Brk Cmn      7\n",
       "Stone        5\n",
       "AsphShn      3\n",
       "CBlock       1\n",
       "Other        1\n",
       "Name: Exterior2nd, dtype: int64"
      ]
     },
     "execution_count": 80,
     "metadata": {},
     "output_type": "execute_result"
    }
   ],
   "source": [
    "RawData[\"Exterior2nd\"].value_counts()"
   ]
  },
  {
   "cell_type": "code",
   "execution_count": 81,
   "metadata": {},
   "outputs": [],
   "source": [
    "RawData.loc[:, \"SecondExteriorMaterial\"] = (RawData[\"Exterior1st\"] != RawData[\"Exterior2nd\"]).astype(\"uint8\")"
   ]
  },
  {
   "cell_type": "markdown",
   "metadata": {},
   "source": [
    "MasVnrType: Masonry veneer type\n",
    "\n",
    "       BrkCmn\tBrick Common\n",
    "       BrkFace\tBrick Face\n",
    "       CBlock\tCinder Block\n",
    "       None\tNone\n",
    "       Stone\tStone"
   ]
  },
  {
   "cell_type": "code",
   "execution_count": 82,
   "metadata": {
    "scrolled": true
   },
   "outputs": [
    {
     "data": {
      "text/plain": [
       "None       854\n",
       "BrkFace    445\n",
       "Stone      128\n",
       "BrkCmn      15\n",
       "Name: MasVnrType, dtype: int64"
      ]
     },
     "execution_count": 82,
     "metadata": {},
     "output_type": "execute_result"
    }
   ],
   "source": [
    "RawData[\"MasVnrType\"].value_counts()"
   ]
  },
  {
   "cell_type": "code",
   "execution_count": 83,
   "metadata": {
    "scrolled": true
   },
   "outputs": [
    {
     "data": {
      "text/plain": [
       "8"
      ]
     },
     "execution_count": 83,
     "metadata": {},
     "output_type": "execute_result"
    }
   ],
   "source": [
    "RawData[\"MasVnrType\"].isnull().sum()"
   ]
  },
  {
   "cell_type": "code",
   "execution_count": 84,
   "metadata": {},
   "outputs": [
    {
     "name": "stderr",
     "output_type": "stream",
     "text": [
      "C:\\Anaconda3\\lib\\site-packages\\pandas\\core\\generic.py:6287: SettingWithCopyWarning: \n",
      "A value is trying to be set on a copy of a slice from a DataFrame\n",
      "\n",
      "See the caveats in the documentation: http://pandas.pydata.org/pandas-docs/stable/user_guide/indexing.html#returning-a-view-versus-a-copy\n",
      "  self._update_inplace(new_data)\n"
     ]
    }
   ],
   "source": [
    "# Assume no veneer data means no veneer\n",
    "RawData[\"MasVnrType\"].fillna(\"None\", inplace = True)"
   ]
  },
  {
   "cell_type": "code",
   "execution_count": 85,
   "metadata": {},
   "outputs": [
    {
     "name": "stderr",
     "output_type": "stream",
     "text": [
      "C:\\Anaconda3\\lib\\site-packages\\ipykernel_launcher.py:1: SettingWithCopyWarning: \n",
      "A value is trying to be set on a copy of a slice from a DataFrame.\n",
      "Try using .loc[row_indexer,col_indexer] = value instead\n",
      "\n",
      "See the caveats in the documentation: http://pandas.pydata.org/pandas-docs/stable/user_guide/indexing.html#returning-a-view-versus-a-copy\n",
      "  \"\"\"Entry point for launching an IPython kernel.\n"
     ]
    }
   ],
   "source": [
    "RawData[\"MasonryVeneerType\"] = RawData[\"MasVnrType\"].replace([\"BrkFace\", \"BrkCmn\"], \"Brick\")"
   ]
  },
  {
   "cell_type": "code",
   "execution_count": 86,
   "metadata": {},
   "outputs": [
    {
     "data": {
      "text/plain": [
       "None     862\n",
       "Brick    460\n",
       "Stone    128\n",
       "Name: MasonryVeneerType, dtype: int64"
      ]
     },
     "execution_count": 86,
     "metadata": {},
     "output_type": "execute_result"
    }
   ],
   "source": [
    "RawData[\"MasonryVeneerType\"].value_counts()"
   ]
  },
  {
   "cell_type": "markdown",
   "metadata": {},
   "source": [
    "MasVnrArea: Masonry veneer area in square feet"
   ]
  },
  {
   "cell_type": "code",
   "execution_count": 87,
   "metadata": {
    "scrolled": true
   },
   "outputs": [
    {
     "data": {
      "text/plain": [
       "count    1442.000000\n",
       "mean      104.404300\n",
       "std       181.486539\n",
       "min         0.000000\n",
       "25%         0.000000\n",
       "50%         0.000000\n",
       "75%       166.750000\n",
       "max      1600.000000\n",
       "Name: MasVnrArea, dtype: float64"
      ]
     },
     "execution_count": 87,
     "metadata": {},
     "output_type": "execute_result"
    }
   ],
   "source": [
    "RawData[\"MasVnrArea\"].describe()"
   ]
  },
  {
   "cell_type": "code",
   "execution_count": 88,
   "metadata": {},
   "outputs": [],
   "source": [
    "RawData[\"MasVnrArea\"].fillna(0, inplace = True)"
   ]
  },
  {
   "cell_type": "markdown",
   "metadata": {},
   "source": [
    "ExterQual: Evaluates the quality of the material on the exterior \n",
    "\t\t\n",
    "       Ex\tExcellent\n",
    "       Gd\tGood\n",
    "       TA\tAverage/Typical\n",
    "       Fa\tFair\n",
    "       Po\tPoor"
   ]
  },
  {
   "cell_type": "code",
   "execution_count": 89,
   "metadata": {},
   "outputs": [
    {
     "data": {
      "text/plain": [
       "array(['Gd', 'TA', 'Ex', 'Fa'], dtype=object)"
      ]
     },
     "execution_count": 89,
     "metadata": {},
     "output_type": "execute_result"
    }
   ],
   "source": [
    "RawData[\"ExterQual\"].unique()"
   ]
  },
  {
   "cell_type": "code",
   "execution_count": 90,
   "metadata": {},
   "outputs": [
    {
     "name": "stderr",
     "output_type": "stream",
     "text": [
      "C:\\Anaconda3\\lib\\site-packages\\ipykernel_launcher.py:1: SettingWithCopyWarning: \n",
      "A value is trying to be set on a copy of a slice from a DataFrame.\n",
      "Try using .loc[row_indexer,col_indexer] = value instead\n",
      "\n",
      "See the caveats in the documentation: http://pandas.pydata.org/pandas-docs/stable/user_guide/indexing.html#returning-a-view-versus-a-copy\n",
      "  \"\"\"Entry point for launching an IPython kernel.\n"
     ]
    }
   ],
   "source": [
    "RawData[\"ExteriorQuality\"] = RawData[\"ExterQual\"].map({\"Ex\" : 4, \"Gd\" : 3, \"TA\": 2, \"Fa\" : 1, \"Po\" : 0})"
   ]
  },
  {
   "cell_type": "markdown",
   "metadata": {},
   "source": [
    "ExterCond: Evaluates the present condition of the material on the exterior\n",
    "\t\t\n",
    "       Ex\tExcellent\n",
    "       Gd\tGood\n",
    "       TA\tAverage/Typical\n",
    "       Fa\tFair\n",
    "       Po\tPoor"
   ]
  },
  {
   "cell_type": "code",
   "execution_count": 91,
   "metadata": {},
   "outputs": [
    {
     "data": {
      "text/plain": [
       "array(['TA', 'Gd', 'Fa', 'Po', 'Ex'], dtype=object)"
      ]
     },
     "execution_count": 91,
     "metadata": {},
     "output_type": "execute_result"
    }
   ],
   "source": [
    "RawData[\"ExterCond\"].unique()"
   ]
  },
  {
   "cell_type": "code",
   "execution_count": 92,
   "metadata": {},
   "outputs": [
    {
     "name": "stderr",
     "output_type": "stream",
     "text": [
      "C:\\Anaconda3\\lib\\site-packages\\ipykernel_launcher.py:1: SettingWithCopyWarning: \n",
      "A value is trying to be set on a copy of a slice from a DataFrame.\n",
      "Try using .loc[row_indexer,col_indexer] = value instead\n",
      "\n",
      "See the caveats in the documentation: http://pandas.pydata.org/pandas-docs/stable/user_guide/indexing.html#returning-a-view-versus-a-copy\n",
      "  \"\"\"Entry point for launching an IPython kernel.\n"
     ]
    }
   ],
   "source": [
    "RawData[\"ExteriorCondition\"] = RawData[\"ExterCond\"].map({\"Ex\" : 4, \"Gd\" : 3, \"TA\": 2, \"Fa\" : 1, \"Po\" : 0})"
   ]
  },
  {
   "cell_type": "markdown",
   "metadata": {},
   "source": [
    "Foundation: Type of foundation\n",
    "\t\t\n",
    "       BrkTil\tBrick & Tile\n",
    "       CBlock\tCinder Block\n",
    "       PConc\tPoured Contrete\t\n",
    "       Slab\tSlab\n",
    "       Stone\tStone\n",
    "       Wood\tWood"
   ]
  },
  {
   "cell_type": "code",
   "execution_count": 93,
   "metadata": {},
   "outputs": [
    {
     "data": {
      "text/plain": [
       "PConc     647\n",
       "CBlock    627\n",
       "BrkTil    144\n",
       "Slab       24\n",
       "Stone       5\n",
       "Wood        3\n",
       "Name: Foundation, dtype: int64"
      ]
     },
     "execution_count": 93,
     "metadata": {},
     "output_type": "execute_result"
    }
   ],
   "source": [
    "RawData[\"Foundation\"].value_counts()"
   ]
  },
  {
   "cell_type": "code",
   "execution_count": 94,
   "metadata": {},
   "outputs": [
    {
     "name": "stderr",
     "output_type": "stream",
     "text": [
      "C:\\Anaconda3\\lib\\site-packages\\ipykernel_launcher.py:1: SettingWithCopyWarning: \n",
      "A value is trying to be set on a copy of a slice from a DataFrame.\n",
      "Try using .loc[row_indexer,col_indexer] = value instead\n",
      "\n",
      "See the caveats in the documentation: http://pandas.pydata.org/pandas-docs/stable/user_guide/indexing.html#returning-a-view-versus-a-copy\n",
      "  \"\"\"Entry point for launching an IPython kernel.\n"
     ]
    }
   ],
   "source": [
    "RawData[\"FoundationType\"] = RawData[\"Foundation\"].replace([\"Stone\", \"Wood\"], \"Other\")"
   ]
  },
  {
   "cell_type": "markdown",
   "metadata": {},
   "source": [
    "BsmtQual: Evaluates the height of the basement\n",
    "\n",
    "       Ex\tExcellent (100+ inches)\t\n",
    "       Gd\tGood (90-99 inches)\n",
    "       TA\tTypical (80-89 inches)\n",
    "       Fa\tFair (70-79 inches)\n",
    "       Po\tPoor (<70 inches\n",
    "       NA\tNo Basement"
   ]
  },
  {
   "cell_type": "code",
   "execution_count": null,
   "metadata": {},
   "outputs": [],
   "source": []
  },
  {
   "cell_type": "markdown",
   "metadata": {},
   "source": [
    "### About 37 properties do not have a basement. \n",
    "> Entries identified by null entries for basement columns.\n",
    "> One property (ID number 948) seems to be in the middle of constructing or removing a basement as indicated by only missing basement exposure data. Will fill that data cell with close approximate."
   ]
  },
  {
   "cell_type": "code",
   "execution_count": 95,
   "metadata": {
    "scrolled": false
   },
   "outputs": [
    {
     "data": {
      "text/html": [
       "<div>\n",
       "<style scoped>\n",
       "    .dataframe tbody tr th:only-of-type {\n",
       "        vertical-align: middle;\n",
       "    }\n",
       "\n",
       "    .dataframe tbody tr th {\n",
       "        vertical-align: top;\n",
       "    }\n",
       "\n",
       "    .dataframe thead th {\n",
       "        text-align: right;\n",
       "    }\n",
       "</style>\n",
       "<table border=\"1\" class=\"dataframe\">\n",
       "  <thead>\n",
       "    <tr style=\"text-align: right;\">\n",
       "      <th></th>\n",
       "      <th>BsmtQual</th>\n",
       "      <th>BsmtCond</th>\n",
       "      <th>BsmtExposure</th>\n",
       "      <th>BsmtFinType1</th>\n",
       "      <th>BsmtFinSF1</th>\n",
       "      <th>BsmtFinType2</th>\n",
       "    </tr>\n",
       "  </thead>\n",
       "  <tbody>\n",
       "    <tr>\n",
       "      <td>17</td>\n",
       "      <td>NaN</td>\n",
       "      <td>NaN</td>\n",
       "      <td>NaN</td>\n",
       "      <td>NaN</td>\n",
       "      <td>0</td>\n",
       "      <td>NaN</td>\n",
       "    </tr>\n",
       "    <tr>\n",
       "      <td>39</td>\n",
       "      <td>NaN</td>\n",
       "      <td>NaN</td>\n",
       "      <td>NaN</td>\n",
       "      <td>NaN</td>\n",
       "      <td>0</td>\n",
       "      <td>NaN</td>\n",
       "    </tr>\n",
       "    <tr>\n",
       "      <td>90</td>\n",
       "      <td>NaN</td>\n",
       "      <td>NaN</td>\n",
       "      <td>NaN</td>\n",
       "      <td>NaN</td>\n",
       "      <td>0</td>\n",
       "      <td>NaN</td>\n",
       "    </tr>\n",
       "    <tr>\n",
       "      <td>102</td>\n",
       "      <td>NaN</td>\n",
       "      <td>NaN</td>\n",
       "      <td>NaN</td>\n",
       "      <td>NaN</td>\n",
       "      <td>0</td>\n",
       "      <td>NaN</td>\n",
       "    </tr>\n",
       "    <tr>\n",
       "      <td>156</td>\n",
       "      <td>NaN</td>\n",
       "      <td>NaN</td>\n",
       "      <td>NaN</td>\n",
       "      <td>NaN</td>\n",
       "      <td>0</td>\n",
       "      <td>NaN</td>\n",
       "    </tr>\n",
       "    <tr>\n",
       "      <td>182</td>\n",
       "      <td>NaN</td>\n",
       "      <td>NaN</td>\n",
       "      <td>NaN</td>\n",
       "      <td>NaN</td>\n",
       "      <td>0</td>\n",
       "      <td>NaN</td>\n",
       "    </tr>\n",
       "    <tr>\n",
       "      <td>259</td>\n",
       "      <td>NaN</td>\n",
       "      <td>NaN</td>\n",
       "      <td>NaN</td>\n",
       "      <td>NaN</td>\n",
       "      <td>0</td>\n",
       "      <td>NaN</td>\n",
       "    </tr>\n",
       "    <tr>\n",
       "      <td>342</td>\n",
       "      <td>NaN</td>\n",
       "      <td>NaN</td>\n",
       "      <td>NaN</td>\n",
       "      <td>NaN</td>\n",
       "      <td>0</td>\n",
       "      <td>NaN</td>\n",
       "    </tr>\n",
       "    <tr>\n",
       "      <td>362</td>\n",
       "      <td>NaN</td>\n",
       "      <td>NaN</td>\n",
       "      <td>NaN</td>\n",
       "      <td>NaN</td>\n",
       "      <td>0</td>\n",
       "      <td>NaN</td>\n",
       "    </tr>\n",
       "    <tr>\n",
       "      <td>371</td>\n",
       "      <td>NaN</td>\n",
       "      <td>NaN</td>\n",
       "      <td>NaN</td>\n",
       "      <td>NaN</td>\n",
       "      <td>0</td>\n",
       "      <td>NaN</td>\n",
       "    </tr>\n",
       "    <tr>\n",
       "      <td>392</td>\n",
       "      <td>NaN</td>\n",
       "      <td>NaN</td>\n",
       "      <td>NaN</td>\n",
       "      <td>NaN</td>\n",
       "      <td>0</td>\n",
       "      <td>NaN</td>\n",
       "    </tr>\n",
       "    <tr>\n",
       "      <td>520</td>\n",
       "      <td>NaN</td>\n",
       "      <td>NaN</td>\n",
       "      <td>NaN</td>\n",
       "      <td>NaN</td>\n",
       "      <td>0</td>\n",
       "      <td>NaN</td>\n",
       "    </tr>\n",
       "    <tr>\n",
       "      <td>532</td>\n",
       "      <td>NaN</td>\n",
       "      <td>NaN</td>\n",
       "      <td>NaN</td>\n",
       "      <td>NaN</td>\n",
       "      <td>0</td>\n",
       "      <td>NaN</td>\n",
       "    </tr>\n",
       "    <tr>\n",
       "      <td>533</td>\n",
       "      <td>NaN</td>\n",
       "      <td>NaN</td>\n",
       "      <td>NaN</td>\n",
       "      <td>NaN</td>\n",
       "      <td>0</td>\n",
       "      <td>NaN</td>\n",
       "    </tr>\n",
       "    <tr>\n",
       "      <td>553</td>\n",
       "      <td>NaN</td>\n",
       "      <td>NaN</td>\n",
       "      <td>NaN</td>\n",
       "      <td>NaN</td>\n",
       "      <td>0</td>\n",
       "      <td>NaN</td>\n",
       "    </tr>\n",
       "    <tr>\n",
       "      <td>646</td>\n",
       "      <td>NaN</td>\n",
       "      <td>NaN</td>\n",
       "      <td>NaN</td>\n",
       "      <td>NaN</td>\n",
       "      <td>0</td>\n",
       "      <td>NaN</td>\n",
       "    </tr>\n",
       "    <tr>\n",
       "      <td>705</td>\n",
       "      <td>NaN</td>\n",
       "      <td>NaN</td>\n",
       "      <td>NaN</td>\n",
       "      <td>NaN</td>\n",
       "      <td>0</td>\n",
       "      <td>NaN</td>\n",
       "    </tr>\n",
       "    <tr>\n",
       "      <td>736</td>\n",
       "      <td>NaN</td>\n",
       "      <td>NaN</td>\n",
       "      <td>NaN</td>\n",
       "      <td>NaN</td>\n",
       "      <td>0</td>\n",
       "      <td>NaN</td>\n",
       "    </tr>\n",
       "    <tr>\n",
       "      <td>749</td>\n",
       "      <td>NaN</td>\n",
       "      <td>NaN</td>\n",
       "      <td>NaN</td>\n",
       "      <td>NaN</td>\n",
       "      <td>0</td>\n",
       "      <td>NaN</td>\n",
       "    </tr>\n",
       "    <tr>\n",
       "      <td>778</td>\n",
       "      <td>NaN</td>\n",
       "      <td>NaN</td>\n",
       "      <td>NaN</td>\n",
       "      <td>NaN</td>\n",
       "      <td>0</td>\n",
       "      <td>NaN</td>\n",
       "    </tr>\n",
       "    <tr>\n",
       "      <td>868</td>\n",
       "      <td>NaN</td>\n",
       "      <td>NaN</td>\n",
       "      <td>NaN</td>\n",
       "      <td>NaN</td>\n",
       "      <td>0</td>\n",
       "      <td>NaN</td>\n",
       "    </tr>\n",
       "    <tr>\n",
       "      <td>894</td>\n",
       "      <td>NaN</td>\n",
       "      <td>NaN</td>\n",
       "      <td>NaN</td>\n",
       "      <td>NaN</td>\n",
       "      <td>0</td>\n",
       "      <td>NaN</td>\n",
       "    </tr>\n",
       "    <tr>\n",
       "      <td>897</td>\n",
       "      <td>NaN</td>\n",
       "      <td>NaN</td>\n",
       "      <td>NaN</td>\n",
       "      <td>NaN</td>\n",
       "      <td>0</td>\n",
       "      <td>NaN</td>\n",
       "    </tr>\n",
       "    <tr>\n",
       "      <td>948</td>\n",
       "      <td>Gd</td>\n",
       "      <td>TA</td>\n",
       "      <td>NaN</td>\n",
       "      <td>Unf</td>\n",
       "      <td>0</td>\n",
       "      <td>Unf</td>\n",
       "    </tr>\n",
       "    <tr>\n",
       "      <td>984</td>\n",
       "      <td>NaN</td>\n",
       "      <td>NaN</td>\n",
       "      <td>NaN</td>\n",
       "      <td>NaN</td>\n",
       "      <td>0</td>\n",
       "      <td>NaN</td>\n",
       "    </tr>\n",
       "    <tr>\n",
       "      <td>1000</td>\n",
       "      <td>NaN</td>\n",
       "      <td>NaN</td>\n",
       "      <td>NaN</td>\n",
       "      <td>NaN</td>\n",
       "      <td>0</td>\n",
       "      <td>NaN</td>\n",
       "    </tr>\n",
       "    <tr>\n",
       "      <td>1011</td>\n",
       "      <td>NaN</td>\n",
       "      <td>NaN</td>\n",
       "      <td>NaN</td>\n",
       "      <td>NaN</td>\n",
       "      <td>0</td>\n",
       "      <td>NaN</td>\n",
       "    </tr>\n",
       "    <tr>\n",
       "      <td>1035</td>\n",
       "      <td>NaN</td>\n",
       "      <td>NaN</td>\n",
       "      <td>NaN</td>\n",
       "      <td>NaN</td>\n",
       "      <td>0</td>\n",
       "      <td>NaN</td>\n",
       "    </tr>\n",
       "    <tr>\n",
       "      <td>1045</td>\n",
       "      <td>NaN</td>\n",
       "      <td>NaN</td>\n",
       "      <td>NaN</td>\n",
       "      <td>NaN</td>\n",
       "      <td>0</td>\n",
       "      <td>NaN</td>\n",
       "    </tr>\n",
       "    <tr>\n",
       "      <td>1048</td>\n",
       "      <td>NaN</td>\n",
       "      <td>NaN</td>\n",
       "      <td>NaN</td>\n",
       "      <td>NaN</td>\n",
       "      <td>0</td>\n",
       "      <td>NaN</td>\n",
       "    </tr>\n",
       "    <tr>\n",
       "      <td>1049</td>\n",
       "      <td>NaN</td>\n",
       "      <td>NaN</td>\n",
       "      <td>NaN</td>\n",
       "      <td>NaN</td>\n",
       "      <td>0</td>\n",
       "      <td>NaN</td>\n",
       "    </tr>\n",
       "    <tr>\n",
       "      <td>1090</td>\n",
       "      <td>NaN</td>\n",
       "      <td>NaN</td>\n",
       "      <td>NaN</td>\n",
       "      <td>NaN</td>\n",
       "      <td>0</td>\n",
       "      <td>NaN</td>\n",
       "    </tr>\n",
       "    <tr>\n",
       "      <td>1179</td>\n",
       "      <td>NaN</td>\n",
       "      <td>NaN</td>\n",
       "      <td>NaN</td>\n",
       "      <td>NaN</td>\n",
       "      <td>0</td>\n",
       "      <td>NaN</td>\n",
       "    </tr>\n",
       "    <tr>\n",
       "      <td>1216</td>\n",
       "      <td>NaN</td>\n",
       "      <td>NaN</td>\n",
       "      <td>NaN</td>\n",
       "      <td>NaN</td>\n",
       "      <td>0</td>\n",
       "      <td>NaN</td>\n",
       "    </tr>\n",
       "    <tr>\n",
       "      <td>1218</td>\n",
       "      <td>NaN</td>\n",
       "      <td>NaN</td>\n",
       "      <td>NaN</td>\n",
       "      <td>NaN</td>\n",
       "      <td>0</td>\n",
       "      <td>NaN</td>\n",
       "    </tr>\n",
       "    <tr>\n",
       "      <td>1232</td>\n",
       "      <td>NaN</td>\n",
       "      <td>NaN</td>\n",
       "      <td>NaN</td>\n",
       "      <td>NaN</td>\n",
       "      <td>0</td>\n",
       "      <td>NaN</td>\n",
       "    </tr>\n",
       "    <tr>\n",
       "      <td>1321</td>\n",
       "      <td>NaN</td>\n",
       "      <td>NaN</td>\n",
       "      <td>NaN</td>\n",
       "      <td>NaN</td>\n",
       "      <td>0</td>\n",
       "      <td>NaN</td>\n",
       "    </tr>\n",
       "    <tr>\n",
       "      <td>1412</td>\n",
       "      <td>NaN</td>\n",
       "      <td>NaN</td>\n",
       "      <td>NaN</td>\n",
       "      <td>NaN</td>\n",
       "      <td>0</td>\n",
       "      <td>NaN</td>\n",
       "    </tr>\n",
       "  </tbody>\n",
       "</table>\n",
       "</div>"
      ],
      "text/plain": [
       "     BsmtQual BsmtCond BsmtExposure BsmtFinType1  BsmtFinSF1 BsmtFinType2\n",
       "17        NaN      NaN          NaN          NaN           0          NaN\n",
       "39        NaN      NaN          NaN          NaN           0          NaN\n",
       "90        NaN      NaN          NaN          NaN           0          NaN\n",
       "102       NaN      NaN          NaN          NaN           0          NaN\n",
       "156       NaN      NaN          NaN          NaN           0          NaN\n",
       "182       NaN      NaN          NaN          NaN           0          NaN\n",
       "259       NaN      NaN          NaN          NaN           0          NaN\n",
       "342       NaN      NaN          NaN          NaN           0          NaN\n",
       "362       NaN      NaN          NaN          NaN           0          NaN\n",
       "371       NaN      NaN          NaN          NaN           0          NaN\n",
       "392       NaN      NaN          NaN          NaN           0          NaN\n",
       "520       NaN      NaN          NaN          NaN           0          NaN\n",
       "532       NaN      NaN          NaN          NaN           0          NaN\n",
       "533       NaN      NaN          NaN          NaN           0          NaN\n",
       "553       NaN      NaN          NaN          NaN           0          NaN\n",
       "646       NaN      NaN          NaN          NaN           0          NaN\n",
       "705       NaN      NaN          NaN          NaN           0          NaN\n",
       "736       NaN      NaN          NaN          NaN           0          NaN\n",
       "749       NaN      NaN          NaN          NaN           0          NaN\n",
       "778       NaN      NaN          NaN          NaN           0          NaN\n",
       "868       NaN      NaN          NaN          NaN           0          NaN\n",
       "894       NaN      NaN          NaN          NaN           0          NaN\n",
       "897       NaN      NaN          NaN          NaN           0          NaN\n",
       "948        Gd       TA          NaN          Unf           0          Unf\n",
       "984       NaN      NaN          NaN          NaN           0          NaN\n",
       "1000      NaN      NaN          NaN          NaN           0          NaN\n",
       "1011      NaN      NaN          NaN          NaN           0          NaN\n",
       "1035      NaN      NaN          NaN          NaN           0          NaN\n",
       "1045      NaN      NaN          NaN          NaN           0          NaN\n",
       "1048      NaN      NaN          NaN          NaN           0          NaN\n",
       "1049      NaN      NaN          NaN          NaN           0          NaN\n",
       "1090      NaN      NaN          NaN          NaN           0          NaN\n",
       "1179      NaN      NaN          NaN          NaN           0          NaN\n",
       "1216      NaN      NaN          NaN          NaN           0          NaN\n",
       "1218      NaN      NaN          NaN          NaN           0          NaN\n",
       "1232      NaN      NaN          NaN          NaN           0          NaN\n",
       "1321      NaN      NaN          NaN          NaN           0          NaN\n",
       "1412      NaN      NaN          NaN          NaN           0          NaN"
      ]
     },
     "execution_count": 95,
     "metadata": {},
     "output_type": "execute_result"
    }
   ],
   "source": [
    "RawData.loc[RawData[\"BsmtExposure\"].isnull(), [\"BsmtQual\", \"BsmtCond\", \"BsmtExposure\", \"BsmtFinType1\", \"BsmtFinSF1\", \"BsmtFinType2\"]]"
   ]
  },
  {
   "cell_type": "code",
   "execution_count": 96,
   "metadata": {},
   "outputs": [
    {
     "data": {
      "text/plain": [
       "No    136\n",
       "Av     26\n",
       "Mn     10\n",
       "Gd      5\n",
       "Name: BsmtExposure, dtype: int64"
      ]
     },
     "execution_count": 96,
     "metadata": {},
     "output_type": "execute_result"
    }
   ],
   "source": [
    "RawData.loc[(RawData[\"BsmtQual\"] == \"Gd\") & (RawData[\"BsmtCond\"] == \"TA\") & (RawData[\"BsmtFinType1\"] == \"Unf\") & (RawData[\"BsmtFinSF1\"] == 0) & (RawData[\"BsmtFinType2\"] == \"Unf\"), \"BsmtExposure\"].value_counts()"
   ]
  },
  {
   "cell_type": "code",
   "execution_count": 97,
   "metadata": {},
   "outputs": [],
   "source": [
    "RawData.loc[948, \"BsmtExposure\"] = \"No\""
   ]
  },
  {
   "cell_type": "markdown",
   "metadata": {},
   "source": [
    "### Create \"Has Basement\" flag for properties with no basement."
   ]
  },
  {
   "cell_type": "code",
   "execution_count": 98,
   "metadata": {},
   "outputs": [],
   "source": [
    "RawData.loc[:, \"HasBasement\"] = pd.Series(RawData.loc[:, \"BsmtQual\"].isnull()).astype(\"uint8\")"
   ]
  },
  {
   "cell_type": "code",
   "execution_count": 99,
   "metadata": {},
   "outputs": [
    {
     "data": {
      "text/plain": [
       "TA    639\n",
       "Gd    618\n",
       "Ex    121\n",
       "Fa     35\n",
       "Name: BsmtQual, dtype: int64"
      ]
     },
     "execution_count": 99,
     "metadata": {},
     "output_type": "execute_result"
    }
   ],
   "source": [
    "RawData[\"BsmtQual\"].value_counts()"
   ]
  },
  {
   "cell_type": "code",
   "execution_count": 100,
   "metadata": {},
   "outputs": [
    {
     "data": {
      "text/plain": [
       "37"
      ]
     },
     "execution_count": 100,
     "metadata": {},
     "output_type": "execute_result"
    }
   ],
   "source": [
    "RawData[\"BsmtQual\"].isnull().sum()"
   ]
  },
  {
   "cell_type": "code",
   "execution_count": 101,
   "metadata": {},
   "outputs": [],
   "source": [
    "RawData[\"BsmtQual\"].fillna(\"TA\", inplace = True)"
   ]
  },
  {
   "cell_type": "code",
   "execution_count": 102,
   "metadata": {},
   "outputs": [],
   "source": [
    "RawData.loc[:, \"BasementQuality\"] = RawData.loc[:, \"BsmtQual\"].map({\"Ex\" : 4, \"Gd\" : 3, \"TA\": 2, \"Fa\" : 1, \"Po\" : 0})"
   ]
  },
  {
   "cell_type": "markdown",
   "metadata": {},
   "source": [
    "BsmtCond: Evaluates the general condition of the basement\n",
    "\n",
    "       Ex\tExcellent\n",
    "       Gd\tGood\n",
    "       TA\tTypical - slight dampness allowed\n",
    "       Fa\tFair - dampness or some cracking or settling\n",
    "       Po\tPoor - Severe cracking, settling, or wetness\n",
    "       NA\tNo Basement"
   ]
  },
  {
   "cell_type": "code",
   "execution_count": 103,
   "metadata": {},
   "outputs": [
    {
     "data": {
      "text/plain": [
       "TA    1303\n",
       "Gd      65\n",
       "Fa      43\n",
       "Po       2\n",
       "Name: BsmtCond, dtype: int64"
      ]
     },
     "execution_count": 103,
     "metadata": {},
     "output_type": "execute_result"
    }
   ],
   "source": [
    "RawData[\"BsmtCond\"].value_counts()"
   ]
  },
  {
   "cell_type": "code",
   "execution_count": 104,
   "metadata": {},
   "outputs": [
    {
     "data": {
      "text/plain": [
       "37"
      ]
     },
     "execution_count": 104,
     "metadata": {},
     "output_type": "execute_result"
    }
   ],
   "source": [
    "RawData[\"BsmtCond\"].isnull().sum()"
   ]
  },
  {
   "cell_type": "code",
   "execution_count": 105,
   "metadata": {},
   "outputs": [],
   "source": [
    "RawData[\"BsmtCond\"].fillna(\"TA\", inplace = True)"
   ]
  },
  {
   "cell_type": "code",
   "execution_count": 106,
   "metadata": {},
   "outputs": [],
   "source": [
    "RawData.loc[:, \"BasementCondition\"] = RawData.loc[:, \"BsmtCond\"].map({\"Ex\" : 4, \"Gd\" : 3, \"TA\": 2, \"Fa\" : 1, \"Po\" : 0})"
   ]
  },
  {
   "cell_type": "markdown",
   "metadata": {},
   "source": [
    "BsmtExposure: Refers to walkout or garden level walls\n",
    "\n",
    "       Gd\tGood Exposure\n",
    "       Av\tAverage Exposure (split levels or foyers typically score average or above)\t\n",
    "       Mn\tMimimum Exposure\n",
    "       No\tNo Exposure\n",
    "       NA\tNo Basement"
   ]
  },
  {
   "cell_type": "code",
   "execution_count": 107,
   "metadata": {},
   "outputs": [
    {
     "data": {
      "text/plain": [
       "No    948\n",
       "Av    219\n",
       "Gd    134\n",
       "Mn    112\n",
       "Name: BsmtExposure, dtype: int64"
      ]
     },
     "execution_count": 107,
     "metadata": {},
     "output_type": "execute_result"
    }
   ],
   "source": [
    "RawData[\"BsmtExposure\"].value_counts()"
   ]
  },
  {
   "cell_type": "code",
   "execution_count": 108,
   "metadata": {},
   "outputs": [
    {
     "data": {
      "text/plain": [
       "37"
      ]
     },
     "execution_count": 108,
     "metadata": {},
     "output_type": "execute_result"
    }
   ],
   "source": [
    "RawData[\"BsmtExposure\"].isnull().sum()"
   ]
  },
  {
   "cell_type": "code",
   "execution_count": 109,
   "metadata": {},
   "outputs": [],
   "source": [
    "RawData.loc[:, \"BasmentExposure\"] = RawData.loc[:, \"BsmtExposure\"].fillna(\"No\")"
   ]
  },
  {
   "cell_type": "markdown",
   "metadata": {},
   "source": [
    "BsmtFinType1: Rating of basement finished area\n",
    "\n",
    "       GLQ\tGood Living Quarters\n",
    "       ALQ\tAverage Living Quarters\n",
    "       BLQ\tBelow Average Living Quarters\t\n",
    "       Rec\tAverage Rec Room\n",
    "       LwQ\tLow Quality\n",
    "       Unf\tUnfinshed\n",
    "       NA\tNo Basement"
   ]
  },
  {
   "cell_type": "code",
   "execution_count": 110,
   "metadata": {},
   "outputs": [
    {
     "data": {
      "text/plain": [
       "Unf    424\n",
       "GLQ    418\n",
       "ALQ    220\n",
       "BLQ    147\n",
       "Rec    130\n",
       "LwQ     74\n",
       "Name: BsmtFinType1, dtype: int64"
      ]
     },
     "execution_count": 110,
     "metadata": {},
     "output_type": "execute_result"
    }
   ],
   "source": [
    "RawData[\"BsmtFinType1\"].value_counts()"
   ]
  },
  {
   "cell_type": "code",
   "execution_count": 111,
   "metadata": {},
   "outputs": [],
   "source": [
    "RawData.loc[:, \"BasementFinish1\"] = RawData.loc[:, \"BsmtFinType1\"].map({\n",
    "    \"Unf\" : 0,\n",
    "    \"LwQ\" : 1,\n",
    "    \"Rec\" : 2,\n",
    "    \"BLQ\" : 2,\n",
    "    \"ALQ\" : 3,\n",
    "    \"GLQ\" : 4\n",
    "})"
   ]
  },
  {
   "cell_type": "code",
   "execution_count": 112,
   "metadata": {},
   "outputs": [
    {
     "data": {
      "text/plain": [
       "37"
      ]
     },
     "execution_count": 112,
     "metadata": {},
     "output_type": "execute_result"
    }
   ],
   "source": [
    "RawData[\"BsmtFinType1\"].isnull().sum()"
   ]
  },
  {
   "cell_type": "markdown",
   "metadata": {},
   "source": [
    "BsmtFinSF1: Type 1 finished square feet"
   ]
  },
  {
   "cell_type": "markdown",
   "metadata": {},
   "source": [
    "BsmtFinType2: Rating of basement finished area (if multiple types)\n",
    "\n",
    "       GLQ\tGood Living Quarters\n",
    "       ALQ\tAverage Living Quarters\n",
    "       BLQ\tBelow Average Living Quarters\t\n",
    "       Rec\tAverage Rec Room\n",
    "       LwQ\tLow Quality\n",
    "       Unf\tUnfinshed\n",
    "       NA\tNo Basement"
   ]
  },
  {
   "cell_type": "code",
   "execution_count": 113,
   "metadata": {},
   "outputs": [
    {
     "data": {
      "text/plain": [
       "Unf    1246\n",
       "Rec      54\n",
       "LwQ      46\n",
       "BLQ      33\n",
       "ALQ      19\n",
       "GLQ      14\n",
       "Name: BsmtFinType2, dtype: int64"
      ]
     },
     "execution_count": 113,
     "metadata": {},
     "output_type": "execute_result"
    }
   ],
   "source": [
    "RawData[\"BsmtFinType2\"].value_counts()"
   ]
  },
  {
   "cell_type": "code",
   "execution_count": 114,
   "metadata": {},
   "outputs": [],
   "source": [
    "RawData.loc[:, \"BasementFinish2\"] = RawData.loc[:, \"BsmtFinType2\"].map({\n",
    "    \"Unf\" : 0,\n",
    "    \"LwQ\" : 1,\n",
    "    \"Rec\" : 2,\n",
    "    \"BLQ\" : 2,\n",
    "    \"ALQ\" : 3,\n",
    "    \"GLQ\" : 4\n",
    "})"
   ]
  },
  {
   "cell_type": "markdown",
   "metadata": {},
   "source": [
    "BsmtFinSF2: Type 2 finished square feet"
   ]
  },
  {
   "cell_type": "markdown",
   "metadata": {},
   "source": [
    "BsmtUnfSF: Unfinished square feet of basement area"
   ]
  },
  {
   "cell_type": "markdown",
   "metadata": {},
   "source": [
    "TotalBsmtSF: Total square feet of basement area"
   ]
  },
  {
   "cell_type": "markdown",
   "metadata": {},
   "source": [
    "Heating: Type of heating\n",
    "\t\t\n",
    "       Floor\tFloor Furnace\n",
    "       GasA\tGas forced warm air furnace\n",
    "       GasW\tGas hot water or steam heat\n",
    "       Grav\tGravity furnace\t\n",
    "       OthW\tHot water or steam heat other than gas\n",
    "       Wall\tWall furnace"
   ]
  },
  {
   "cell_type": "code",
   "execution_count": 115,
   "metadata": {},
   "outputs": [
    {
     "data": {
      "text/plain": [
       "GasA     1419\n",
       "GasW       17\n",
       "Grav        7\n",
       "Wall        4\n",
       "OthW        2\n",
       "Floor       1\n",
       "Name: Heating, dtype: int64"
      ]
     },
     "execution_count": 115,
     "metadata": {},
     "output_type": "execute_result"
    }
   ],
   "source": [
    "RawData[\"Heating\"].value_counts()"
   ]
  },
  {
   "cell_type": "code",
   "execution_count": 116,
   "metadata": {},
   "outputs": [],
   "source": [
    "RawData.loc[:, \"ForcedAirHeating\"] = pd.Series(RawData[\"Heating\"] == \"GasA\")"
   ]
  },
  {
   "cell_type": "markdown",
   "metadata": {},
   "source": [
    "HeatingQC: Heating quality and condition\n",
    "\n",
    "       Ex\tExcellent\n",
    "       Gd\tGood\n",
    "       TA\tAverage/Typical\n",
    "       Fa\tFair\n",
    "       Po\tPoor"
   ]
  },
  {
   "cell_type": "code",
   "execution_count": 117,
   "metadata": {},
   "outputs": [],
   "source": [
    "RawData.loc[:, \"HeatingQuality\"] = RawData.loc[:, \"HeatingQC\"].map({\n",
    "    \"Po\" : 0,\n",
    "    \"Fa\" : 1,\n",
    "    \"TA\" : 2,\n",
    "    \"Gd\" : 3,\n",
    "    \"Ex\" : 4\n",
    "})"
   ]
  },
  {
   "cell_type": "markdown",
   "metadata": {},
   "source": [
    "CentralAir: Central air conditioning\n",
    "\n",
    "       N\tNo\n",
    "       Y\tYes"
   ]
  },
  {
   "cell_type": "code",
   "execution_count": 118,
   "metadata": {},
   "outputs": [],
   "source": [
    "RawData.loc[:, \"CentralAir\"] = pd.Series(RawData[\"CentralAir\"] == \"Yes\").astype(\"uint8\")"
   ]
  },
  {
   "cell_type": "markdown",
   "metadata": {},
   "source": [
    "Electrical: Electrical system\n",
    "\n",
    "       SBrkr\tStandard Circuit Breakers & Romex\n",
    "       FuseA\tFuse Box over 60 AMP and all Romex wiring (Average)\t\n",
    "       FuseF\t60 AMP Fuse Box and mostly Romex wiring (Fair)\n",
    "       FuseP\t60 AMP Fuse Box and mostly knob & tube wiring (poor)\n",
    "       Mix\tMixed"
   ]
  },
  {
   "cell_type": "code",
   "execution_count": 119,
   "metadata": {},
   "outputs": [
    {
     "data": {
      "text/plain": [
       "SBrkr    1328\n",
       "FuseA      90\n",
       "FuseF      27\n",
       "FuseP       3\n",
       "Mix         1\n",
       "Name: Electrical, dtype: int64"
      ]
     },
     "execution_count": 119,
     "metadata": {},
     "output_type": "execute_result"
    }
   ],
   "source": [
    "RawData[\"Electrical\"].value_counts()"
   ]
  },
  {
   "cell_type": "code",
   "execution_count": 120,
   "metadata": {},
   "outputs": [
    {
     "data": {
      "text/html": [
       "<div>\n",
       "<style scoped>\n",
       "    .dataframe tbody tr th:only-of-type {\n",
       "        vertical-align: middle;\n",
       "    }\n",
       "\n",
       "    .dataframe tbody tr th {\n",
       "        vertical-align: top;\n",
       "    }\n",
       "\n",
       "    .dataframe thead th {\n",
       "        text-align: right;\n",
       "    }\n",
       "</style>\n",
       "<table border=\"1\" class=\"dataframe\">\n",
       "  <thead>\n",
       "    <tr style=\"text-align: right;\">\n",
       "      <th></th>\n",
       "      <th>Id</th>\n",
       "      <th>MSZoning</th>\n",
       "      <th>LotFrontage</th>\n",
       "      <th>LotArea</th>\n",
       "      <th>Street</th>\n",
       "      <th>Alley</th>\n",
       "      <th>LotShape</th>\n",
       "      <th>LandContour</th>\n",
       "      <th>Utilities</th>\n",
       "      <th>LotConfig</th>\n",
       "      <th>...</th>\n",
       "      <th>ExteriorCondition</th>\n",
       "      <th>FoundationType</th>\n",
       "      <th>HasBasement</th>\n",
       "      <th>BasementQuality</th>\n",
       "      <th>BasementCondition</th>\n",
       "      <th>BasmentExposure</th>\n",
       "      <th>BasementFinish1</th>\n",
       "      <th>BasementFinish2</th>\n",
       "      <th>ForcedAirHeating</th>\n",
       "      <th>HeatingQuality</th>\n",
       "    </tr>\n",
       "  </thead>\n",
       "  <tbody>\n",
       "    <tr>\n",
       "      <td>1379</td>\n",
       "      <td>1380</td>\n",
       "      <td>RL</td>\n",
       "      <td>73.0</td>\n",
       "      <td>9735</td>\n",
       "      <td>Pave</td>\n",
       "      <td>NaN</td>\n",
       "      <td>Reg</td>\n",
       "      <td>Lvl</td>\n",
       "      <td>AllPub</td>\n",
       "      <td>Inside</td>\n",
       "      <td>...</td>\n",
       "      <td>2</td>\n",
       "      <td>PConc</td>\n",
       "      <td>0</td>\n",
       "      <td>3</td>\n",
       "      <td>2</td>\n",
       "      <td>No</td>\n",
       "      <td>0.0</td>\n",
       "      <td>0.0</td>\n",
       "      <td>True</td>\n",
       "      <td>3</td>\n",
       "    </tr>\n",
       "  </tbody>\n",
       "</table>\n",
       "<p>1 rows × 112 columns</p>\n",
       "</div>"
      ],
      "text/plain": [
       "        Id MSZoning  LotFrontage  LotArea Street Alley LotShape LandContour  \\\n",
       "1379  1380       RL         73.0     9735   Pave   NaN      Reg         Lvl   \n",
       "\n",
       "     Utilities LotConfig  ... ExteriorCondition FoundationType HasBasement  \\\n",
       "1379    AllPub    Inside  ...                 2          PConc           0   \n",
       "\n",
       "     BasementQuality BasementCondition BasmentExposure  BasementFinish1  \\\n",
       "1379               3                 2              No              0.0   \n",
       "\n",
       "      BasementFinish2  ForcedAirHeating  HeatingQuality  \n",
       "1379              0.0              True               3  \n",
       "\n",
       "[1 rows x 112 columns]"
      ]
     },
     "execution_count": 120,
     "metadata": {},
     "output_type": "execute_result"
    }
   ],
   "source": [
    "RawData[RawData[\"Electrical\"].isnull()]"
   ]
  },
  {
   "cell_type": "markdown",
   "metadata": {},
   "source": [
    "1stFlrSF: First Floor square feet"
   ]
  },
  {
   "cell_type": "markdown",
   "metadata": {},
   "source": [
    "2ndFlrSF: Second floor square feet"
   ]
  },
  {
   "cell_type": "markdown",
   "metadata": {},
   "source": [
    "LowQualFinSF: Low quality finished square feet (all floors)"
   ]
  },
  {
   "cell_type": "markdown",
   "metadata": {},
   "source": [
    "\n",
    "GrLivArea: Above grade (ground) living area square feet"
   ]
  },
  {
   "cell_type": "markdown",
   "metadata": {},
   "source": [
    "BsmtFullBath: Basement full bathrooms"
   ]
  },
  {
   "cell_type": "markdown",
   "metadata": {},
   "source": [
    "BsmtHalfBath: Basement half bathrooms"
   ]
  },
  {
   "cell_type": "markdown",
   "metadata": {},
   "source": [
    "FullBath: Full bathrooms above grade"
   ]
  },
  {
   "cell_type": "markdown",
   "metadata": {},
   "source": [
    "HalfBath: Half baths above grade"
   ]
  },
  {
   "cell_type": "code",
   "execution_count": 188,
   "metadata": {},
   "outputs": [],
   "source": [
    "RawData[\"BathroomCount\"] = RawData[\"BsmtFullBath\"] + RawData[\"FullBath\"] + ((RawData[\"BsmtHalfBath\"] + RawData[\"HalfBath\"]) / 2)"
   ]
  },
  {
   "cell_type": "markdown",
   "metadata": {},
   "source": [
    "BedroomAbvGr: Bedrooms above grade (does NOT include basement bedrooms)"
   ]
  },
  {
   "cell_type": "code",
   "execution_count": 187,
   "metadata": {},
   "outputs": [],
   "source": [
    "RawData[\"BedroomCount\"] = RawData[\"BedroomAbvGr\"]"
   ]
  },
  {
   "cell_type": "markdown",
   "metadata": {},
   "source": [
    "KitchenAbvGr: Kitchens above grade"
   ]
  },
  {
   "cell_type": "markdown",
   "metadata": {},
   "source": [
    "KitchenQual: Kitchen quality\n",
    "\n",
    "       Ex\tExcellent\n",
    "       Gd\tGood\n",
    "       TA\tTypical/Average\n",
    "       Fa\tFair\n",
    "       Po\tPoor"
   ]
  },
  {
   "cell_type": "code",
   "execution_count": 121,
   "metadata": {},
   "outputs": [],
   "source": [
    "RawData.loc[:, \"KitchenQuality\"] = RawData.loc[:, \"KitchenQual\"].map({\n",
    "    \"Po\" : 0,\n",
    "    \"Fa\" : 1,\n",
    "    \"TA\" : 2,\n",
    "    \"Gd\" : 3,\n",
    "    \"Ex\" : 4\n",
    "})"
   ]
  },
  {
   "cell_type": "markdown",
   "metadata": {},
   "source": [
    "TotRmsAbvGrd: Total rooms above grade (does not include bathrooms)"
   ]
  },
  {
   "cell_type": "markdown",
   "metadata": {},
   "source": [
    "Functional: Home functionality (Assume typical unless deductions are warranted)\n",
    "\n",
    "       Typ\tTypical Functionality\n",
    "       Min1\tMinor Deductions 1\n",
    "       Min2\tMinor Deductions 2\n",
    "       Mod\tModerate Deductions\n",
    "       Maj1\tMajor Deductions 1\n",
    "       Maj2\tMajor Deductions 2\n",
    "       Sev\tSeverely Damaged\n",
    "       Sal\tSalvage only\n",
    "\t\t"
   ]
  },
  {
   "cell_type": "code",
   "execution_count": 122,
   "metadata": {},
   "outputs": [
    {
     "data": {
      "text/plain": [
       "Typ     1350\n",
       "Min2      34\n",
       "Min1      31\n",
       "Mod       15\n",
       "Maj1      14\n",
       "Maj2       5\n",
       "Sev        1\n",
       "Name: Functional, dtype: int64"
      ]
     },
     "execution_count": 122,
     "metadata": {},
     "output_type": "execute_result"
    }
   ],
   "source": [
    "RawData[\"Functional\"].value_counts()"
   ]
  },
  {
   "cell_type": "markdown",
   "metadata": {},
   "source": [
    "Fireplaces: Number of fireplaces"
   ]
  },
  {
   "cell_type": "markdown",
   "metadata": {},
   "source": [
    "FireplaceQu: Fireplace quality\n",
    "\n",
    "       Ex\tExcellent - Exceptional Masonry Fireplace\n",
    "       Gd\tGood - Masonry Fireplace in main level\n",
    "       TA\tAverage - Prefabricated Fireplace in main living area or Masonry Fireplace in basement\n",
    "       Fa\tFair - Prefabricated Fireplace in basement\n",
    "       Po\tPoor - Ben Franklin Stove\n",
    "       NA\tNo Fireplace"
   ]
  },
  {
   "cell_type": "code",
   "execution_count": 123,
   "metadata": {},
   "outputs": [],
   "source": [
    "RawData.loc[:, \"FireplaceQuality\"] = RawData.loc[:, \"FireplaceQu\"].map({\n",
    "    \"Po\" : 1,\n",
    "    \"Fa\" : 2,\n",
    "    \"TA\" : 3,\n",
    "    \"Gd\" : 4,\n",
    "    \"Ex\" : 5,\n",
    "})"
   ]
  },
  {
   "cell_type": "code",
   "execution_count": 124,
   "metadata": {},
   "outputs": [
    {
     "data": {
      "text/plain": [
       "681"
      ]
     },
     "execution_count": 124,
     "metadata": {},
     "output_type": "execute_result"
    }
   ],
   "source": [
    "RawData[\"FireplaceQuality\"].isnull().sum()"
   ]
  },
  {
   "cell_type": "code",
   "execution_count": 125,
   "metadata": {},
   "outputs": [],
   "source": [
    "RawData[\"FireplaceQuality\"].fillna(0, inplace = True)"
   ]
  },
  {
   "cell_type": "code",
   "execution_count": 126,
   "metadata": {},
   "outputs": [],
   "source": [
    "RawData.loc[:, \"HasFireplace\"] = pd.Series(RawData[\"FireplaceQu\"].isnull()).astype(\"uint8\")"
   ]
  },
  {
   "cell_type": "markdown",
   "metadata": {},
   "source": [
    "GarageType: Garage location\n",
    "\t\t\n",
    "       2Types\tMore than one type of garage\n",
    "       Attchd\tAttached to home\n",
    "       Basment\tBasement Garage\n",
    "       BuiltIn\tBuilt-In (Garage part of house - typically has room above garage)\n",
    "       CarPort\tCar Port\n",
    "       Detchd\tDetached from home\n",
    "       NA\tNo Garage"
   ]
  },
  {
   "cell_type": "code",
   "execution_count": 127,
   "metadata": {},
   "outputs": [
    {
     "data": {
      "text/plain": [
       "Attchd     870\n",
       "Detchd     381\n",
       "BuiltIn     88\n",
       "Basment     18\n",
       "CarPort      8\n",
       "2Types       6\n",
       "Name: GarageType, dtype: int64"
      ]
     },
     "execution_count": 127,
     "metadata": {},
     "output_type": "execute_result"
    }
   ],
   "source": [
    "RawData[\"GarageType\"].value_counts()"
   ]
  },
  {
   "cell_type": "markdown",
   "metadata": {},
   "source": [
    "GarageYrBlt: Year garage was built"
   ]
  },
  {
   "cell_type": "markdown",
   "metadata": {},
   "source": [
    "GarageFinish: Interior finish of the garage\n",
    "\n",
    "       Fin\tFinished\n",
    "       RFn\tRough Finished\t\n",
    "       Unf\tUnfinished\n",
    "       NA\tNo Garage"
   ]
  },
  {
   "cell_type": "code",
   "execution_count": 128,
   "metadata": {},
   "outputs": [
    {
     "data": {
      "text/plain": [
       "79"
      ]
     },
     "execution_count": 128,
     "metadata": {},
     "output_type": "execute_result"
    }
   ],
   "source": [
    "RawData[\"GarageFinish\"].isnull().sum()"
   ]
  },
  {
   "cell_type": "code",
   "execution_count": 129,
   "metadata": {},
   "outputs": [],
   "source": [
    "RawData.loc[:, \"HasGarage\"] = pd.Series(RawData[\"GarageFinish\"].isnull()).astype(\"uint8\")"
   ]
  },
  {
   "cell_type": "code",
   "execution_count": 130,
   "metadata": {},
   "outputs": [],
   "source": [
    "RawData.loc[:, \"GarageFinish\"] = RawData.loc[:, \"GarageFinish\"].map({\n",
    "    \"Unf\" : 1,\n",
    "    \"Rfn\" : 2,\n",
    "    \"Fin\" : 3,\n",
    "})"
   ]
  },
  {
   "cell_type": "code",
   "execution_count": 131,
   "metadata": {},
   "outputs": [],
   "source": [
    "RawData[\"GarageFinish\"].fillna(0, inplace = True)"
   ]
  },
  {
   "cell_type": "markdown",
   "metadata": {},
   "source": [
    "GarageCars: Size of garage in car capacity"
   ]
  },
  {
   "cell_type": "markdown",
   "metadata": {},
   "source": [
    "GarageArea: Size of garage in square feet"
   ]
  },
  {
   "cell_type": "markdown",
   "metadata": {},
   "source": [
    "GarageQual: Garage quality\n",
    "\n",
    "       Ex\tExcellent\n",
    "       Gd\tGood\n",
    "       TA\tTypical/Average\n",
    "       Fa\tFair\n",
    "       Po\tPoor\n",
    "       NA\tNo Garage"
   ]
  },
  {
   "cell_type": "code",
   "execution_count": 132,
   "metadata": {},
   "outputs": [],
   "source": [
    "RawData.loc[:, \"GarageQuality\"] = RawData.loc[:, \"GarageQual\"].map({\n",
    "    \"Po\" : 0,\n",
    "    \"Fa\" : 1,\n",
    "    \"TA\" : 2,\n",
    "    \"Gd\" : 3,\n",
    "    \"Ex\" : 4\n",
    "})"
   ]
  },
  {
   "cell_type": "markdown",
   "metadata": {},
   "source": [
    "GarageCond: Garage condition\n",
    "\n",
    "       Ex\tExcellent\n",
    "       Gd\tGood\n",
    "       TA\tTypical/Average\n",
    "       Fa\tFair\n",
    "       Po\tPoor\n",
    "       NA\tNo Garage"
   ]
  },
  {
   "cell_type": "code",
   "execution_count": 133,
   "metadata": {},
   "outputs": [],
   "source": [
    "RawData.loc[:, \"GarageCondition\"] = RawData.loc[:, \"GarageCond\"].map({\n",
    "    \"Po\" : 0,\n",
    "    \"Fa\" : 1,\n",
    "    \"TA\" : 2,\n",
    "    \"Gd\" : 3,\n",
    "    \"Ex\" : 4\n",
    "})"
   ]
  },
  {
   "cell_type": "markdown",
   "metadata": {},
   "source": [
    "PavedDrive: Paved driveway\n",
    "\n",
    "       Y\tPaved \n",
    "       P\tPartial Pavement\n",
    "       N\tDirt/Gravel"
   ]
  },
  {
   "cell_type": "code",
   "execution_count": 134,
   "metadata": {},
   "outputs": [],
   "source": [
    "RawData.loc[:, \"PavedDriveway\"] = RawData.loc[:, \"PavedDrive\"].map({\n",
    "    \"N\" : 1,\n",
    "    \"P\" : 2,\n",
    "    \"Y\" : 3,\n",
    "})"
   ]
  },
  {
   "cell_type": "markdown",
   "metadata": {},
   "source": [
    "WoodDeckSF: Wood deck area in square feet"
   ]
  },
  {
   "cell_type": "markdown",
   "metadata": {},
   "source": [
    "OpenPorchSF: Open porch area in square feet"
   ]
  },
  {
   "cell_type": "markdown",
   "metadata": {},
   "source": [
    "EnclosedPorch: Enclosed porch area in square feet"
   ]
  },
  {
   "cell_type": "markdown",
   "metadata": {},
   "source": [
    "\n",
    "3SsnPorch: Three season porch area in square feet"
   ]
  },
  {
   "cell_type": "markdown",
   "metadata": {},
   "source": [
    "ScreenPorch: Screen porch area in square feet"
   ]
  },
  {
   "cell_type": "code",
   "execution_count": 135,
   "metadata": {},
   "outputs": [],
   "source": [
    "RawData.loc[:, \"HasPorch\"] = pd.Series((RawData.loc[:, \"WoodDeckSF\"].notnull()) | (RawData.loc[:, \"OpenPorchSF\"].notnull()) | (RawData.loc[:, \"EnclosedPorch\"].notnull()) | (RawData.loc[:, \"3SsnPorch\"].notnull())).astype(\"uint8\")"
   ]
  },
  {
   "cell_type": "markdown",
   "metadata": {},
   "source": [
    "PoolArea: Pool area in square feet"
   ]
  },
  {
   "cell_type": "markdown",
   "metadata": {},
   "source": [
    "PoolQC: Pool quality\n",
    "\t\t\n",
    "       Ex\tExcellent\n",
    "       Gd\tGood\n",
    "       TA\tAverage/Typical\n",
    "       Fa\tFair\n",
    "       NA\tNo Pool"
   ]
  },
  {
   "cell_type": "code",
   "execution_count": 136,
   "metadata": {},
   "outputs": [
    {
     "data": {
      "text/plain": [
       "1443"
      ]
     },
     "execution_count": 136,
     "metadata": {},
     "output_type": "execute_result"
    }
   ],
   "source": [
    "RawData[\"PoolQC\"].isnull().sum()"
   ]
  },
  {
   "cell_type": "code",
   "execution_count": 137,
   "metadata": {},
   "outputs": [],
   "source": [
    "RawData.loc[:, \"PoolQuality\"] = RawData.loc[:, \"PoolQC\"].map({\n",
    "    \"Po\" : 1,\n",
    "    \"Fa\" : 2,\n",
    "    \"TA\" : 3,\n",
    "    \"Gd\" : 4,\n",
    "    \"Ex\" : 5\n",
    "})\n",
    "RawData.loc[:, \"PoolQuality\"].fillna(0, inplace = True)"
   ]
  },
  {
   "cell_type": "code",
   "execution_count": 138,
   "metadata": {},
   "outputs": [
    {
     "data": {
      "text/plain": [
       "0"
      ]
     },
     "execution_count": 138,
     "metadata": {},
     "output_type": "execute_result"
    }
   ],
   "source": [
    "RawData[\"PoolQuality\"].isnull().sum()"
   ]
  },
  {
   "cell_type": "code",
   "execution_count": 139,
   "metadata": {},
   "outputs": [],
   "source": [
    "RawData.loc[:, \"HasPool\"] = pd.Series((RawData.loc[:, \"PoolQC\"].notnull())).astype(\"uint8\")"
   ]
  },
  {
   "cell_type": "code",
   "execution_count": 140,
   "metadata": {},
   "outputs": [
    {
     "data": {
      "text/html": [
       "<div>\n",
       "<style scoped>\n",
       "    .dataframe tbody tr th:only-of-type {\n",
       "        vertical-align: middle;\n",
       "    }\n",
       "\n",
       "    .dataframe tbody tr th {\n",
       "        vertical-align: top;\n",
       "    }\n",
       "\n",
       "    .dataframe thead th {\n",
       "        text-align: right;\n",
       "    }\n",
       "</style>\n",
       "<table border=\"1\" class=\"dataframe\">\n",
       "  <thead>\n",
       "    <tr style=\"text-align: right;\">\n",
       "      <th></th>\n",
       "      <th>Id</th>\n",
       "      <th>MSZoning</th>\n",
       "      <th>LotFrontage</th>\n",
       "      <th>LotArea</th>\n",
       "      <th>Street</th>\n",
       "      <th>Alley</th>\n",
       "      <th>LotShape</th>\n",
       "      <th>LandContour</th>\n",
       "      <th>Utilities</th>\n",
       "      <th>LotConfig</th>\n",
       "      <th>...</th>\n",
       "      <th>HeatingQuality</th>\n",
       "      <th>KitchenQuality</th>\n",
       "      <th>FireplaceQuality</th>\n",
       "      <th>HasFireplace</th>\n",
       "      <th>HasGarage</th>\n",
       "      <th>GarageQuality</th>\n",
       "      <th>GarageCondition</th>\n",
       "      <th>PavedDriveway</th>\n",
       "      <th>HasPorch</th>\n",
       "      <th>HasPool</th>\n",
       "    </tr>\n",
       "  </thead>\n",
       "  <tbody>\n",
       "    <tr>\n",
       "      <td>0</td>\n",
       "      <td>1</td>\n",
       "      <td>RL</td>\n",
       "      <td>65.0</td>\n",
       "      <td>8450</td>\n",
       "      <td>Pave</td>\n",
       "      <td>NaN</td>\n",
       "      <td>Reg</td>\n",
       "      <td>Lvl</td>\n",
       "      <td>AllPub</td>\n",
       "      <td>Inside</td>\n",
       "      <td>...</td>\n",
       "      <td>4</td>\n",
       "      <td>3</td>\n",
       "      <td>0.0</td>\n",
       "      <td>1</td>\n",
       "      <td>0</td>\n",
       "      <td>2.0</td>\n",
       "      <td>2.0</td>\n",
       "      <td>3</td>\n",
       "      <td>1</td>\n",
       "      <td>0</td>\n",
       "    </tr>\n",
       "    <tr>\n",
       "      <td>1</td>\n",
       "      <td>2</td>\n",
       "      <td>RL</td>\n",
       "      <td>80.0</td>\n",
       "      <td>9600</td>\n",
       "      <td>Pave</td>\n",
       "      <td>NaN</td>\n",
       "      <td>Reg</td>\n",
       "      <td>Lvl</td>\n",
       "      <td>AllPub</td>\n",
       "      <td>FR2</td>\n",
       "      <td>...</td>\n",
       "      <td>4</td>\n",
       "      <td>2</td>\n",
       "      <td>3.0</td>\n",
       "      <td>0</td>\n",
       "      <td>0</td>\n",
       "      <td>2.0</td>\n",
       "      <td>2.0</td>\n",
       "      <td>3</td>\n",
       "      <td>1</td>\n",
       "      <td>0</td>\n",
       "    </tr>\n",
       "    <tr>\n",
       "      <td>2</td>\n",
       "      <td>3</td>\n",
       "      <td>RL</td>\n",
       "      <td>68.0</td>\n",
       "      <td>11250</td>\n",
       "      <td>Pave</td>\n",
       "      <td>NaN</td>\n",
       "      <td>IR1</td>\n",
       "      <td>Lvl</td>\n",
       "      <td>AllPub</td>\n",
       "      <td>Inside</td>\n",
       "      <td>...</td>\n",
       "      <td>4</td>\n",
       "      <td>3</td>\n",
       "      <td>3.0</td>\n",
       "      <td>0</td>\n",
       "      <td>0</td>\n",
       "      <td>2.0</td>\n",
       "      <td>2.0</td>\n",
       "      <td>3</td>\n",
       "      <td>1</td>\n",
       "      <td>0</td>\n",
       "    </tr>\n",
       "    <tr>\n",
       "      <td>3</td>\n",
       "      <td>4</td>\n",
       "      <td>RL</td>\n",
       "      <td>60.0</td>\n",
       "      <td>9550</td>\n",
       "      <td>Pave</td>\n",
       "      <td>NaN</td>\n",
       "      <td>IR1</td>\n",
       "      <td>Lvl</td>\n",
       "      <td>AllPub</td>\n",
       "      <td>Corner</td>\n",
       "      <td>...</td>\n",
       "      <td>3</td>\n",
       "      <td>3</td>\n",
       "      <td>4.0</td>\n",
       "      <td>0</td>\n",
       "      <td>0</td>\n",
       "      <td>2.0</td>\n",
       "      <td>2.0</td>\n",
       "      <td>3</td>\n",
       "      <td>1</td>\n",
       "      <td>0</td>\n",
       "    </tr>\n",
       "    <tr>\n",
       "      <td>4</td>\n",
       "      <td>5</td>\n",
       "      <td>RL</td>\n",
       "      <td>84.0</td>\n",
       "      <td>14260</td>\n",
       "      <td>Pave</td>\n",
       "      <td>NaN</td>\n",
       "      <td>IR1</td>\n",
       "      <td>Lvl</td>\n",
       "      <td>AllPub</td>\n",
       "      <td>FR2</td>\n",
       "      <td>...</td>\n",
       "      <td>4</td>\n",
       "      <td>3</td>\n",
       "      <td>3.0</td>\n",
       "      <td>0</td>\n",
       "      <td>0</td>\n",
       "      <td>2.0</td>\n",
       "      <td>2.0</td>\n",
       "      <td>3</td>\n",
       "      <td>1</td>\n",
       "      <td>0</td>\n",
       "    </tr>\n",
       "    <tr>\n",
       "      <td>...</td>\n",
       "      <td>...</td>\n",
       "      <td>...</td>\n",
       "      <td>...</td>\n",
       "      <td>...</td>\n",
       "      <td>...</td>\n",
       "      <td>...</td>\n",
       "      <td>...</td>\n",
       "      <td>...</td>\n",
       "      <td>...</td>\n",
       "      <td>...</td>\n",
       "      <td>...</td>\n",
       "      <td>...</td>\n",
       "      <td>...</td>\n",
       "      <td>...</td>\n",
       "      <td>...</td>\n",
       "      <td>...</td>\n",
       "      <td>...</td>\n",
       "      <td>...</td>\n",
       "      <td>...</td>\n",
       "      <td>...</td>\n",
       "      <td>...</td>\n",
       "    </tr>\n",
       "    <tr>\n",
       "      <td>1455</td>\n",
       "      <td>1456</td>\n",
       "      <td>RL</td>\n",
       "      <td>62.0</td>\n",
       "      <td>7917</td>\n",
       "      <td>Pave</td>\n",
       "      <td>NaN</td>\n",
       "      <td>Reg</td>\n",
       "      <td>Lvl</td>\n",
       "      <td>AllPub</td>\n",
       "      <td>Inside</td>\n",
       "      <td>...</td>\n",
       "      <td>4</td>\n",
       "      <td>2</td>\n",
       "      <td>3.0</td>\n",
       "      <td>0</td>\n",
       "      <td>0</td>\n",
       "      <td>2.0</td>\n",
       "      <td>2.0</td>\n",
       "      <td>3</td>\n",
       "      <td>1</td>\n",
       "      <td>0</td>\n",
       "    </tr>\n",
       "    <tr>\n",
       "      <td>1456</td>\n",
       "      <td>1457</td>\n",
       "      <td>RL</td>\n",
       "      <td>85.0</td>\n",
       "      <td>13175</td>\n",
       "      <td>Pave</td>\n",
       "      <td>NaN</td>\n",
       "      <td>Reg</td>\n",
       "      <td>Lvl</td>\n",
       "      <td>AllPub</td>\n",
       "      <td>Inside</td>\n",
       "      <td>...</td>\n",
       "      <td>2</td>\n",
       "      <td>2</td>\n",
       "      <td>3.0</td>\n",
       "      <td>0</td>\n",
       "      <td>0</td>\n",
       "      <td>2.0</td>\n",
       "      <td>2.0</td>\n",
       "      <td>3</td>\n",
       "      <td>1</td>\n",
       "      <td>0</td>\n",
       "    </tr>\n",
       "    <tr>\n",
       "      <td>1457</td>\n",
       "      <td>1458</td>\n",
       "      <td>RL</td>\n",
       "      <td>66.0</td>\n",
       "      <td>9042</td>\n",
       "      <td>Pave</td>\n",
       "      <td>NaN</td>\n",
       "      <td>Reg</td>\n",
       "      <td>Lvl</td>\n",
       "      <td>AllPub</td>\n",
       "      <td>Inside</td>\n",
       "      <td>...</td>\n",
       "      <td>4</td>\n",
       "      <td>3</td>\n",
       "      <td>4.0</td>\n",
       "      <td>0</td>\n",
       "      <td>0</td>\n",
       "      <td>2.0</td>\n",
       "      <td>2.0</td>\n",
       "      <td>3</td>\n",
       "      <td>1</td>\n",
       "      <td>0</td>\n",
       "    </tr>\n",
       "    <tr>\n",
       "      <td>1458</td>\n",
       "      <td>1459</td>\n",
       "      <td>RL</td>\n",
       "      <td>68.0</td>\n",
       "      <td>9717</td>\n",
       "      <td>Pave</td>\n",
       "      <td>NaN</td>\n",
       "      <td>Reg</td>\n",
       "      <td>Lvl</td>\n",
       "      <td>AllPub</td>\n",
       "      <td>Inside</td>\n",
       "      <td>...</td>\n",
       "      <td>3</td>\n",
       "      <td>3</td>\n",
       "      <td>0.0</td>\n",
       "      <td>1</td>\n",
       "      <td>0</td>\n",
       "      <td>2.0</td>\n",
       "      <td>2.0</td>\n",
       "      <td>3</td>\n",
       "      <td>1</td>\n",
       "      <td>0</td>\n",
       "    </tr>\n",
       "    <tr>\n",
       "      <td>1459</td>\n",
       "      <td>1460</td>\n",
       "      <td>RL</td>\n",
       "      <td>75.0</td>\n",
       "      <td>9937</td>\n",
       "      <td>Pave</td>\n",
       "      <td>NaN</td>\n",
       "      <td>Reg</td>\n",
       "      <td>Lvl</td>\n",
       "      <td>AllPub</td>\n",
       "      <td>Inside</td>\n",
       "      <td>...</td>\n",
       "      <td>3</td>\n",
       "      <td>2</td>\n",
       "      <td>0.0</td>\n",
       "      <td>1</td>\n",
       "      <td>0</td>\n",
       "      <td>2.0</td>\n",
       "      <td>2.0</td>\n",
       "      <td>3</td>\n",
       "      <td>1</td>\n",
       "      <td>0</td>\n",
       "    </tr>\n",
       "  </tbody>\n",
       "</table>\n",
       "<p>1450 rows × 121 columns</p>\n",
       "</div>"
      ],
      "text/plain": [
       "        Id MSZoning  LotFrontage  LotArea Street Alley LotShape LandContour  \\\n",
       "0        1       RL         65.0     8450   Pave   NaN      Reg         Lvl   \n",
       "1        2       RL         80.0     9600   Pave   NaN      Reg         Lvl   \n",
       "2        3       RL         68.0    11250   Pave   NaN      IR1         Lvl   \n",
       "3        4       RL         60.0     9550   Pave   NaN      IR1         Lvl   \n",
       "4        5       RL         84.0    14260   Pave   NaN      IR1         Lvl   \n",
       "...    ...      ...          ...      ...    ...   ...      ...         ...   \n",
       "1455  1456       RL         62.0     7917   Pave   NaN      Reg         Lvl   \n",
       "1456  1457       RL         85.0    13175   Pave   NaN      Reg         Lvl   \n",
       "1457  1458       RL         66.0     9042   Pave   NaN      Reg         Lvl   \n",
       "1458  1459       RL         68.0     9717   Pave   NaN      Reg         Lvl   \n",
       "1459  1460       RL         75.0     9937   Pave   NaN      Reg         Lvl   \n",
       "\n",
       "     Utilities LotConfig  ... HeatingQuality KitchenQuality FireplaceQuality  \\\n",
       "0       AllPub    Inside  ...              4              3              0.0   \n",
       "1       AllPub       FR2  ...              4              2              3.0   \n",
       "2       AllPub    Inside  ...              4              3              3.0   \n",
       "3       AllPub    Corner  ...              3              3              4.0   \n",
       "4       AllPub       FR2  ...              4              3              3.0   \n",
       "...        ...       ...  ...            ...            ...              ...   \n",
       "1455    AllPub    Inside  ...              4              2              3.0   \n",
       "1456    AllPub    Inside  ...              2              2              3.0   \n",
       "1457    AllPub    Inside  ...              4              3              4.0   \n",
       "1458    AllPub    Inside  ...              3              3              0.0   \n",
       "1459    AllPub    Inside  ...              3              2              0.0   \n",
       "\n",
       "     HasFireplace HasGarage GarageQuality  GarageCondition  PavedDriveway  \\\n",
       "0               1         0           2.0              2.0              3   \n",
       "1               0         0           2.0              2.0              3   \n",
       "2               0         0           2.0              2.0              3   \n",
       "3               0         0           2.0              2.0              3   \n",
       "4               0         0           2.0              2.0              3   \n",
       "...           ...       ...           ...              ...            ...   \n",
       "1455            0         0           2.0              2.0              3   \n",
       "1456            0         0           2.0              2.0              3   \n",
       "1457            0         0           2.0              2.0              3   \n",
       "1458            1         0           2.0              2.0              3   \n",
       "1459            1         0           2.0              2.0              3   \n",
       "\n",
       "      HasPorch  HasPool  \n",
       "0            1        0  \n",
       "1            1        0  \n",
       "2            1        0  \n",
       "3            1        0  \n",
       "4            1        0  \n",
       "...        ...      ...  \n",
       "1455         1        0  \n",
       "1456         1        0  \n",
       "1457         1        0  \n",
       "1458         1        0  \n",
       "1459         1        0  \n",
       "\n",
       "[1450 rows x 121 columns]"
      ]
     },
     "execution_count": 140,
     "metadata": {},
     "output_type": "execute_result"
    }
   ],
   "source": [
    "RawData.drop(\"PoolQuality\", axis = 1)"
   ]
  },
  {
   "cell_type": "markdown",
   "metadata": {},
   "source": [
    "Fence: Fence quality\n",
    "\t\t\n",
    "       GdPrv\tGood Privacy\n",
    "       MnPrv\tMinimum Privacy\n",
    "       GdWo\tGood Wood\n",
    "       MnWw\tMinimum Wood/Wire\n",
    "       NA\tNo Fence"
   ]
  },
  {
   "cell_type": "code",
   "execution_count": 141,
   "metadata": {},
   "outputs": [],
   "source": [
    "RawData.loc[:, \"Fencing\"] = RawData.loc[:, \"Fence\"].map({\n",
    "    \"NA\" : 0,\n",
    "    \"MnWw\" : 1,\n",
    "    \"GdWo\" : 2,\n",
    "    \"MnPrv\" : 3,\n",
    "    \"GdPrv\" : 4\n",
    "})"
   ]
  },
  {
   "cell_type": "code",
   "execution_count": 142,
   "metadata": {},
   "outputs": [],
   "source": [
    "RawData[\"Fencing\"].fillna(0, inplace = True)"
   ]
  },
  {
   "cell_type": "markdown",
   "metadata": {},
   "source": [
    "MiscFeature: Miscellaneous feature not covered in other categories\n",
    "\t\t\n",
    "       Elev\tElevator\n",
    "       Gar2\t2nd Garage (if not described in garage section)\n",
    "       Othr\tOther\n",
    "       Shed\tShed (over 100 SF)\n",
    "       TenC\tTennis Court\n",
    "       NA\tNone"
   ]
  },
  {
   "cell_type": "markdown",
   "metadata": {},
   "source": [
    "MiscVal: $Value of miscellaneous feature"
   ]
  },
  {
   "cell_type": "markdown",
   "metadata": {},
   "source": [
    "MoSold: Month Sold (MM)"
   ]
  },
  {
   "cell_type": "code",
   "execution_count": 143,
   "metadata": {},
   "outputs": [
    {
     "data": {
      "text/plain": [
       "array([ 2,  5,  9, 12, 10,  8, 11,  4,  1,  7,  3,  6], dtype=int64)"
      ]
     },
     "execution_count": 143,
     "metadata": {},
     "output_type": "execute_result"
    }
   ],
   "source": [
    "RawData[\"MoSold\"].unique()"
   ]
  },
  {
   "cell_type": "code",
   "execution_count": 144,
   "metadata": {},
   "outputs": [],
   "source": [
    "import calendar\n",
    "RawData.loc[:, \"MonthSold\"] = RawData[\"MoSold\"].apply(lambda x: calendar.month_abbr[x])"
   ]
  },
  {
   "cell_type": "code",
   "execution_count": 145,
   "metadata": {
    "scrolled": false
   },
   "outputs": [
    {
     "data": {
      "text/plain": [
       "array(['Feb', 'May', 'Sep', 'Dec', 'Oct', 'Aug', 'Nov', 'Apr', 'Jan',\n",
       "       'Jul', 'Mar', 'Jun'], dtype=object)"
      ]
     },
     "execution_count": 145,
     "metadata": {},
     "output_type": "execute_result"
    }
   ],
   "source": [
    "RawData[\"MonthSold\"].unique()"
   ]
  },
  {
   "cell_type": "code",
   "execution_count": 146,
   "metadata": {},
   "outputs": [
    {
     "name": "stderr",
     "output_type": "stream",
     "text": [
      "C:\\Anaconda3\\lib\\site-packages\\pandas\\core\\frame.py:4102: SettingWithCopyWarning: \n",
      "A value is trying to be set on a copy of a slice from a DataFrame\n",
      "\n",
      "See the caveats in the documentation: http://pandas.pydata.org/pandas-docs/stable/user_guide/indexing.html#returning-a-view-versus-a-copy\n",
      "  errors=errors,\n"
     ]
    }
   ],
   "source": [
    "RawData.drop(\"MoSold\", axis = 1, inplace = True)"
   ]
  },
  {
   "cell_type": "markdown",
   "metadata": {},
   "source": [
    "YrSold: Year Sold (YYYY)"
   ]
  },
  {
   "cell_type": "markdown",
   "metadata": {},
   "source": [
    "SaleType: Type of sale\n",
    "\t\t\n",
    "       WD \tWarranty Deed - Conventional\n",
    "       CWD\tWarranty Deed - Cash\n",
    "       VWD\tWarranty Deed - VA Loan\n",
    "       New\tHome just constructed and sold\n",
    "       COD\tCourt Officer Deed/Estate\n",
    "       Con\tContract 15% Down payment regular terms\n",
    "       ConLw\tContract Low Down payment and low interest\n",
    "       ConLI\tContract Low Interest\n",
    "       ConLD\tContract Low Down\n",
    "       Oth\tOther"
   ]
  },
  {
   "cell_type": "code",
   "execution_count": 147,
   "metadata": {
    "scrolled": false
   },
   "outputs": [
    {
     "data": {
      "text/plain": [
       "WD       1261\n",
       "New       122\n",
       "COD        41\n",
       "ConLD       7\n",
       "ConLI       5\n",
       "ConLw       5\n",
       "CWD         4\n",
       "Oth         3\n",
       "Con         2\n",
       "Name: SaleType, dtype: int64"
      ]
     },
     "execution_count": 147,
     "metadata": {},
     "output_type": "execute_result"
    }
   ],
   "source": [
    "RawData[\"SaleType\"].value_counts()"
   ]
  },
  {
   "cell_type": "code",
   "execution_count": 148,
   "metadata": {},
   "outputs": [],
   "source": [
    "RawData.loc[:, \"Contract-Risky\"] = pd.Series((RawData.loc[:, \"SaleType\"] == \"ConLW\") | (RawData.loc[:, \"SaleType\"] == \"ConLI\") | (RawData.loc[:, \"SaleType\"] == \"ConLD\")).astype(\"uint8\")"
   ]
  },
  {
   "cell_type": "markdown",
   "metadata": {},
   "source": [
    "> Drop foreclosures, auction sales, estate sales, etc. Basically just look at \"normal\" deed transfers."
   ]
  },
  {
   "cell_type": "code",
   "execution_count": 149,
   "metadata": {
    "scrolled": true
   },
   "outputs": [],
   "source": [
    "RawData.drop(RawData[(RawData[\"SaleType\"] == \"COD\") | (RawData[\"SaleType\"] == \"Oth\")].index, axis = 0, inplace = True)"
   ]
  },
  {
   "cell_type": "markdown",
   "metadata": {},
   "source": [
    "SaleCondition: Condition of sale\n",
    "\n",
    "       Normal\tNormal Sale\n",
    "       Abnorml\tAbnormal Sale -  trade, foreclosure, short sale\n",
    "       AdjLand\tAdjoining Land Purchase\n",
    "       Alloca\tAllocation - two linked properties with separate deeds, typically condo with a garage unit\t\n",
    "       Family\tSale between family members\n",
    "       Partial\tHome was not completed when last assessed (associated with New Homes)"
   ]
  },
  {
   "cell_type": "code",
   "execution_count": 150,
   "metadata": {
    "scrolled": false
   },
   "outputs": [
    {
     "data": {
      "text/plain": [
       "Normal     1176\n",
       "Partial     125\n",
       "Abnorml      70\n",
       "Family       20\n",
       "Alloca       11\n",
       "AdjLand       4\n",
       "Name: SaleCondition, dtype: int64"
      ]
     },
     "execution_count": 150,
     "metadata": {},
     "output_type": "execute_result"
    }
   ],
   "source": [
    "RawData[\"SaleCondition\"].value_counts()"
   ]
  },
  {
   "cell_type": "code",
   "execution_count": 151,
   "metadata": {
    "scrolled": true
   },
   "outputs": [
    {
     "data": {
      "text/html": [
       "<div>\n",
       "<style scoped>\n",
       "    .dataframe tbody tr th:only-of-type {\n",
       "        vertical-align: middle;\n",
       "    }\n",
       "\n",
       "    .dataframe tbody tr th {\n",
       "        vertical-align: top;\n",
       "    }\n",
       "\n",
       "    .dataframe thead th {\n",
       "        text-align: right;\n",
       "    }\n",
       "</style>\n",
       "<table border=\"1\" class=\"dataframe\">\n",
       "  <thead>\n",
       "    <tr style=\"text-align: right;\">\n",
       "      <th></th>\n",
       "      <th>Id</th>\n",
       "      <th>MSZoning</th>\n",
       "      <th>LotFrontage</th>\n",
       "      <th>LotArea</th>\n",
       "      <th>Street</th>\n",
       "      <th>Alley</th>\n",
       "      <th>LotShape</th>\n",
       "      <th>LandContour</th>\n",
       "      <th>Utilities</th>\n",
       "      <th>LotConfig</th>\n",
       "      <th>...</th>\n",
       "      <th>HasGarage</th>\n",
       "      <th>GarageQuality</th>\n",
       "      <th>GarageCondition</th>\n",
       "      <th>PavedDriveway</th>\n",
       "      <th>HasPorch</th>\n",
       "      <th>PoolQuality</th>\n",
       "      <th>HasPool</th>\n",
       "      <th>Fencing</th>\n",
       "      <th>MonthSold</th>\n",
       "      <th>Contract-Risky</th>\n",
       "    </tr>\n",
       "  </thead>\n",
       "  <tbody>\n",
       "    <tr>\n",
       "      <td>0</td>\n",
       "      <td>1</td>\n",
       "      <td>RL</td>\n",
       "      <td>65.0</td>\n",
       "      <td>8450</td>\n",
       "      <td>Pave</td>\n",
       "      <td>NaN</td>\n",
       "      <td>Reg</td>\n",
       "      <td>Lvl</td>\n",
       "      <td>AllPub</td>\n",
       "      <td>Inside</td>\n",
       "      <td>...</td>\n",
       "      <td>0</td>\n",
       "      <td>2.0</td>\n",
       "      <td>2.0</td>\n",
       "      <td>3</td>\n",
       "      <td>1</td>\n",
       "      <td>0.0</td>\n",
       "      <td>0</td>\n",
       "      <td>0.0</td>\n",
       "      <td>Feb</td>\n",
       "      <td>0</td>\n",
       "    </tr>\n",
       "    <tr>\n",
       "      <td>1</td>\n",
       "      <td>2</td>\n",
       "      <td>RL</td>\n",
       "      <td>80.0</td>\n",
       "      <td>9600</td>\n",
       "      <td>Pave</td>\n",
       "      <td>NaN</td>\n",
       "      <td>Reg</td>\n",
       "      <td>Lvl</td>\n",
       "      <td>AllPub</td>\n",
       "      <td>FR2</td>\n",
       "      <td>...</td>\n",
       "      <td>0</td>\n",
       "      <td>2.0</td>\n",
       "      <td>2.0</td>\n",
       "      <td>3</td>\n",
       "      <td>1</td>\n",
       "      <td>0.0</td>\n",
       "      <td>0</td>\n",
       "      <td>0.0</td>\n",
       "      <td>May</td>\n",
       "      <td>0</td>\n",
       "    </tr>\n",
       "    <tr>\n",
       "      <td>2</td>\n",
       "      <td>3</td>\n",
       "      <td>RL</td>\n",
       "      <td>68.0</td>\n",
       "      <td>11250</td>\n",
       "      <td>Pave</td>\n",
       "      <td>NaN</td>\n",
       "      <td>IR1</td>\n",
       "      <td>Lvl</td>\n",
       "      <td>AllPub</td>\n",
       "      <td>Inside</td>\n",
       "      <td>...</td>\n",
       "      <td>0</td>\n",
       "      <td>2.0</td>\n",
       "      <td>2.0</td>\n",
       "      <td>3</td>\n",
       "      <td>1</td>\n",
       "      <td>0.0</td>\n",
       "      <td>0</td>\n",
       "      <td>0.0</td>\n",
       "      <td>Sep</td>\n",
       "      <td>0</td>\n",
       "    </tr>\n",
       "    <tr>\n",
       "      <td>3</td>\n",
       "      <td>4</td>\n",
       "      <td>RL</td>\n",
       "      <td>60.0</td>\n",
       "      <td>9550</td>\n",
       "      <td>Pave</td>\n",
       "      <td>NaN</td>\n",
       "      <td>IR1</td>\n",
       "      <td>Lvl</td>\n",
       "      <td>AllPub</td>\n",
       "      <td>Corner</td>\n",
       "      <td>...</td>\n",
       "      <td>0</td>\n",
       "      <td>2.0</td>\n",
       "      <td>2.0</td>\n",
       "      <td>3</td>\n",
       "      <td>1</td>\n",
       "      <td>0.0</td>\n",
       "      <td>0</td>\n",
       "      <td>0.0</td>\n",
       "      <td>Feb</td>\n",
       "      <td>0</td>\n",
       "    </tr>\n",
       "    <tr>\n",
       "      <td>4</td>\n",
       "      <td>5</td>\n",
       "      <td>RL</td>\n",
       "      <td>84.0</td>\n",
       "      <td>14260</td>\n",
       "      <td>Pave</td>\n",
       "      <td>NaN</td>\n",
       "      <td>IR1</td>\n",
       "      <td>Lvl</td>\n",
       "      <td>AllPub</td>\n",
       "      <td>FR2</td>\n",
       "      <td>...</td>\n",
       "      <td>0</td>\n",
       "      <td>2.0</td>\n",
       "      <td>2.0</td>\n",
       "      <td>3</td>\n",
       "      <td>1</td>\n",
       "      <td>0.0</td>\n",
       "      <td>0</td>\n",
       "      <td>0.0</td>\n",
       "      <td>Dec</td>\n",
       "      <td>0</td>\n",
       "    </tr>\n",
       "    <tr>\n",
       "      <td>...</td>\n",
       "      <td>...</td>\n",
       "      <td>...</td>\n",
       "      <td>...</td>\n",
       "      <td>...</td>\n",
       "      <td>...</td>\n",
       "      <td>...</td>\n",
       "      <td>...</td>\n",
       "      <td>...</td>\n",
       "      <td>...</td>\n",
       "      <td>...</td>\n",
       "      <td>...</td>\n",
       "      <td>...</td>\n",
       "      <td>...</td>\n",
       "      <td>...</td>\n",
       "      <td>...</td>\n",
       "      <td>...</td>\n",
       "      <td>...</td>\n",
       "      <td>...</td>\n",
       "      <td>...</td>\n",
       "      <td>...</td>\n",
       "      <td>...</td>\n",
       "    </tr>\n",
       "    <tr>\n",
       "      <td>1455</td>\n",
       "      <td>1456</td>\n",
       "      <td>RL</td>\n",
       "      <td>62.0</td>\n",
       "      <td>7917</td>\n",
       "      <td>Pave</td>\n",
       "      <td>NaN</td>\n",
       "      <td>Reg</td>\n",
       "      <td>Lvl</td>\n",
       "      <td>AllPub</td>\n",
       "      <td>Inside</td>\n",
       "      <td>...</td>\n",
       "      <td>0</td>\n",
       "      <td>2.0</td>\n",
       "      <td>2.0</td>\n",
       "      <td>3</td>\n",
       "      <td>1</td>\n",
       "      <td>0.0</td>\n",
       "      <td>0</td>\n",
       "      <td>0.0</td>\n",
       "      <td>Aug</td>\n",
       "      <td>0</td>\n",
       "    </tr>\n",
       "    <tr>\n",
       "      <td>1456</td>\n",
       "      <td>1457</td>\n",
       "      <td>RL</td>\n",
       "      <td>85.0</td>\n",
       "      <td>13175</td>\n",
       "      <td>Pave</td>\n",
       "      <td>NaN</td>\n",
       "      <td>Reg</td>\n",
       "      <td>Lvl</td>\n",
       "      <td>AllPub</td>\n",
       "      <td>Inside</td>\n",
       "      <td>...</td>\n",
       "      <td>0</td>\n",
       "      <td>2.0</td>\n",
       "      <td>2.0</td>\n",
       "      <td>3</td>\n",
       "      <td>1</td>\n",
       "      <td>0.0</td>\n",
       "      <td>0</td>\n",
       "      <td>3.0</td>\n",
       "      <td>Feb</td>\n",
       "      <td>0</td>\n",
       "    </tr>\n",
       "    <tr>\n",
       "      <td>1457</td>\n",
       "      <td>1458</td>\n",
       "      <td>RL</td>\n",
       "      <td>66.0</td>\n",
       "      <td>9042</td>\n",
       "      <td>Pave</td>\n",
       "      <td>NaN</td>\n",
       "      <td>Reg</td>\n",
       "      <td>Lvl</td>\n",
       "      <td>AllPub</td>\n",
       "      <td>Inside</td>\n",
       "      <td>...</td>\n",
       "      <td>0</td>\n",
       "      <td>2.0</td>\n",
       "      <td>2.0</td>\n",
       "      <td>3</td>\n",
       "      <td>1</td>\n",
       "      <td>0.0</td>\n",
       "      <td>0</td>\n",
       "      <td>4.0</td>\n",
       "      <td>May</td>\n",
       "      <td>0</td>\n",
       "    </tr>\n",
       "    <tr>\n",
       "      <td>1458</td>\n",
       "      <td>1459</td>\n",
       "      <td>RL</td>\n",
       "      <td>68.0</td>\n",
       "      <td>9717</td>\n",
       "      <td>Pave</td>\n",
       "      <td>NaN</td>\n",
       "      <td>Reg</td>\n",
       "      <td>Lvl</td>\n",
       "      <td>AllPub</td>\n",
       "      <td>Inside</td>\n",
       "      <td>...</td>\n",
       "      <td>0</td>\n",
       "      <td>2.0</td>\n",
       "      <td>2.0</td>\n",
       "      <td>3</td>\n",
       "      <td>1</td>\n",
       "      <td>0.0</td>\n",
       "      <td>0</td>\n",
       "      <td>0.0</td>\n",
       "      <td>Apr</td>\n",
       "      <td>0</td>\n",
       "    </tr>\n",
       "    <tr>\n",
       "      <td>1459</td>\n",
       "      <td>1460</td>\n",
       "      <td>RL</td>\n",
       "      <td>75.0</td>\n",
       "      <td>9937</td>\n",
       "      <td>Pave</td>\n",
       "      <td>NaN</td>\n",
       "      <td>Reg</td>\n",
       "      <td>Lvl</td>\n",
       "      <td>AllPub</td>\n",
       "      <td>Inside</td>\n",
       "      <td>...</td>\n",
       "      <td>0</td>\n",
       "      <td>2.0</td>\n",
       "      <td>2.0</td>\n",
       "      <td>3</td>\n",
       "      <td>1</td>\n",
       "      <td>0.0</td>\n",
       "      <td>0</td>\n",
       "      <td>0.0</td>\n",
       "      <td>Jun</td>\n",
       "      <td>0</td>\n",
       "    </tr>\n",
       "  </tbody>\n",
       "</table>\n",
       "<p>1382 rows × 124 columns</p>\n",
       "</div>"
      ],
      "text/plain": [
       "        Id MSZoning  LotFrontage  LotArea Street Alley LotShape LandContour  \\\n",
       "0        1       RL         65.0     8450   Pave   NaN      Reg         Lvl   \n",
       "1        2       RL         80.0     9600   Pave   NaN      Reg         Lvl   \n",
       "2        3       RL         68.0    11250   Pave   NaN      IR1         Lvl   \n",
       "3        4       RL         60.0     9550   Pave   NaN      IR1         Lvl   \n",
       "4        5       RL         84.0    14260   Pave   NaN      IR1         Lvl   \n",
       "...    ...      ...          ...      ...    ...   ...      ...         ...   \n",
       "1455  1456       RL         62.0     7917   Pave   NaN      Reg         Lvl   \n",
       "1456  1457       RL         85.0    13175   Pave   NaN      Reg         Lvl   \n",
       "1457  1458       RL         66.0     9042   Pave   NaN      Reg         Lvl   \n",
       "1458  1459       RL         68.0     9717   Pave   NaN      Reg         Lvl   \n",
       "1459  1460       RL         75.0     9937   Pave   NaN      Reg         Lvl   \n",
       "\n",
       "     Utilities LotConfig  ... HasGarage GarageQuality GarageCondition  \\\n",
       "0       AllPub    Inside  ...         0           2.0             2.0   \n",
       "1       AllPub       FR2  ...         0           2.0             2.0   \n",
       "2       AllPub    Inside  ...         0           2.0             2.0   \n",
       "3       AllPub    Corner  ...         0           2.0             2.0   \n",
       "4       AllPub       FR2  ...         0           2.0             2.0   \n",
       "...        ...       ...  ...       ...           ...             ...   \n",
       "1455    AllPub    Inside  ...         0           2.0             2.0   \n",
       "1456    AllPub    Inside  ...         0           2.0             2.0   \n",
       "1457    AllPub    Inside  ...         0           2.0             2.0   \n",
       "1458    AllPub    Inside  ...         0           2.0             2.0   \n",
       "1459    AllPub    Inside  ...         0           2.0             2.0   \n",
       "\n",
       "     PavedDriveway HasPorch PoolQuality  HasPool  Fencing  MonthSold  \\\n",
       "0                3        1         0.0        0      0.0        Feb   \n",
       "1                3        1         0.0        0      0.0        May   \n",
       "2                3        1         0.0        0      0.0        Sep   \n",
       "3                3        1         0.0        0      0.0        Feb   \n",
       "4                3        1         0.0        0      0.0        Dec   \n",
       "...            ...      ...         ...      ...      ...        ...   \n",
       "1455             3        1         0.0        0      0.0        Aug   \n",
       "1456             3        1         0.0        0      3.0        Feb   \n",
       "1457             3        1         0.0        0      4.0        May   \n",
       "1458             3        1         0.0        0      0.0        Apr   \n",
       "1459             3        1         0.0        0      0.0        Jun   \n",
       "\n",
       "      Contract-Risky  \n",
       "0                  0  \n",
       "1                  0  \n",
       "2                  0  \n",
       "3                  0  \n",
       "4                  0  \n",
       "...              ...  \n",
       "1455               0  \n",
       "1456               0  \n",
       "1457               0  \n",
       "1458               0  \n",
       "1459               0  \n",
       "\n",
       "[1382 rows x 124 columns]"
      ]
     },
     "execution_count": 151,
     "metadata": {},
     "output_type": "execute_result"
    }
   ],
   "source": [
    "RawData.drop(RawData[(RawData[\"SaleCondition\"] == \"Family\") | (RawData[\"SaleCondition\"] == \"Abnormal\") | (RawData[\"SaleCondition\"] == \"AdjLand\")].index, axis = 0)"
   ]
  },
  {
   "cell_type": "code",
   "execution_count": 152,
   "metadata": {},
   "outputs": [],
   "source": [
    "RawData.loc[:, \"NormalSale\"] = pd.Series(RawData.loc[:, \"SaleCondition\"].isin([\"Normal\", \"Alloca\", \"Partial\"])).astype(\"uint8\")"
   ]
  },
  {
   "cell_type": "markdown",
   "metadata": {},
   "source": []
  },
  {
   "cell_type": "markdown",
   "metadata": {},
   "source": []
  },
  {
   "cell_type": "markdown",
   "metadata": {},
   "source": []
  },
  {
   "cell_type": "markdown",
   "metadata": {},
   "source": [
    "## Calculate Living area and Usable Area"
   ]
  },
  {
   "cell_type": "code",
   "execution_count": 153,
   "metadata": {},
   "outputs": [],
   "source": [
    "RawData.loc[:, \"PorchAreaSF\"] = RawData.loc[:, \"WoodDeckSF\"] + RawData.loc[:, \"OpenPorchSF\"] + RawData.loc[:, \"3SsnPorch\"] + RawData.loc[:, \"ScreenPorch\"]"
   ]
  },
  {
   "cell_type": "code",
   "execution_count": 154,
   "metadata": {},
   "outputs": [],
   "source": [
    "RawData.loc[:, \"UsableAreaSF\"] = RawData.loc[:, \"1stFlrSF\"] + RawData.loc[:, \"2ndFlrSF\"] + RawData.loc[:, \"TotalBsmtSF\"] + RawData.loc[:, \"GarageArea\"] + RawData.loc[:, \"PorchAreaSF\"] "
   ]
  },
  {
   "cell_type": "code",
   "execution_count": 155,
   "metadata": {},
   "outputs": [],
   "source": [
    "RawData.loc[:, \"LivingAreaSF\"] = RawData.loc[:, \"GrLivArea\"] + RawData.loc[:, \"TotalBsmtSF\"] - RawData.loc[:, \"BsmtUnfSF\"]"
   ]
  },
  {
   "cell_type": "code",
   "execution_count": 156,
   "metadata": {
    "scrolled": true
   },
   "outputs": [
    {
     "data": {
      "text/plain": [
       "['Alley',\n",
       " 'BsmtExposure',\n",
       " 'BsmtFinType1',\n",
       " 'BsmtFinType2',\n",
       " 'Electrical',\n",
       " 'FireplaceQu',\n",
       " 'GarageType',\n",
       " 'GarageYrBlt',\n",
       " 'GarageQual',\n",
       " 'GarageCond',\n",
       " 'PoolQC',\n",
       " 'Fence',\n",
       " 'MiscFeature',\n",
       " 'BasementFinish1',\n",
       " 'BasementFinish2',\n",
       " 'GarageQuality',\n",
       " 'GarageCondition']"
      ]
     },
     "execution_count": 156,
     "metadata": {},
     "output_type": "execute_result"
    }
   ],
   "source": [
    "RawData.columns[(RawData.isnull().sum() > 0)].to_list()"
   ]
  },
  {
   "cell_type": "markdown",
   "metadata": {},
   "source": [
    "## Prune Nulls"
   ]
  },
  {
   "cell_type": "code",
   "execution_count": 157,
   "metadata": {
    "scrolled": true
   },
   "outputs": [],
   "source": [
    "def ShowLongList(Data):\n",
    "    with pd.option_context('display.max_rows', None, 'display.max_columns', None):\n",
    "        print(Data)"
   ]
  },
  {
   "cell_type": "code",
   "execution_count": 158,
   "metadata": {},
   "outputs": [
    {
     "name": "stdout",
     "output_type": "stream",
     "text": [
      "PoolQC                    1399\n",
      "MiscFeature               1357\n",
      "Alley                     1320\n",
      "Fence                     1142\n",
      "FireplaceQu                652\n",
      "GarageCond                  77\n",
      "GarageCondition             77\n",
      "GarageType                  77\n",
      "GarageQual                  77\n",
      "GarageQuality               77\n",
      "GarageYrBlt                 77\n",
      "BsmtFinType2                37\n",
      "BasementFinish2             37\n",
      "BsmtFinType1                36\n",
      "BsmtExposure                36\n",
      "BasementFinish1             36\n",
      "Electrical                   1\n",
      "LandContour                  0\n",
      "HeatingQC                    0\n",
      "CentralAir                   0\n",
      "1stFlrSF                     0\n",
      "2ndFlrSF                     0\n",
      "LowQualFinSF                 0\n",
      "GrLivArea                    0\n",
      "BsmtFullBath                 0\n",
      "BsmtHalfBath                 0\n",
      "FullBath                     0\n",
      "LotShape                     0\n",
      "TotalBsmtSF                  0\n",
      "Street                       0\n",
      "HalfBath                     0\n",
      "BedroomAbvGr                 0\n",
      "KitchenAbvGr                 0\n",
      "KitchenQual                  0\n",
      "TotRmsAbvGrd                 0\n",
      "Functional                   0\n",
      "Fireplaces                   0\n",
      "LotArea                      0\n",
      "LotFrontage                  0\n",
      "MSZoning                     0\n",
      "Heating                      0\n",
      "LotConfig                    0\n",
      "BsmtUnfSF                    0\n",
      "BsmtFinSF2                   0\n",
      "LandSlope                    0\n",
      "Neighborhood                 0\n",
      "Condition1                   0\n",
      "Condition2                   0\n",
      "BldgType                     0\n",
      "HouseStyle                   0\n",
      "OverallQual                  0\n",
      "OverallCond                  0\n",
      "YearBuilt                    0\n",
      "YearRemodAdd                 0\n",
      "RoofStyle                    0\n",
      "RoofMatl                     0\n",
      "Exterior1st                  0\n",
      "Exterior2nd                  0\n",
      "MasVnrType                   0\n",
      "MasVnrArea                   0\n",
      "ExterQual                    0\n",
      "ExterCond                    0\n",
      "Foundation                   0\n",
      "GarageFinish                 0\n",
      "BsmtCond                     0\n",
      "BsmtFinSF1                   0\n",
      "Utilities                    0\n",
      "BsmtQual                     0\n",
      "LivingAreaSF                 0\n",
      "GarageCars                   0\n",
      "HeatingQuality               0\n",
      "ShingledRoof                 0\n",
      "ExteriorMaterialType         0\n",
      "SecondExteriorMaterial       0\n",
      "MasonryVeneerType            0\n",
      "ExteriorQuality              0\n",
      "ExteriorCondition            0\n",
      "FoundationType               0\n",
      "HasBasement                  0\n",
      "BasementQuality              0\n",
      "BasementCondition            0\n",
      "BasmentExposure              0\n",
      "ForcedAirHeating             0\n",
      "KitchenQuality               0\n",
      "RoofType                     0\n",
      "FireplaceQuality             0\n",
      "HasFireplace                 0\n",
      "HasGarage                    0\n",
      "PavedDriveway                0\n",
      "HasPorch                     0\n",
      "PoolQuality                  0\n",
      "HasPool                      0\n",
      "Fencing                      0\n",
      "MonthSold                    0\n",
      "Contract-Risky               0\n",
      "NormalSale                   0\n",
      "PorchAreaSF                  0\n",
      "RoofMaterial                 0\n",
      "SplitFloors                  0\n",
      "GarageArea                   0\n",
      "SalePrice                    0\n",
      "UsableAreaSF                 0\n",
      "PavedDrive                   0\n",
      "WoodDeckSF                   0\n",
      "OpenPorchSF                  0\n",
      "EnclosedPorch                0\n",
      "3SsnPorch                    0\n",
      "ScreenPorch                  0\n",
      "PoolArea                     0\n",
      "MiscVal                      0\n",
      "YrSold                       0\n",
      "SaleType                     0\n",
      "SaleCondition                0\n",
      "Building Class               0\n",
      "Floors                       0\n",
      "SplitLevel                   0\n",
      "Remodeled                    0\n",
      "Styling                      0\n",
      "StreetPaving                 0\n",
      "AlleyAccess                  0\n",
      "LotShapeRegularity           0\n",
      "Hills                        0\n",
      "Utility-All                  0\n",
      "LotAccessibility             0\n",
      "LandGrading                  0\n",
      "OtherConditions              0\n",
      "BuildingType                 0\n",
      "Id                           0\n",
      "dtype: int64\n"
     ]
    }
   ],
   "source": [
    "ShowLongList(RawData.isnull().sum().sort_values(ascending = False))"
   ]
  },
  {
   "cell_type": "code",
   "execution_count": 159,
   "metadata": {
    "scrolled": true
   },
   "outputs": [],
   "source": [
    "RawData = RawData.drop(RawData.columns.values[RawData.isnull().sum()>10], axis = 1)"
   ]
  },
  {
   "cell_type": "code",
   "execution_count": 160,
   "metadata": {},
   "outputs": [
    {
     "data": {
      "text/plain": [
       "Electrical         1\n",
       "LivingAreaSF       0\n",
       "UsableAreaSF       0\n",
       "BsmtCond           0\n",
       "BsmtFinSF1         0\n",
       "                  ..\n",
       "OtherConditions    0\n",
       "BuildingType       0\n",
       "Floors             0\n",
       "SplitFloors        0\n",
       "Id                 0\n",
       "Length: 112, dtype: int64"
      ]
     },
     "execution_count": 160,
     "metadata": {},
     "output_type": "execute_result"
    }
   ],
   "source": [
    "RawData.isnull().sum().sort_values(ascending = False)"
   ]
  },
  {
   "cell_type": "code",
   "execution_count": 161,
   "metadata": {},
   "outputs": [],
   "source": [
    "RawData.dropna(inplace = True)"
   ]
  },
  {
   "cell_type": "markdown",
   "metadata": {},
   "source": [
    "## Prune columns"
   ]
  },
  {
   "cell_type": "code",
   "execution_count": 162,
   "metadata": {},
   "outputs": [],
   "source": [
    "def ShowSimpleCorrelations(DataFrame, ColumnLabel):\n",
    "    Correlations_List = DataFrame.corr()[ColumnLabel]\n",
    "    ShowLongList(abs(Correlations_List).sort_values(ascending=False))\n",
    "    return Correlations_List"
   ]
  },
  {
   "cell_type": "code",
   "execution_count": 163,
   "metadata": {},
   "outputs": [],
   "source": [
    "TrainingData = pd.get_dummies(RawData.drop(\"Id\", axis = 1), drop_first = True)"
   ]
  },
  {
   "cell_type": "code",
   "execution_count": 164,
   "metadata": {
    "scrolled": true
   },
   "outputs": [
    {
     "name": "stdout",
     "output_type": "stream",
     "text": [
      "SalePrice                                1.000000\n",
      "UsableAreaSF                             0.818688\n",
      "OverallQual                              0.789535\n",
      "GrLivArea                                0.709069\n",
      "LivingAreaSF                             0.704836\n",
      "ExteriorQuality                          0.680401\n",
      "KitchenQuality                           0.656879\n",
      "GarageCars                               0.649170\n",
      "BasementQuality                          0.648091\n",
      "GarageArea                               0.635704\n",
      "TotalBsmtSF                              0.617021\n",
      "1stFlrSF                                 0.610884\n",
      "ExterQual_TA                             0.591460\n",
      "FullBath                                 0.557941\n",
      "TotRmsAbvGrd                             0.535472\n",
      "YearBuilt                                0.517988\n",
      "KitchenQual_TA                           0.516062\n",
      "FireplaceQuality                         0.513416\n",
      "Styling                                  0.502657\n",
      "YearRemodAdd                             0.498421\n",
      "BsmtQual_TA                              0.493476\n",
      "FoundationType_PConc                     0.492897\n",
      "Foundation_PConc                         0.492897\n",
      "MasVnrArea                               0.476861\n",
      "HasFireplace                             0.462331\n",
      "Fireplaces                               0.459176\n",
      "ExterQual_Gd                             0.445487\n",
      "PorchAreaSF                              0.444982\n",
      "HeatingQuality                           0.419403\n",
      "Neighborhood_NridgHt                     0.403021\n",
      "BsmtFinSF1                               0.385004\n",
      "Building Class_2_story_1946              0.372549\n",
      "MasVnrType_None                          0.368939\n",
      "MasonryVeneerType_None                   0.368939\n",
      "SaleType_New                             0.356296\n",
      "SaleCondition_Partial                    0.350672\n",
      "LotFrontage                              0.348691\n",
      "Foundation_CBlock                        0.339629\n",
      "FoundationType_CBlock                    0.339629\n",
      "Neighborhood_NoRidge                     0.331546\n",
      "OpenPorchSF                              0.329336\n",
      "SaleType_WD                              0.329209\n",
      "MasonryVeneerType_Stone                  0.327489\n",
      "MasVnrType_Stone                         0.327489\n",
      "BasmentExposure_No                       0.319928\n",
      "2ndFlrSF                                 0.319810\n",
      "WoodDeckSF                               0.317933\n",
      "KitchenQual_Gd                           0.310678\n",
      "MSZoning_RM                              0.309539\n",
      "BasmentExposure_Gd                       0.306922\n",
      "HeatingQC_TA                             0.305747\n",
      "Exterior2nd_VinylSd                      0.298723\n",
      "Exterior1st_VinylSd                      0.297062\n",
      "GarageFinish                             0.291881\n",
      "HalfBath                                 0.283393\n",
      "LotShape_Reg                             0.264002\n",
      "LotShapeRegularity                       0.263140\n",
      "LotArea                                  0.262830\n",
      "RoofType_Hip                             0.243831\n",
      "RoofStyle_Hip                            0.243831\n",
      "HouseStyle_2Story                        0.241730\n",
      "Floors_2Story                            0.240411\n",
      "Building Class_1_story_1945              0.238963\n",
      "HasGarage                                0.238129\n",
      "MSZoning_RL                              0.236167\n",
      "Electrical_SBrkr                         0.233853\n",
      "RoofStyle_Gable                          0.233813\n",
      "PavedDrive_Y                             0.227402\n",
      "PavedDriveway                            0.225727\n",
      "BsmtUnfSF                                0.221756\n",
      "BsmtQual_Gd                              0.221709\n",
      "BsmtFullBath                             0.220665\n",
      "Neighborhood_StoneBr                     0.219574\n",
      "ExteriorMaterialType_Vinyl               0.215912\n",
      "MasVnrType_BrkFace                       0.198462\n",
      "Neighborhood_OldTown                     0.196926\n",
      "SaleCondition_Normal                     0.194036\n",
      "Neighborhood_NAmes                       0.191002\n",
      "Neighborhood_Edwards                     0.178536\n",
      "RoofMatl_WdShngl                         0.170371\n",
      "BedroomAbvGr                             0.166242\n",
      "Exterior1st_MetalSd                      0.166063\n",
      "ExteriorMaterialType_Metal               0.166063\n",
      "Exterior2nd_Wd Sdng                      0.161504\n",
      "Exterior2nd_MetalSd                      0.160911\n",
      "Exterior1st_Wd Sdng                      0.158578\n",
      "ExteriorMaterialType_Wood                0.158204\n",
      "HasBasement                              0.158084\n",
      "KitchenQual_Fa                           0.155428\n",
      "BasementCondition                        0.151158\n",
      "Neighborhood_BrkSide                     0.150898\n",
      "Fencing                                  0.148764\n",
      "LotConfig_CulDSac                        0.140664\n",
      "LotAccessibility_CulDSac                 0.140664\n",
      "HeatingQC_Gd                             0.138446\n",
      "KitchenAbvGr                             0.136971\n",
      "Neighborhood_Somerst                     0.136303\n",
      "Neighborhood_Sawyer                      0.136102\n",
      "HeatingQC_Fa                             0.132075\n",
      "Exterior1st_CemntBd                      0.130584\n",
      "EnclosedPorch                            0.130523\n",
      "BsmtQual_Fa                              0.129537\n",
      "Neighborhood_IDOTRR                      0.129383\n",
      "Electrical_FuseF                         0.129025\n",
      "RoofMaterial_Other                       0.127668\n",
      "ExterCond_Fa                             0.127127\n",
      "Neighborhood_Timber                      0.126850\n",
      "ExteriorMaterialType_Cement              0.125975\n",
      "Exterior2nd_CmentBd                      0.125231\n",
      "Foundation_Slab                          0.124747\n",
      "FoundationType_Slab                      0.124747\n",
      "LotShape_IR2                             0.123975\n",
      "LandContour_HLS                          0.122409\n",
      "AlleyAccess                              0.120727\n",
      "Functional_Typ                           0.117941\n",
      "Neighborhood_MeadowV                     0.116924\n",
      "Condition1_Feedr                         0.115338\n",
      "BuildingType_Duplex                      0.115067\n",
      "Building Class_Duplex                    0.115067\n",
      "BldgType_Duplex                          0.115067\n",
      "OtherConditions_None                     0.114339\n",
      "Condition1_Norm                          0.114339\n",
      "ScreenPorch                              0.114196\n",
      "Building Class_2_story_PUD               0.114020\n",
      "PoolQuality                              0.111809\n",
      "NormalSale                               0.110142\n",
      "OtherConditions_MajorStreet              0.108432\n",
      "ExterCond_TA                             0.104485\n",
      "ExterQual_Fa                             0.101400\n",
      "BldgType_2fmCon                          0.101086\n",
      "BuildingType_2fmCon                      0.101086\n",
      "OverallCond                              0.100030\n",
      "Floors_SFoyer                            0.098473\n",
      "HouseStyle_SFoyer                        0.098473\n",
      "RoofMatl_CompShg                         0.097841\n",
      "BuildingType_Twnhs                       0.097518\n",
      "BldgType_Twnhs                           0.097518\n",
      "Neighborhood_BrDale                      0.097506\n",
      "Exterior1st_HdBoard                      0.097413\n",
      "Building Class_2_Family_Conersion        0.097138\n",
      "ForcedAirHeating                         0.096169\n",
      "Heating_GasA                             0.096169\n",
      "Heating_Grav                             0.095442\n",
      "SplitFloors                              0.095164\n",
      "PavedDrive_P                             0.093528\n",
      "HasPool                                  0.093468\n",
      "PoolArea                                 0.092161\n",
      "HouseStyle_1.5Unf                        0.091430\n",
      "Building Class_1_5-story_unfinished      0.086401\n",
      "Building Class_PUD_multilevel            0.085497\n",
      "BsmtCond_Gd                              0.082482\n",
      "LotAccessibility_Inside                  0.077585\n",
      "LotConfig_Inside                         0.077585\n",
      "Functional_Min2                          0.075579\n",
      "Exterior2nd_ImStucc                      0.073536\n",
      "Functional_Maj2                          0.072715\n",
      "Exterior2nd_HdBoard                      0.071290\n",
      "Neighborhood_SWISU                       0.067903\n",
      "Neighborhood_Crawfor                     0.066686\n",
      "Neighborhood_CollgCr                     0.065682\n",
      "Functional_Min1                          0.063709\n",
      "OtherConditions_Parks                    0.062382\n",
      "Neighborhood_Veenker                     0.062339\n",
      "Heating_Wall                             0.060793\n",
      "Building Class_1_story_PUD_1946          0.060339\n",
      "Floors_1Story                            0.059095\n",
      "HouseStyle_1Story                        0.059095\n",
      "Neighborhood_Mitchel                     0.057321\n",
      "BsmtCond_Po                              0.056262\n",
      "LandGrading                              0.056116\n",
      "SplitLevel                               0.055985\n",
      "ExterCond_Gd                             0.055738\n",
      "Exterior1st_WdShing                      0.055124\n",
      "Exterior2nd_Plywood                      0.054232\n",
      "LandContour_Low                          0.053849\n",
      "Hills                                    0.053849\n",
      "Building Class_Split_foyer               0.052759\n",
      "SaleCondition_AdjLand                    0.052734\n",
      "LandSlope_Mod                            0.051559\n",
      "Neighborhood_ClearCr                     0.050615\n",
      "SaleCondition_Family                     0.050062\n",
      "Electrical_FuseP                         0.049593\n",
      "Condition1_RRAe                          0.049484\n",
      "Condition2_PosN                          0.048326\n",
      "Condition2_PosA                          0.047590\n",
      "Condition1_PosN                          0.047528\n",
      "MonthSold_May                            0.046969\n",
      "Exterior2nd_Stucco                       0.046345\n",
      "Building Class_1_story_1946              0.045755\n",
      "3SsnPorch                                0.045730\n",
      "Exterior2nd_Other                        0.045582\n",
      "Exterior2nd_Wd Shng                      0.044414\n",
      "BasmentExposure_Mn                       0.043669\n",
      "HouseStyle_SLvl                          0.041809\n",
      "Floors_SLvl                              0.041809\n",
      "SaleType_Con                             0.041093\n",
      "Condition1_PosA                          0.040865\n",
      "Condition2_Feedr                         0.040786\n",
      "Condition2_RRNn                          0.040754\n",
      "MonthSold_Sep                            0.039756\n",
      "MonthSold_Nov                            0.039196\n",
      "Electrical_Mix                           0.038765\n",
      "Exterior1st_BrkFace                      0.038056\n",
      "Neighborhood_NPkVill                     0.037760\n",
      "Exterior2nd_Brk Cmn                      0.036947\n",
      "Building Class_2_story_1945              0.036044\n",
      "MonthSold_Jul                            0.035808\n",
      "ExterCond_Po                             0.035585\n",
      "HouseStyle_2.5Fin                        0.035289\n",
      "LotShape_IR3                             0.035274\n",
      "Exterior1st_BrkComm                      0.033744\n",
      "Exterior1st_Stucco                       0.033469\n",
      "Building Class_Split_multilevel          0.032787\n",
      "Exterior2nd_BrkFace                      0.032229\n",
      "HeatingQC_Po                             0.032071\n",
      "RoofMatl_WdShake                         0.031619\n",
      "Neighborhood_Gilbert                     0.030726\n",
      "ExteriorMaterialType_Brick               0.030687\n",
      "LandContour_Lvl                          0.030421\n",
      "SaleType_ConLw                           0.029318\n",
      "Exterior1st_AsphShn                      0.027720\n",
      "ExteriorMaterialType_Stucco              0.027586\n",
      "Heating_OthW                             0.027022\n",
      "Exterior1st_ImStucc                      0.026503\n",
      "LandSlope_Sev                            0.026133\n",
      "Exterior2nd_CBlock                       0.026046\n",
      "Exterior1st_CBlock                       0.026046\n",
      "Exterior2nd_AsphShn                      0.026001\n",
      "Condition2_Norm                          0.025999\n",
      "MonthSold_Jun                            0.025575\n",
      "YrSold                                   0.024979\n",
      "SaleType_ConLD                           0.024937\n",
      "HouseStyle_2.5Unf                        0.024547\n",
      "RoofStyle_Gambrel                        0.024441\n",
      "Neighborhood_NWAmes                      0.024375\n",
      "BsmtCond_TA                              0.023756\n",
      "Condition1_RRNn                          0.022172\n",
      "Remodeled                                0.021990\n",
      "MiscVal                                  0.021608\n",
      "LowQualFinSF                             0.020663\n",
      "RoofStyle_Shed                           0.019974\n",
      "Heating_GasW                             0.019792\n",
      "Neighborhood_Blueste                     0.019687\n",
      "RoofMatl_Membran                         0.019642\n",
      "Exterior2nd_Stone                        0.018432\n",
      "BsmtHalfBath                             0.018414\n",
      "BsmtFinSF2                               0.018252\n",
      "Functional_Sev                           0.018013\n",
      "Building Class_1_story_finished_attic    0.017887\n",
      "LotConfig_FR3                            0.017194\n",
      "Exterior1st_Plywood                      0.016683\n",
      "MonthSold_Aug                            0.016152\n",
      "ShingledRoof                             0.015800\n",
      "Exterior1st_Stone                        0.015793\n",
      "Condition2_RRAn                          0.015367\n",
      "RoofMatl_Roll                            0.015335\n",
      "Street_Pave                              0.014595\n",
      "StreetPaving                             0.014595\n",
      "OtherConditions_Railroad                 0.013367\n",
      "SaleType_ConLI                           0.013171\n",
      "Building Class_2_5_story                 0.012949\n",
      "MonthSold_Feb                            0.012134\n",
      "Contract-Risky                           0.010557\n",
      "MonthSold_Dec                            0.009720\n",
      "MonthSold_Jan                            0.008820\n",
      "ExteriorCondition                        0.008778\n",
      "Functional_Mod                           0.008407\n",
      "LotConfig_FR2                            0.007921\n",
      "Neighborhood_SawyerW                     0.006569\n",
      "SaleCondition_Alloca                     0.005920\n",
      "MonthSold_Oct                            0.005231\n",
      "Condition1_RRAn                          0.004516\n",
      "Condition1_RRNe                          0.003756\n",
      "Foundation_Stone                         0.003164\n",
      "RoofMatl_Tar&Grv                         0.002885\n",
      "RoofMaterial_Tar&Grv                     0.002885\n",
      "Condition2_RRAe                          0.002404\n",
      "SecondExteriorMaterial                   0.002071\n",
      "RoofStyle_Mansard                        0.001996\n",
      "BuildingType_TwnhsE                      0.001914\n",
      "BldgType_TwnhsE                          0.001914\n",
      "Foundation_Wood                          0.001653\n",
      "MonthSold_Mar                            0.001565\n",
      "FoundationType_Other                     0.001490\n",
      "RoofMatl_Metal                           0.000943\n",
      "RoofType_Other                           0.000431\n",
      "CentralAir                                    NaN\n",
      "Utility-All                                   NaN\n",
      "HasPorch                                      NaN\n",
      "Name: SalePrice, dtype: float64\n"
     ]
    }
   ],
   "source": [
    "CorrelationData = ShowSimpleCorrelations(TrainingData, \"SalePrice\")"
   ]
  },
  {
   "cell_type": "code",
   "execution_count": 165,
   "metadata": {
    "scrolled": false
   },
   "outputs": [],
   "source": [
    "PredictorsList = CorrelationData#[(CorrelationData > 0.05) | (CorrelationData < -0.05)].sort_index(axis = 0)"
   ]
  },
  {
   "cell_type": "code",
   "execution_count": 166,
   "metadata": {
    "scrolled": false
   },
   "outputs": [
    {
     "name": "stdout",
     "output_type": "stream",
     "text": [
      "LotFrontage                              0.348691\n",
      "LotArea                                  0.262830\n",
      "OverallQual                              0.789535\n",
      "OverallCond                             -0.100030\n",
      "YearBuilt                                0.517988\n",
      "YearRemodAdd                             0.498421\n",
      "MasVnrArea                               0.476861\n",
      "BsmtFinSF1                               0.385004\n",
      "BsmtFinSF2                              -0.018252\n",
      "BsmtUnfSF                                0.221756\n",
      "TotalBsmtSF                              0.617021\n",
      "CentralAir                                    NaN\n",
      "1stFlrSF                                 0.610884\n",
      "2ndFlrSF                                 0.319810\n",
      "LowQualFinSF                            -0.020663\n",
      "GrLivArea                                0.709069\n",
      "BsmtFullBath                             0.220665\n",
      "BsmtHalfBath                            -0.018414\n",
      "FullBath                                 0.557941\n",
      "HalfBath                                 0.283393\n",
      "BedroomAbvGr                             0.166242\n",
      "KitchenAbvGr                            -0.136971\n",
      "TotRmsAbvGrd                             0.535472\n",
      "Fireplaces                               0.459176\n",
      "GarageFinish                             0.291881\n",
      "GarageCars                               0.649170\n",
      "GarageArea                               0.635704\n",
      "WoodDeckSF                               0.317933\n",
      "OpenPorchSF                              0.329336\n",
      "EnclosedPorch                           -0.130523\n",
      "3SsnPorch                                0.045730\n",
      "ScreenPorch                              0.114196\n",
      "PoolArea                                 0.092161\n",
      "MiscVal                                 -0.021608\n",
      "YrSold                                  -0.024979\n",
      "SalePrice                                1.000000\n",
      "SplitLevel                              -0.055985\n",
      "Remodeled                               -0.021990\n",
      "Styling                                  0.502657\n",
      "StreetPaving                             0.014595\n",
      "AlleyAccess                             -0.120727\n",
      "LotShapeRegularity                       0.263140\n",
      "Hills                                   -0.053849\n",
      "Utility-All                                   NaN\n",
      "LandGrading                              0.056116\n",
      "SplitFloors                             -0.095164\n",
      "ShingledRoof                            -0.015800\n",
      "SecondExteriorMaterial                   0.002071\n",
      "ExteriorQuality                          0.680401\n",
      "ExteriorCondition                        0.008778\n",
      "HasBasement                             -0.158084\n",
      "BasementQuality                          0.648091\n",
      "BasementCondition                        0.151158\n",
      "ForcedAirHeating                         0.096169\n",
      "HeatingQuality                           0.419403\n",
      "KitchenQuality                           0.656879\n",
      "FireplaceQuality                         0.513416\n",
      "HasFireplace                            -0.462331\n",
      "HasGarage                               -0.238129\n",
      "PavedDriveway                            0.225727\n",
      "HasPorch                                      NaN\n",
      "PoolQuality                              0.111809\n",
      "HasPool                                  0.093468\n",
      "Fencing                                 -0.148764\n",
      "Contract-Risky                          -0.010557\n",
      "NormalSale                               0.110142\n",
      "PorchAreaSF                              0.444982\n",
      "UsableAreaSF                             0.818688\n",
      "LivingAreaSF                             0.704836\n",
      "MSZoning_RL                              0.236167\n",
      "MSZoning_RM                             -0.309539\n",
      "Street_Pave                              0.014595\n",
      "LotShape_IR2                             0.123975\n",
      "LotShape_IR3                             0.035274\n",
      "LotShape_Reg                            -0.264002\n",
      "LandContour_HLS                          0.122409\n",
      "LandContour_Low                          0.053849\n",
      "LandContour_Lvl                         -0.030421\n",
      "LotConfig_CulDSac                        0.140664\n",
      "LotConfig_FR2                           -0.007921\n",
      "LotConfig_FR3                            0.017194\n",
      "LotConfig_Inside                        -0.077585\n",
      "LandSlope_Mod                            0.051559\n",
      "LandSlope_Sev                            0.026133\n",
      "Neighborhood_Blueste                    -0.019687\n",
      "Neighborhood_BrDale                     -0.097506\n",
      "Neighborhood_BrkSide                    -0.150898\n",
      "Neighborhood_ClearCr                     0.050615\n",
      "Neighborhood_CollgCr                     0.065682\n",
      "Neighborhood_Crawfor                     0.066686\n",
      "Neighborhood_Edwards                    -0.178536\n",
      "Neighborhood_Gilbert                     0.030726\n",
      "Neighborhood_IDOTRR                     -0.129383\n",
      "Neighborhood_MeadowV                    -0.116924\n",
      "Neighborhood_Mitchel                    -0.057321\n",
      "Neighborhood_NAmes                      -0.191002\n",
      "Neighborhood_NPkVill                    -0.037760\n",
      "Neighborhood_NWAmes                      0.024375\n",
      "Neighborhood_NoRidge                     0.331546\n",
      "Neighborhood_NridgHt                     0.403021\n",
      "Neighborhood_OldTown                    -0.196926\n",
      "Neighborhood_SWISU                      -0.067903\n",
      "Neighborhood_Sawyer                     -0.136102\n",
      "Neighborhood_SawyerW                     0.006569\n",
      "Neighborhood_Somerst                     0.136303\n",
      "Neighborhood_StoneBr                     0.219574\n",
      "Neighborhood_Timber                      0.126850\n",
      "Neighborhood_Veenker                     0.062339\n",
      "Condition1_Feedr                        -0.115338\n",
      "Condition1_Norm                          0.114339\n",
      "Condition1_PosA                          0.040865\n",
      "Condition1_PosN                          0.047528\n",
      "Condition1_RRAe                         -0.049484\n",
      "Condition1_RRAn                          0.004516\n",
      "Condition1_RRNe                          0.003756\n",
      "Condition1_RRNn                          0.022172\n",
      "Condition2_Feedr                        -0.040786\n",
      "Condition2_Norm                          0.025999\n",
      "Condition2_PosA                          0.047590\n",
      "Condition2_PosN                          0.048326\n",
      "Condition2_RRAe                          0.002404\n",
      "Condition2_RRAn                         -0.015367\n",
      "Condition2_RRNn                         -0.040754\n",
      "BldgType_2fmCon                         -0.101086\n",
      "BldgType_Duplex                         -0.115067\n",
      "BldgType_Twnhs                          -0.097518\n",
      "BldgType_TwnhsE                         -0.001914\n",
      "HouseStyle_1.5Unf                       -0.091430\n",
      "HouseStyle_1Story                       -0.059095\n",
      "HouseStyle_2.5Fin                        0.035289\n",
      "HouseStyle_2.5Unf                       -0.024547\n",
      "HouseStyle_2Story                        0.241730\n",
      "HouseStyle_SFoyer                       -0.098473\n",
      "HouseStyle_SLvl                         -0.041809\n",
      "RoofStyle_Gable                         -0.233813\n",
      "RoofStyle_Gambrel                       -0.024441\n",
      "RoofStyle_Hip                            0.243831\n",
      "RoofStyle_Mansard                       -0.001996\n",
      "RoofStyle_Shed                           0.019974\n",
      "RoofMatl_CompShg                        -0.097841\n",
      "RoofMatl_Membran                         0.019642\n",
      "RoofMatl_Metal                          -0.000943\n",
      "RoofMatl_Roll                           -0.015335\n",
      "RoofMatl_Tar&Grv                         0.002885\n",
      "RoofMatl_WdShake                         0.031619\n",
      "RoofMatl_WdShngl                         0.170371\n",
      "Exterior1st_AsphShn                     -0.027720\n",
      "Exterior1st_BrkComm                     -0.033744\n",
      "Exterior1st_BrkFace                      0.038056\n",
      "Exterior1st_CBlock                      -0.026046\n",
      "Exterior1st_CemntBd                      0.130584\n",
      "Exterior1st_HdBoard                     -0.097413\n",
      "Exterior1st_ImStucc                      0.026503\n",
      "Exterior1st_MetalSd                     -0.166063\n",
      "Exterior1st_Plywood                     -0.016683\n",
      "Exterior1st_Stone                        0.015793\n",
      "Exterior1st_Stucco                      -0.033469\n",
      "Exterior1st_VinylSd                      0.297062\n",
      "Exterior1st_Wd Sdng                     -0.158578\n",
      "Exterior1st_WdShing                     -0.055124\n",
      "Exterior2nd_AsphShn                     -0.026001\n",
      "Exterior2nd_Brk Cmn                     -0.036947\n",
      "Exterior2nd_BrkFace                      0.032229\n",
      "Exterior2nd_CBlock                      -0.026046\n",
      "Exterior2nd_CmentBd                      0.125231\n",
      "Exterior2nd_HdBoard                     -0.071290\n",
      "Exterior2nd_ImStucc                      0.073536\n",
      "Exterior2nd_MetalSd                     -0.160911\n",
      "Exterior2nd_Other                        0.045582\n",
      "Exterior2nd_Plywood                     -0.054232\n",
      "Exterior2nd_Stone                       -0.018432\n",
      "Exterior2nd_Stucco                      -0.046345\n",
      "Exterior2nd_VinylSd                      0.298723\n",
      "Exterior2nd_Wd Sdng                     -0.161504\n",
      "Exterior2nd_Wd Shng                     -0.044414\n",
      "MasVnrType_BrkFace                       0.198462\n",
      "MasVnrType_None                         -0.368939\n",
      "MasVnrType_Stone                         0.327489\n",
      "ExterQual_Fa                            -0.101400\n",
      "ExterQual_Gd                             0.445487\n",
      "ExterQual_TA                            -0.591460\n",
      "ExterCond_Fa                            -0.127127\n",
      "ExterCond_Gd                            -0.055738\n",
      "ExterCond_Po                            -0.035585\n",
      "ExterCond_TA                             0.104485\n",
      "Foundation_CBlock                       -0.339629\n",
      "Foundation_PConc                         0.492897\n",
      "Foundation_Slab                         -0.124747\n",
      "Foundation_Stone                        -0.003164\n",
      "Foundation_Wood                          0.001653\n",
      "BsmtQual_Fa                             -0.129537\n",
      "BsmtQual_Gd                              0.221709\n",
      "BsmtQual_TA                             -0.493476\n",
      "BsmtCond_Gd                              0.082482\n",
      "BsmtCond_Po                             -0.056262\n",
      "BsmtCond_TA                              0.023756\n",
      "Heating_GasA                             0.096169\n",
      "Heating_GasW                            -0.019792\n",
      "Heating_Grav                            -0.095442\n",
      "Heating_OthW                            -0.027022\n",
      "Heating_Wall                            -0.060793\n",
      "HeatingQC_Fa                            -0.132075\n",
      "HeatingQC_Gd                            -0.138446\n",
      "HeatingQC_Po                            -0.032071\n",
      "HeatingQC_TA                            -0.305747\n",
      "Electrical_FuseF                        -0.129025\n",
      "Electrical_FuseP                        -0.049593\n",
      "Electrical_Mix                          -0.038765\n",
      "Electrical_SBrkr                         0.233853\n",
      "KitchenQual_Fa                          -0.155428\n",
      "KitchenQual_Gd                           0.310678\n",
      "KitchenQual_TA                          -0.516062\n",
      "Functional_Maj2                         -0.072715\n",
      "Functional_Min1                         -0.063709\n",
      "Functional_Min2                         -0.075579\n",
      "Functional_Mod                          -0.008407\n",
      "Functional_Sev                          -0.018013\n",
      "Functional_Typ                           0.117941\n",
      "PavedDrive_P                            -0.093528\n",
      "PavedDrive_Y                             0.227402\n",
      "SaleType_Con                             0.041093\n",
      "SaleType_ConLD                          -0.024937\n",
      "SaleType_ConLI                           0.013171\n",
      "SaleType_ConLw                          -0.029318\n",
      "SaleType_New                             0.356296\n",
      "SaleType_WD                             -0.329209\n",
      "SaleCondition_AdjLand                   -0.052734\n",
      "SaleCondition_Alloca                    -0.005920\n",
      "SaleCondition_Family                    -0.050062\n",
      "SaleCondition_Normal                    -0.194036\n",
      "SaleCondition_Partial                    0.350672\n",
      "Building Class_1_5-story_unfinished     -0.086401\n",
      "Building Class_1_story_1945             -0.238963\n",
      "Building Class_1_story_1946              0.045755\n",
      "Building Class_1_story_PUD_1946          0.060339\n",
      "Building Class_1_story_finished_attic   -0.017887\n",
      "Building Class_2_5_story                 0.012949\n",
      "Building Class_2_Family_Conersion       -0.097138\n",
      "Building Class_2_story_1945             -0.036044\n",
      "Building Class_2_story_1946              0.372549\n",
      "Building Class_2_story_PUD              -0.114020\n",
      "Building Class_Duplex                   -0.115067\n",
      "Building Class_PUD_multilevel           -0.085497\n",
      "Building Class_Split_foyer              -0.052759\n",
      "Building Class_Split_multilevel         -0.032787\n",
      "LotAccessibility_CulDSac                 0.140664\n",
      "LotAccessibility_Inside                 -0.077585\n",
      "OtherConditions_MajorStreet             -0.108432\n",
      "OtherConditions_None                     0.114339\n",
      "OtherConditions_Parks                    0.062382\n",
      "OtherConditions_Railroad                -0.013367\n",
      "BuildingType_2fmCon                     -0.101086\n",
      "BuildingType_Duplex                     -0.115067\n",
      "BuildingType_Twnhs                      -0.097518\n",
      "BuildingType_TwnhsE                     -0.001914\n",
      "Floors_1Story                           -0.059095\n",
      "Floors_2Story                            0.240411\n",
      "Floors_SFoyer                           -0.098473\n",
      "Floors_SLvl                             -0.041809\n",
      "RoofType_Hip                             0.243831\n",
      "RoofType_Other                          -0.000431\n",
      "RoofMaterial_Other                       0.127668\n",
      "RoofMaterial_Tar&Grv                     0.002885\n",
      "ExteriorMaterialType_Brick               0.030687\n",
      "ExteriorMaterialType_Cement              0.125975\n",
      "ExteriorMaterialType_Metal              -0.166063\n",
      "ExteriorMaterialType_Stucco             -0.027586\n",
      "ExteriorMaterialType_Vinyl               0.215912\n",
      "ExteriorMaterialType_Wood               -0.158204\n",
      "MasonryVeneerType_None                  -0.368939\n",
      "MasonryVeneerType_Stone                  0.327489\n",
      "FoundationType_CBlock                   -0.339629\n",
      "FoundationType_Other                    -0.001490\n",
      "FoundationType_PConc                     0.492897\n",
      "FoundationType_Slab                     -0.124747\n",
      "BasmentExposure_Gd                       0.306922\n",
      "BasmentExposure_Mn                       0.043669\n",
      "BasmentExposure_No                      -0.319928\n",
      "MonthSold_Aug                            0.016152\n",
      "MonthSold_Dec                            0.009720\n",
      "MonthSold_Feb                           -0.012134\n",
      "MonthSold_Jan                            0.008820\n",
      "MonthSold_Jul                            0.035808\n",
      "MonthSold_Jun                           -0.025575\n",
      "MonthSold_Mar                            0.001565\n",
      "MonthSold_May                           -0.046969\n",
      "MonthSold_Nov                            0.039196\n",
      "MonthSold_Oct                            0.005231\n",
      "MonthSold_Sep                            0.039756\n",
      "Name: SalePrice, dtype: float64\n"
     ]
    }
   ],
   "source": [
    "ShowLongList(PredictorsList)"
   ]
  },
  {
   "cell_type": "code",
   "execution_count": 167,
   "metadata": {
    "scrolled": true
   },
   "outputs": [
    {
     "data": {
      "text/plain": [
       "array(['LotFrontage', 'LotArea', 'OverallQual', 'OverallCond',\n",
       "       'YearBuilt', 'YearRemodAdd', 'MasVnrArea', 'BsmtFinSF1',\n",
       "       'BsmtFinSF2', 'BsmtUnfSF', 'TotalBsmtSF', 'CentralAir', '1stFlrSF',\n",
       "       '2ndFlrSF', 'LowQualFinSF', 'GrLivArea', 'BsmtFullBath',\n",
       "       'BsmtHalfBath', 'FullBath', 'HalfBath', 'BedroomAbvGr',\n",
       "       'KitchenAbvGr', 'TotRmsAbvGrd', 'Fireplaces', 'GarageFinish',\n",
       "       'GarageCars', 'GarageArea', 'WoodDeckSF', 'OpenPorchSF',\n",
       "       'EnclosedPorch', '3SsnPorch', 'ScreenPorch', 'PoolArea', 'MiscVal',\n",
       "       'YrSold', 'SalePrice', 'SplitLevel', 'Remodeled', 'Styling',\n",
       "       'StreetPaving', 'AlleyAccess', 'LotShapeRegularity', 'Hills',\n",
       "       'Utility-All', 'LandGrading', 'SplitFloors', 'ShingledRoof',\n",
       "       'SecondExteriorMaterial', 'ExteriorQuality', 'ExteriorCondition',\n",
       "       'HasBasement', 'BasementQuality', 'BasementCondition',\n",
       "       'ForcedAirHeating', 'HeatingQuality', 'KitchenQuality',\n",
       "       'FireplaceQuality', 'HasFireplace', 'HasGarage', 'PavedDriveway',\n",
       "       'HasPorch', 'PoolQuality', 'HasPool', 'Fencing', 'Contract-Risky',\n",
       "       'NormalSale', 'PorchAreaSF', 'UsableAreaSF', 'LivingAreaSF'],\n",
       "      dtype=object)"
      ]
     },
     "execution_count": 167,
     "metadata": {},
     "output_type": "execute_result"
    }
   ],
   "source": [
    "NumericalPredictors = pd.Series(PredictorsList.index[~PredictorsList.index.str.contains(\"_\")]).unique()\n",
    "NumericalPredictors"
   ]
  },
  {
   "cell_type": "code",
   "execution_count": 168,
   "metadata": {
    "scrolled": true
   },
   "outputs": [
    {
     "data": {
      "text/plain": [
       "array(['MSZoning', 'Street', 'LotShape', 'LandContour', 'LotConfig',\n",
       "       'LandSlope', 'Neighborhood', 'Condition1', 'Condition2',\n",
       "       'BldgType', 'HouseStyle', 'RoofStyle', 'RoofMatl', 'Exterior1st',\n",
       "       'Exterior2nd', 'MasVnrType', 'ExterQual', 'ExterCond',\n",
       "       'Foundation', 'BsmtQual', 'BsmtCond', 'Heating', 'HeatingQC',\n",
       "       'Electrical', 'KitchenQual', 'Functional', 'PavedDrive',\n",
       "       'SaleType', 'SaleCondition', 'Building Class', 'LotAccessibility',\n",
       "       'OtherConditions', 'BuildingType', 'Floors', 'RoofType',\n",
       "       'RoofMaterial', 'ExteriorMaterialType', 'MasonryVeneerType',\n",
       "       'FoundationType', 'BasmentExposure', 'MonthSold'], dtype=object)"
      ]
     },
     "execution_count": 168,
     "metadata": {},
     "output_type": "execute_result"
    }
   ],
   "source": [
    "CategoricalPredictors = pd.Series(PredictorsList.index[PredictorsList.index.str.contains(\"_\")]).str.split(\"_\").str[0].unique()\n",
    "CategoricalPredictors"
   ]
  },
  {
   "cell_type": "code",
   "execution_count": null,
   "metadata": {},
   "outputs": [],
   "source": []
  },
  {
   "cell_type": "code",
   "execution_count": 169,
   "metadata": {},
   "outputs": [
    {
     "data": {
      "text/plain": [
       "(69,)"
      ]
     },
     "execution_count": 169,
     "metadata": {},
     "output_type": "execute_result"
    }
   ],
   "source": [
    "NumericalPredictors.shape"
   ]
  },
  {
   "cell_type": "code",
   "execution_count": 170,
   "metadata": {},
   "outputs": [
    {
     "data": {
      "text/plain": [
       "(41,)"
      ]
     },
     "execution_count": 170,
     "metadata": {},
     "output_type": "execute_result"
    }
   ],
   "source": [
    "CategoricalPredictors.shape"
   ]
  },
  {
   "cell_type": "code",
   "execution_count": 171,
   "metadata": {},
   "outputs": [
    {
     "data": {
      "text/plain": [
       "array(['LotFrontage', 'LotArea', 'OverallQual', 'OverallCond',\n",
       "       'YearBuilt', 'YearRemodAdd', 'MasVnrArea', 'BsmtFinSF1',\n",
       "       'BsmtFinSF2', 'BsmtUnfSF', 'TotalBsmtSF', 'CentralAir', '1stFlrSF',\n",
       "       '2ndFlrSF', 'LowQualFinSF', 'GrLivArea', 'BsmtFullBath',\n",
       "       'BsmtHalfBath', 'FullBath', 'HalfBath', 'BedroomAbvGr',\n",
       "       'KitchenAbvGr', 'TotRmsAbvGrd', 'Fireplaces', 'GarageFinish',\n",
       "       'GarageCars', 'GarageArea', 'WoodDeckSF', 'OpenPorchSF',\n",
       "       'EnclosedPorch', '3SsnPorch', 'ScreenPorch', 'PoolArea', 'MiscVal',\n",
       "       'YrSold', 'SalePrice', 'SplitLevel', 'Remodeled', 'Styling',\n",
       "       'StreetPaving', 'AlleyAccess', 'LotShapeRegularity', 'Hills',\n",
       "       'Utility-All', 'LandGrading', 'SplitFloors', 'ShingledRoof',\n",
       "       'SecondExteriorMaterial', 'ExteriorQuality', 'ExteriorCondition',\n",
       "       'HasBasement', 'BasementQuality', 'BasementCondition',\n",
       "       'ForcedAirHeating', 'HeatingQuality', 'KitchenQuality',\n",
       "       'FireplaceQuality', 'HasFireplace', 'HasGarage', 'PavedDriveway',\n",
       "       'HasPorch', 'PoolQuality', 'HasPool', 'Fencing', 'Contract-Risky',\n",
       "       'NormalSale', 'PorchAreaSF', 'UsableAreaSF', 'LivingAreaSF',\n",
       "       'MSZoning', 'Street', 'LotShape', 'LandContour', 'LotConfig',\n",
       "       'LandSlope', 'Neighborhood', 'Condition1', 'Condition2',\n",
       "       'BldgType', 'HouseStyle', 'RoofStyle', 'RoofMatl', 'Exterior1st',\n",
       "       'Exterior2nd', 'MasVnrType', 'ExterQual', 'ExterCond',\n",
       "       'Foundation', 'BsmtQual', 'BsmtCond', 'Heating', 'HeatingQC',\n",
       "       'Electrical', 'KitchenQual', 'Functional', 'PavedDrive',\n",
       "       'SaleType', 'SaleCondition', 'Building Class', 'LotAccessibility',\n",
       "       'OtherConditions', 'BuildingType', 'Floors', 'RoofType',\n",
       "       'RoofMaterial', 'ExteriorMaterialType', 'MasonryVeneerType',\n",
       "       'FoundationType', 'BasmentExposure', 'MonthSold'], dtype=object)"
      ]
     },
     "execution_count": 171,
     "metadata": {},
     "output_type": "execute_result"
    }
   ],
   "source": [
    "np.concatenate((np.array([NumericalPredictors]), np.array([CategoricalPredictors])), axis = 1)[0]"
   ]
  },
  {
   "cell_type": "code",
   "execution_count": 172,
   "metadata": {
    "scrolled": true
   },
   "outputs": [],
   "source": [
    "TrainingData = RawData[np.concatenate((np.array([NumericalPredictors]), np.array([CategoricalPredictors])), axis = 1)[0]]"
   ]
  },
  {
   "cell_type": "code",
   "execution_count": 173,
   "metadata": {
    "scrolled": false
   },
   "outputs": [
    {
     "name": "stdout",
     "output_type": "stream",
     "text": [
      "SalePrice                 1.000000\n",
      "UsableAreaSF              0.818688\n",
      "OverallQual               0.789535\n",
      "GrLivArea                 0.709069\n",
      "LivingAreaSF              0.704836\n",
      "ExteriorQuality           0.680401\n",
      "KitchenQuality            0.656879\n",
      "GarageCars                0.649170\n",
      "BasementQuality           0.648091\n",
      "GarageArea                0.635704\n",
      "TotalBsmtSF               0.617021\n",
      "1stFlrSF                  0.610884\n",
      "FullBath                  0.557941\n",
      "TotRmsAbvGrd              0.535472\n",
      "YearBuilt                 0.517988\n",
      "FireplaceQuality          0.513416\n",
      "Styling                   0.502657\n",
      "YearRemodAdd              0.498421\n",
      "MasVnrArea                0.476861\n",
      "HasFireplace              0.462331\n",
      "Fireplaces                0.459176\n",
      "PorchAreaSF               0.444982\n",
      "HeatingQuality            0.419403\n",
      "BsmtFinSF1                0.385004\n",
      "LotFrontage               0.348691\n",
      "OpenPorchSF               0.329336\n",
      "2ndFlrSF                  0.319810\n",
      "WoodDeckSF                0.317933\n",
      "GarageFinish              0.291881\n",
      "HalfBath                  0.283393\n",
      "LotShapeRegularity        0.263140\n",
      "LotArea                   0.262830\n",
      "HasGarage                 0.238129\n",
      "PavedDriveway             0.225727\n",
      "BsmtUnfSF                 0.221756\n",
      "BsmtFullBath              0.220665\n",
      "BedroomAbvGr              0.166242\n",
      "HasBasement               0.158084\n",
      "BasementCondition         0.151158\n",
      "Fencing                   0.148764\n",
      "KitchenAbvGr              0.136971\n",
      "EnclosedPorch             0.130523\n",
      "AlleyAccess               0.120727\n",
      "ScreenPorch               0.114196\n",
      "PoolQuality               0.111809\n",
      "NormalSale                0.110142\n",
      "OverallCond               0.100030\n",
      "ForcedAirHeating          0.096169\n",
      "SplitFloors               0.095164\n",
      "HasPool                   0.093468\n",
      "PoolArea                  0.092161\n",
      "LandGrading               0.056116\n",
      "SplitLevel                0.055985\n",
      "Hills                     0.053849\n",
      "3SsnPorch                 0.045730\n",
      "YrSold                    0.024979\n",
      "Remodeled                 0.021990\n",
      "MiscVal                   0.021608\n",
      "LowQualFinSF              0.020663\n",
      "BsmtHalfBath              0.018414\n",
      "BsmtFinSF2                0.018252\n",
      "ShingledRoof              0.015800\n",
      "StreetPaving              0.014595\n",
      "Contract-Risky            0.010557\n",
      "ExteriorCondition         0.008778\n",
      "SecondExteriorMaterial    0.002071\n",
      "CentralAir                     NaN\n",
      "Utility-All                    NaN\n",
      "HasPorch                       NaN\n",
      "Name: SalePrice, dtype: float64\n"
     ]
    }
   ],
   "source": [
    "CorrelationData = ShowSimpleCorrelations(TrainingData, \"SalePrice\")"
   ]
  },
  {
   "cell_type": "code",
   "execution_count": 174,
   "metadata": {
    "scrolled": false
   },
   "outputs": [
    {
     "name": "stdout",
     "output_type": "stream",
     "text": [
      "<class 'pandas.core.frame.DataFrame'>\n",
      "Int64Index: 1405 entries, 0 to 1459\n",
      "Columns: 110 entries, LotFrontage to MonthSold\n",
      "dtypes: bool(3), float64(7), int64(47), object(41), uint8(12)\n",
      "memory usage: 1.0+ MB\n"
     ]
    }
   ],
   "source": [
    "TrainingData.info()"
   ]
  },
  {
   "cell_type": "code",
   "execution_count": 175,
   "metadata": {
    "scrolled": false
   },
   "outputs": [],
   "source": [
    "TrainingData = pd.get_dummies(TrainingData, drop_first = True)\n",
    "# TrainingData"
   ]
  },
  {
   "cell_type": "code",
   "execution_count": 176,
   "metadata": {
    "scrolled": false
   },
   "outputs": [
    {
     "name": "stdout",
     "output_type": "stream",
     "text": [
      "SalePrice                                1.000000\n",
      "UsableAreaSF                             0.818688\n",
      "OverallQual                              0.789535\n",
      "GrLivArea                                0.709069\n",
      "LivingAreaSF                             0.704836\n",
      "ExteriorQuality                          0.680401\n",
      "KitchenQuality                           0.656879\n",
      "GarageCars                               0.649170\n",
      "BasementQuality                          0.648091\n",
      "GarageArea                               0.635704\n",
      "TotalBsmtSF                              0.617021\n",
      "1stFlrSF                                 0.610884\n",
      "ExterQual_TA                             0.591460\n",
      "FullBath                                 0.557941\n",
      "TotRmsAbvGrd                             0.535472\n",
      "YearBuilt                                0.517988\n",
      "KitchenQual_TA                           0.516062\n",
      "FireplaceQuality                         0.513416\n",
      "Styling                                  0.502657\n",
      "YearRemodAdd                             0.498421\n",
      "BsmtQual_TA                              0.493476\n",
      "FoundationType_PConc                     0.492897\n",
      "Foundation_PConc                         0.492897\n",
      "MasVnrArea                               0.476861\n",
      "HasFireplace                             0.462331\n",
      "Fireplaces                               0.459176\n",
      "ExterQual_Gd                             0.445487\n",
      "PorchAreaSF                              0.444982\n",
      "HeatingQuality                           0.419403\n",
      "Neighborhood_NridgHt                     0.403021\n",
      "BsmtFinSF1                               0.385004\n",
      "Building Class_2_story_1946              0.372549\n",
      "MasVnrType_None                          0.368939\n",
      "MasonryVeneerType_None                   0.368939\n",
      "SaleType_New                             0.356296\n",
      "SaleCondition_Partial                    0.350672\n",
      "LotFrontage                              0.348691\n",
      "Foundation_CBlock                        0.339629\n",
      "FoundationType_CBlock                    0.339629\n",
      "Neighborhood_NoRidge                     0.331546\n",
      "OpenPorchSF                              0.329336\n",
      "SaleType_WD                              0.329209\n",
      "MasonryVeneerType_Stone                  0.327489\n",
      "MasVnrType_Stone                         0.327489\n",
      "BasmentExposure_No                       0.319928\n",
      "2ndFlrSF                                 0.319810\n",
      "WoodDeckSF                               0.317933\n",
      "KitchenQual_Gd                           0.310678\n",
      "MSZoning_RM                              0.309539\n",
      "BasmentExposure_Gd                       0.306922\n",
      "HeatingQC_TA                             0.305747\n",
      "Exterior2nd_VinylSd                      0.298723\n",
      "Exterior1st_VinylSd                      0.297062\n",
      "GarageFinish                             0.291881\n",
      "HalfBath                                 0.283393\n",
      "LotShape_Reg                             0.264002\n",
      "LotShapeRegularity                       0.263140\n",
      "LotArea                                  0.262830\n",
      "RoofType_Hip                             0.243831\n",
      "RoofStyle_Hip                            0.243831\n",
      "HouseStyle_2Story                        0.241730\n",
      "Floors_2Story                            0.240411\n",
      "Building Class_1_story_1945              0.238963\n",
      "HasGarage                                0.238129\n",
      "MSZoning_RL                              0.236167\n",
      "Electrical_SBrkr                         0.233853\n",
      "RoofStyle_Gable                          0.233813\n",
      "PavedDrive_Y                             0.227402\n",
      "PavedDriveway                            0.225727\n",
      "BsmtUnfSF                                0.221756\n",
      "BsmtQual_Gd                              0.221709\n",
      "BsmtFullBath                             0.220665\n",
      "Neighborhood_StoneBr                     0.219574\n",
      "ExteriorMaterialType_Vinyl               0.215912\n",
      "MasVnrType_BrkFace                       0.198462\n",
      "Neighborhood_OldTown                     0.196926\n",
      "SaleCondition_Normal                     0.194036\n",
      "Neighborhood_NAmes                       0.191002\n",
      "Neighborhood_Edwards                     0.178536\n",
      "RoofMatl_WdShngl                         0.170371\n",
      "BedroomAbvGr                             0.166242\n",
      "Exterior1st_MetalSd                      0.166063\n",
      "ExteriorMaterialType_Metal               0.166063\n",
      "Exterior2nd_Wd Sdng                      0.161504\n",
      "Exterior2nd_MetalSd                      0.160911\n",
      "Exterior1st_Wd Sdng                      0.158578\n",
      "ExteriorMaterialType_Wood                0.158204\n",
      "HasBasement                              0.158084\n",
      "KitchenQual_Fa                           0.155428\n",
      "BasementCondition                        0.151158\n",
      "Neighborhood_BrkSide                     0.150898\n",
      "Fencing                                  0.148764\n",
      "LotConfig_CulDSac                        0.140664\n",
      "LotAccessibility_CulDSac                 0.140664\n",
      "HeatingQC_Gd                             0.138446\n",
      "KitchenAbvGr                             0.136971\n",
      "Neighborhood_Somerst                     0.136303\n",
      "Neighborhood_Sawyer                      0.136102\n",
      "HeatingQC_Fa                             0.132075\n",
      "Exterior1st_CemntBd                      0.130584\n",
      "EnclosedPorch                            0.130523\n",
      "BsmtQual_Fa                              0.129537\n",
      "Neighborhood_IDOTRR                      0.129383\n",
      "Electrical_FuseF                         0.129025\n",
      "RoofMaterial_Other                       0.127668\n",
      "ExterCond_Fa                             0.127127\n",
      "Neighborhood_Timber                      0.126850\n",
      "ExteriorMaterialType_Cement              0.125975\n",
      "Exterior2nd_CmentBd                      0.125231\n",
      "Foundation_Slab                          0.124747\n",
      "FoundationType_Slab                      0.124747\n",
      "LotShape_IR2                             0.123975\n",
      "LandContour_HLS                          0.122409\n",
      "AlleyAccess                              0.120727\n",
      "Functional_Typ                           0.117941\n",
      "Neighborhood_MeadowV                     0.116924\n",
      "Condition1_Feedr                         0.115338\n",
      "BuildingType_Duplex                      0.115067\n",
      "Building Class_Duplex                    0.115067\n",
      "BldgType_Duplex                          0.115067\n",
      "OtherConditions_None                     0.114339\n",
      "Condition1_Norm                          0.114339\n",
      "ScreenPorch                              0.114196\n",
      "Building Class_2_story_PUD               0.114020\n",
      "PoolQuality                              0.111809\n",
      "NormalSale                               0.110142\n",
      "OtherConditions_MajorStreet              0.108432\n",
      "ExterCond_TA                             0.104485\n",
      "ExterQual_Fa                             0.101400\n",
      "BldgType_2fmCon                          0.101086\n",
      "BuildingType_2fmCon                      0.101086\n",
      "OverallCond                              0.100030\n",
      "Floors_SFoyer                            0.098473\n",
      "HouseStyle_SFoyer                        0.098473\n",
      "RoofMatl_CompShg                         0.097841\n",
      "BuildingType_Twnhs                       0.097518\n",
      "BldgType_Twnhs                           0.097518\n",
      "Neighborhood_BrDale                      0.097506\n",
      "Exterior1st_HdBoard                      0.097413\n",
      "Building Class_2_Family_Conersion        0.097138\n",
      "ForcedAirHeating                         0.096169\n",
      "Heating_GasA                             0.096169\n",
      "Heating_Grav                             0.095442\n",
      "SplitFloors                              0.095164\n",
      "PavedDrive_P                             0.093528\n",
      "HasPool                                  0.093468\n",
      "PoolArea                                 0.092161\n",
      "HouseStyle_1.5Unf                        0.091430\n",
      "Building Class_1_5-story_unfinished      0.086401\n",
      "Building Class_PUD_multilevel            0.085497\n",
      "BsmtCond_Gd                              0.082482\n",
      "LotAccessibility_Inside                  0.077585\n",
      "LotConfig_Inside                         0.077585\n",
      "Functional_Min2                          0.075579\n",
      "Exterior2nd_ImStucc                      0.073536\n",
      "Functional_Maj2                          0.072715\n",
      "Exterior2nd_HdBoard                      0.071290\n",
      "Neighborhood_SWISU                       0.067903\n",
      "Neighborhood_Crawfor                     0.066686\n",
      "Neighborhood_CollgCr                     0.065682\n",
      "Functional_Min1                          0.063709\n",
      "OtherConditions_Parks                    0.062382\n",
      "Neighborhood_Veenker                     0.062339\n",
      "Heating_Wall                             0.060793\n",
      "Building Class_1_story_PUD_1946          0.060339\n",
      "Floors_1Story                            0.059095\n",
      "HouseStyle_1Story                        0.059095\n",
      "Neighborhood_Mitchel                     0.057321\n",
      "BsmtCond_Po                              0.056262\n",
      "LandGrading                              0.056116\n",
      "SplitLevel                               0.055985\n",
      "ExterCond_Gd                             0.055738\n",
      "Exterior1st_WdShing                      0.055124\n",
      "Exterior2nd_Plywood                      0.054232\n",
      "LandContour_Low                          0.053849\n",
      "Hills                                    0.053849\n",
      "Building Class_Split_foyer               0.052759\n",
      "SaleCondition_AdjLand                    0.052734\n",
      "LandSlope_Mod                            0.051559\n",
      "Neighborhood_ClearCr                     0.050615\n",
      "SaleCondition_Family                     0.050062\n",
      "Electrical_FuseP                         0.049593\n",
      "Condition1_RRAe                          0.049484\n",
      "Condition2_PosN                          0.048326\n",
      "Condition2_PosA                          0.047590\n",
      "Condition1_PosN                          0.047528\n",
      "MonthSold_May                            0.046969\n",
      "Exterior2nd_Stucco                       0.046345\n",
      "Building Class_1_story_1946              0.045755\n",
      "3SsnPorch                                0.045730\n",
      "Exterior2nd_Other                        0.045582\n",
      "Exterior2nd_Wd Shng                      0.044414\n",
      "BasmentExposure_Mn                       0.043669\n",
      "HouseStyle_SLvl                          0.041809\n",
      "Floors_SLvl                              0.041809\n",
      "SaleType_Con                             0.041093\n",
      "Condition1_PosA                          0.040865\n",
      "Condition2_Feedr                         0.040786\n",
      "Condition2_RRNn                          0.040754\n",
      "MonthSold_Sep                            0.039756\n",
      "MonthSold_Nov                            0.039196\n",
      "Electrical_Mix                           0.038765\n",
      "Exterior1st_BrkFace                      0.038056\n",
      "Neighborhood_NPkVill                     0.037760\n",
      "Exterior2nd_Brk Cmn                      0.036947\n",
      "Building Class_2_story_1945              0.036044\n",
      "MonthSold_Jul                            0.035808\n",
      "ExterCond_Po                             0.035585\n",
      "HouseStyle_2.5Fin                        0.035289\n",
      "LotShape_IR3                             0.035274\n",
      "Exterior1st_BrkComm                      0.033744\n",
      "Exterior1st_Stucco                       0.033469\n",
      "Building Class_Split_multilevel          0.032787\n",
      "Exterior2nd_BrkFace                      0.032229\n",
      "HeatingQC_Po                             0.032071\n",
      "RoofMatl_WdShake                         0.031619\n",
      "Neighborhood_Gilbert                     0.030726\n",
      "ExteriorMaterialType_Brick               0.030687\n",
      "LandContour_Lvl                          0.030421\n",
      "SaleType_ConLw                           0.029318\n",
      "Exterior1st_AsphShn                      0.027720\n",
      "ExteriorMaterialType_Stucco              0.027586\n",
      "Heating_OthW                             0.027022\n",
      "Exterior1st_ImStucc                      0.026503\n",
      "LandSlope_Sev                            0.026133\n",
      "Exterior2nd_CBlock                       0.026046\n",
      "Exterior1st_CBlock                       0.026046\n",
      "Exterior2nd_AsphShn                      0.026001\n",
      "Condition2_Norm                          0.025999\n",
      "MonthSold_Jun                            0.025575\n",
      "YrSold                                   0.024979\n",
      "SaleType_ConLD                           0.024937\n",
      "HouseStyle_2.5Unf                        0.024547\n",
      "RoofStyle_Gambrel                        0.024441\n",
      "Neighborhood_NWAmes                      0.024375\n",
      "BsmtCond_TA                              0.023756\n",
      "Condition1_RRNn                          0.022172\n",
      "Remodeled                                0.021990\n",
      "MiscVal                                  0.021608\n",
      "LowQualFinSF                             0.020663\n",
      "RoofStyle_Shed                           0.019974\n",
      "Heating_GasW                             0.019792\n",
      "Neighborhood_Blueste                     0.019687\n",
      "RoofMatl_Membran                         0.019642\n",
      "Exterior2nd_Stone                        0.018432\n",
      "BsmtHalfBath                             0.018414\n",
      "BsmtFinSF2                               0.018252\n",
      "Functional_Sev                           0.018013\n",
      "Building Class_1_story_finished_attic    0.017887\n",
      "LotConfig_FR3                            0.017194\n",
      "Exterior1st_Plywood                      0.016683\n",
      "MonthSold_Aug                            0.016152\n",
      "ShingledRoof                             0.015800\n",
      "Exterior1st_Stone                        0.015793\n",
      "Condition2_RRAn                          0.015367\n",
      "RoofMatl_Roll                            0.015335\n",
      "Street_Pave                              0.014595\n",
      "StreetPaving                             0.014595\n",
      "OtherConditions_Railroad                 0.013367\n",
      "SaleType_ConLI                           0.013171\n",
      "Building Class_2_5_story                 0.012949\n",
      "MonthSold_Feb                            0.012134\n",
      "Contract-Risky                           0.010557\n",
      "MonthSold_Dec                            0.009720\n",
      "MonthSold_Jan                            0.008820\n",
      "ExteriorCondition                        0.008778\n",
      "Functional_Mod                           0.008407\n",
      "LotConfig_FR2                            0.007921\n",
      "Neighborhood_SawyerW                     0.006569\n",
      "SaleCondition_Alloca                     0.005920\n",
      "MonthSold_Oct                            0.005231\n",
      "Condition1_RRAn                          0.004516\n",
      "Condition1_RRNe                          0.003756\n",
      "Foundation_Stone                         0.003164\n",
      "RoofMatl_Tar&Grv                         0.002885\n",
      "RoofMaterial_Tar&Grv                     0.002885\n",
      "Condition2_RRAe                          0.002404\n",
      "SecondExteriorMaterial                   0.002071\n",
      "RoofStyle_Mansard                        0.001996\n",
      "BuildingType_TwnhsE                      0.001914\n",
      "BldgType_TwnhsE                          0.001914\n",
      "Foundation_Wood                          0.001653\n",
      "MonthSold_Mar                            0.001565\n",
      "FoundationType_Other                     0.001490\n",
      "RoofMatl_Metal                           0.000943\n",
      "RoofType_Other                           0.000431\n",
      "CentralAir                                    NaN\n",
      "Utility-All                                   NaN\n",
      "HasPorch                                      NaN\n",
      "Name: SalePrice, dtype: float64\n"
     ]
    }
   ],
   "source": [
    "ShowSimpleCorrelations(TrainingData, \"SalePrice\");"
   ]
  },
  {
   "cell_type": "markdown",
   "metadata": {},
   "source": [
    "# Fit and Test Model"
   ]
  },
  {
   "cell_type": "code",
   "execution_count": 177,
   "metadata": {},
   "outputs": [],
   "source": [
    "import pandas as pd\n",
    "import sklearn\n",
    "\n",
    "from sklearn.model_selection import train_test_split\n",
    "from sklearn.linear_model import LinearRegression, Ridge, Lasso, ElasticNet\n",
    "from sklearn.tree import ExtraTreeRegressor\n",
    "from sklearn.ensemble import GradientBoostingRegressor\n",
    "from sklearn.metrics import mean_squared_error, r2_score, mean_absolute_error\n",
    "\n",
    "def reg_models(x_train, y_train, x_test, y_test, algorithms_list):\n",
    "    # results container\n",
    "    results_list = pd.DataFrame( columns = [\"Name\", \"R2 Score\", \"RMS Error\", \"Mean Absolute Error\"])\n",
    "    model_list = pd.DataFrame(columns = [\"Name\", \"ModelData\"])\n",
    "    \n",
    "    # calculated metrics and append to list\n",
    "    for algorithm in algorithms_list:\n",
    "        algorithmObject = algorithm()\n",
    "\n",
    "        algorithmObject.fit(x_train, y_train)\n",
    "        y_predictor = algorithmObject.predict(x_test)\n",
    "        r2s = r2_score(y_test, y_predictor)\n",
    "        mse = ((mean_squared_error(y_test, y_predictor))**0.5)\n",
    "        mae = ((mean_absolute_error(y_test, y_predictor))**0.5)\n",
    "\n",
    "        results_list = results_list.append({ results_list.columns.values[0] : algorithm.__name__[:20],\n",
    "                                             results_list.columns.values[1]: r2s,\n",
    "                                             results_list.columns.values[2]: mse,\n",
    "                                             results_list.columns.values[3]: mae\n",
    "                                            }, ignore_index = True)\n",
    "        model_list = model_list.append({ \"Name\" : algorithm.__name__,\n",
    "                                         \"ModelData\" : algorithmObject\n",
    "                                       }, ignore_index = True)\n",
    "\n",
    "    # sort list by r2 score\n",
    "    results_list.sort_values(by=['R2 Score'], inplace=True, ascending = False)\n",
    "\n",
    "    return results_list, model_list\n"
   ]
  },
  {
   "cell_type": "code",
   "execution_count": 178,
   "metadata": {},
   "outputs": [],
   "source": [
    "def ShowImportantFeatures(Model, MaxFeatureCount = 10):\n",
    "    printData = pd.DataFrame(columns = [\"Feature\", \"Weight\"])\n",
    "    printData[\"Feature\"] = x_train.columns\n",
    "    printData[\"Weight\"] = Model.feature_importances_\n",
    "    printData.sort_values(by=\"Weight\", ascending = False, inplace = True)\n",
    "    \n",
    "    import matplotlib.pyplot as plt\n",
    "    %matplotlib inline\n",
    "\n",
    "    plt.close()\n",
    "    axes = plt.figure(figsize=(10, 10)).add_subplot(111)  # RowsColumnsIndex\n",
    "                                                        # Index starts upper left corner\n",
    "    plt.barh(printData[\"Feature\"].tolist()[:MaxFeatureCount], printData[\"Weight\"].tolist()[:MaxFeatureCount])\n",
    "    plt.gca().invert_yaxis()\n",
    "    plt.show()\n",
    "    \n",
    "    ShowLongList(printData.head(MaxFeatureCount))"
   ]
  },
  {
   "cell_type": "code",
   "execution_count": 179,
   "metadata": {
    "scrolled": false
   },
   "outputs": [
    {
     "data": {
      "text/plain": [
       "MonthSold_Sep           0\n",
       "RoofMatl_Tar&Grv        0\n",
       "Neighborhood_Gilbert    0\n",
       "Neighborhood_IDOTRR     0\n",
       "Neighborhood_MeadowV    0\n",
       "                       ..\n",
       "BsmtQual_TA             0\n",
       "BsmtCond_Gd             0\n",
       "BsmtCond_Po             0\n",
       "BsmtCond_TA             0\n",
       "LotFrontage             0\n",
       "Length: 289, dtype: int64"
      ]
     },
     "execution_count": 179,
     "metadata": {},
     "output_type": "execute_result"
    }
   ],
   "source": [
    "TrainingData.isnull().sum().sort_values(ascending = False)"
   ]
  },
  {
   "cell_type": "code",
   "execution_count": 180,
   "metadata": {},
   "outputs": [
    {
     "name": "stdout",
     "output_type": "stream",
     "text": [
      "<class 'pandas.core.frame.DataFrame'>\n",
      "Int64Index: 1405 entries, 0 to 1459\n",
      "Columns: 289 entries, LotFrontage to MonthSold_Sep\n",
      "dtypes: bool(3), float64(7), int64(47), uint8(232)\n",
      "memory usage: 926.1 KB\n"
     ]
    }
   ],
   "source": [
    "TrainingData.info()"
   ]
  },
  {
   "cell_type": "code",
   "execution_count": 181,
   "metadata": {},
   "outputs": [
    {
     "name": "stderr",
     "output_type": "stream",
     "text": [
      "C:\\Anaconda3\\lib\\site-packages\\sklearn\\linear_model\\coordinate_descent.py:475: ConvergenceWarning: Objective did not converge. You might want to increase the number of iterations. Duality gap: 241119360889.67004, tolerance: 724454219.5930057\n",
      "  positive)\n"
     ]
    },
    {
     "name": "stdout",
     "output_type": "stream",
     "text": [
      "                   Name  R2 Score     RMS Error  Mean Absolute Error\n",
      "3  GradientBoostingRegr  0.913985  22730.720169           124.263479\n",
      "5    ExtraTreeRegressor  0.711678  41616.471085           163.566457\n",
      "2                 Lasso  0.650355  45828.974777           142.089213\n",
      "0      LinearRegression  0.638479  46600.756443           142.923197\n",
      "1                 Ridge  0.634099  46882.214064           137.985859\n",
      "4            ElasticNet  0.574749  50541.576500           143.450992\n",
      "\n",
      "R2 Score                   0.687224\n",
      "RMS Error              42366.785506\n",
      "Mean Absolute Error      142.379866\n",
      "dtype: float64\n"
     ]
    },
    {
     "name": "stderr",
     "output_type": "stream",
     "text": [
      "C:\\Anaconda3\\lib\\site-packages\\sklearn\\linear_model\\coordinate_descent.py:475: ConvergenceWarning: Objective did not converge. You might want to increase the number of iterations. Duality gap: 563213287240.1006, tolerance: 724454219.5930057\n",
      "  positive)\n"
     ]
    }
   ],
   "source": [
    "test_algo_list = [LinearRegression, Ridge, Lasso, GradientBoostingRegressor, ElasticNet, ExtraTreeRegressor]\n",
    "x_train, x_test, y_train, y_test = train_test_split(TrainingData.drop([\"SalePrice\"], axis = 1), TrainingData[\"SalePrice\"], test_size = 0.2, random_state = 13)\n",
    "\n",
    "test_results, models_list = reg_models(x_train, y_train, x_test, y_test, test_algo_list)\n",
    "\n",
    "print(test_results)\n",
    "print(\"\")\n",
    "print(test_results.mean())"
   ]
  },
  {
   "cell_type": "code",
   "execution_count": 186,
   "metadata": {
    "scrolled": false
   },
   "outputs": [
    {
     "data": {
      "image/png": "[encoded data removed]",
      "text/plain": [
       "<Figure size 720x720 with 1 Axes>"
      ]
     },
     "metadata": {
      "needs_background": "light"
     },
     "output_type": "display_data"
    },
    {
     "name": "stdout",
     "output_type": "stream",
     "text": [
      "                                   Feature        Weight\n",
      "66                            UsableAreaSF  5.566418e-01\n",
      "2                              OverallQual  1.829758e-01\n",
      "67                            LivingAreaSF  6.351683e-02\n",
      "13                                2ndFlrSF  2.851390e-02\n",
      "54                          KitchenQuality  2.161315e-02\n",
      "4                                YearBuilt  2.137612e-02\n",
      "50                         BasementQuality  1.697246e-02\n",
      "5                             YearRemodAdd  1.024100e-02\n",
      "15                               GrLivArea  8.555294e-03\n",
      "1                                  LotArea  8.518108e-03\n",
      "22                            TotRmsAbvGrd  8.369348e-03\n",
      "7                               BsmtFinSF1  8.131943e-03\n",
      "55                        FireplaceQuality  6.475203e-03\n",
      "3                              OverallCond  5.943810e-03\n",
      "25                              GarageCars  4.482844e-03\n",
      "69                             MSZoning_RM  3.361725e-03\n",
      "37                                 Styling  3.087853e-03\n",
      "26                              GarageArea  2.781833e-03\n",
      "274                     BasmentExposure_Gd  2.774887e-03\n",
      "21                            KitchenAbvGr  2.358670e-03\n",
      "104                   Neighborhood_StoneBr  2.356115e-03\n",
      "88                    Neighborhood_Crawfor  2.236869e-03\n",
      "9                                BsmtUnfSF  2.219239e-03\n",
      "10                             TotalBsmtSF  2.045185e-03\n",
      "216                         Functional_Typ  1.924610e-03\n",
      "47                         ExteriorQuality  1.758421e-03\n",
      "238            Building Class_2_story_1946  1.715964e-03\n",
      "223                           SaleType_New  1.470161e-03\n",
      "110                        Condition1_PosN  1.266497e-03\n",
      "118                        Condition2_PosN  1.242906e-03\n",
      "0                              LotFrontage  1.176413e-03\n",
      "108                        Condition1_Norm  9.075557e-04\n",
      "229                  SaleCondition_Partial  8.482886e-04\n",
      "147                    Exterior1st_BrkFace  8.183210e-04\n",
      "65                             PorchAreaSF  8.147691e-04\n",
      "64                              NormalSale  8.018395e-04\n",
      "40                      LotShapeRegularity  6.590138e-04\n",
      "94                      Neighborhood_NAmes  6.002572e-04\n",
      "12                                1stFlrSF  5.699676e-04\n",
      "248                  OtherConditions_Parks  5.308683e-04\n",
      "6                               MasVnrArea  5.067937e-04\n",
      "262             ExteriorMaterialType_Brick  5.023539e-04\n",
      "32                                PoolArea  4.341548e-04\n",
      "27                              WoodDeckSF  4.220987e-04\n",
      "279                          MonthSold_Feb  4.002315e-04\n",
      "276                     BasmentExposure_No  3.619929e-04\n",
      "20                            BedroomAbvGr  2.968366e-04\n",
      "89                    Neighborhood_Edwards  2.957888e-04\n",
      "68                             MSZoning_RL  2.942393e-04\n",
      "18                                FullBath  2.858081e-04\n",
      "176                       MasVnrType_Stone  2.420209e-04\n",
      "19                                HalfBath  2.325266e-04\n",
      "247                   OtherConditions_None  2.253959e-04\n",
      "28                             OpenPorchSF  2.212525e-04\n",
      "191                            BsmtQual_TA  2.169958e-04\n",
      "31                             ScreenPorch  1.895865e-04\n",
      "156                    Exterior1st_VinylSd  1.575708e-04\n",
      "246            OtherConditions_MajorStreet  1.559819e-04\n",
      "51                       BasementCondition  1.415909e-04\n",
      "231            Building Class_1_story_1945  1.332229e-04\n",
      "224                            SaleType_WD  1.086185e-04\n",
      "237            Building Class_2_story_1945  1.060405e-04\n",
      "16                            BsmtFullBath  9.272939e-05\n",
      "194                            BsmtCond_TA  8.127387e-05\n",
      "236      Building Class_2_Family_Conersion  6.877902e-05\n",
      "103                   Neighborhood_Somerst  6.709888e-05\n",
      "188                        Foundation_Wood  6.541052e-05\n",
      "77                       LotConfig_CulDSac  6.458101e-05\n",
      "62                                 Fencing  5.668556e-05\n",
      "29                           EnclosedPorch  5.620389e-05\n",
      "36                               Remodeled  5.278152e-05\n",
      "97                    Neighborhood_NoRidge  5.264406e-05\n",
      "76                         LandContour_Lvl  4.768732e-05\n",
      "74                         LandContour_HLS  4.715317e-05\n",
      "44                             SplitFloors  4.713431e-05\n",
      "48                       ExteriorCondition  4.603345e-05\n",
      "58                           PavedDriveway  4.598509e-05\n",
      "102                   Neighborhood_SawyerW  4.164120e-05\n",
      "73                            LotShape_Reg  4.116828e-05\n",
      "283                          MonthSold_Mar  3.902502e-05\n",
      "71                            LotShape_IR2  3.872778e-05\n",
      "35                              SplitLevel  3.509166e-05\n",
      "244               LotAccessibility_CulDSac  3.292550e-05\n",
      "56                            HasFireplace  3.070213e-05\n",
      "90                    Neighborhood_Gilbert  2.942693e-05\n",
      "174                     MasVnrType_BrkFace  2.929187e-05\n",
      "198                           Heating_OthW  2.665324e-05\n",
      "168                    Exterior2nd_Plywood  1.853877e-05\n",
      "277                          MonthSold_Aug  1.835103e-05\n",
      "195                           Heating_GasA  1.805667e-05\n",
      "34                                  YrSold  1.761033e-05\n",
      "23                              Fireplaces  1.707775e-05\n",
      "52                        ForcedAirHeating  1.488759e-05\n",
      "189                            BsmtQual_Fa  1.269719e-05\n",
      "199                           Heating_Wall  1.199068e-05\n",
      "281                          MonthSold_Jul  1.169308e-05\n",
      "86                    Neighborhood_ClearCr  9.936536e-06\n",
      "210                         KitchenQual_TA  8.094694e-06\n",
      "171                    Exterior2nd_VinylSd  6.156551e-06\n",
      "258                           RoofType_Hip  3.381059e-06\n",
      "178                           ExterQual_Gd  2.099682e-06\n",
      "8                               BsmtFinSF2  1.808657e-06\n",
      "232            Building Class_1_story_1946  9.867160e-07\n",
      "123                        BldgType_Duplex  7.128499e-07\n",
      "105                    Neighborhood_Timber  5.958344e-07\n",
      "175                        MasVnrType_None  4.589511e-07\n",
      "133                        RoofStyle_Gable  3.365036e-07\n",
      "116                        Condition2_Norm  2.810934e-07\n",
      "46                  SecondExteriorMaterial  2.449213e-07\n",
      "267              ExteriorMaterialType_Wood  1.664649e-07\n",
      "265            ExteriorMaterialType_Stucco  1.000860e-07\n",
      "217                           PavedDrive_P  0.000000e+00\n",
      "213                        Functional_Min2  0.000000e+00\n",
      "186                        Foundation_Slab  0.000000e+00\n",
      "214                         Functional_Mod  0.000000e+00\n",
      "218                           PavedDrive_Y  0.000000e+00\n",
      "215                         Functional_Sev  0.000000e+00\n",
      "187                       Foundation_Stone  0.000000e+00\n",
      "203                           HeatingQC_TA  0.000000e+00\n",
      "212                        Functional_Min1  0.000000e+00\n",
      "211                        Functional_Maj2  0.000000e+00\n",
      "190                            BsmtQual_Gd  0.000000e+00\n",
      "192                            BsmtCond_Gd  0.000000e+00\n",
      "193                            BsmtCond_Po  0.000000e+00\n",
      "220                         SaleType_ConLD  0.000000e+00\n",
      "196                           Heating_GasW  0.000000e+00\n",
      "197                           Heating_Grav  0.000000e+00\n",
      "200                           HeatingQC_Fa  0.000000e+00\n",
      "201                           HeatingQC_Gd  0.000000e+00\n",
      "202                           HeatingQC_Po  0.000000e+00\n",
      "204                       Electrical_FuseF  0.000000e+00\n",
      "205                       Electrical_FuseP  0.000000e+00\n",
      "206                         Electrical_Mix  0.000000e+00\n",
      "207                       Electrical_SBrkr  0.000000e+00\n",
      "208                         KitchenQual_Fa  0.000000e+00\n",
      "209                         KitchenQual_Gd  0.000000e+00\n",
      "219                           SaleType_Con  0.000000e+00\n",
      "255                          Floors_2Story  0.000000e+00\n",
      "221                         SaleType_ConLI  0.000000e+00\n",
      "256                          Floors_SFoyer  0.000000e+00\n",
      "259                         RoofType_Other  0.000000e+00\n",
      "260                     RoofMaterial_Other  0.000000e+00\n",
      "261                   RoofMaterial_Tar&Grv  0.000000e+00\n",
      "263            ExteriorMaterialType_Cement  0.000000e+00\n",
      "264             ExteriorMaterialType_Metal  0.000000e+00\n",
      "266             ExteriorMaterialType_Vinyl  0.000000e+00\n",
      "268                 MasonryVeneerType_None  0.000000e+00\n",
      "269                MasonryVeneerType_Stone  0.000000e+00\n",
      "270                  FoundationType_CBlock  0.000000e+00\n",
      "271                   FoundationType_Other  0.000000e+00\n",
      "272                   FoundationType_PConc  0.000000e+00\n",
      "273                    FoundationType_Slab  0.000000e+00\n",
      "275                     BasmentExposure_Mn  0.000000e+00\n",
      "278                          MonthSold_Dec  0.000000e+00\n",
      "280                          MonthSold_Jan  0.000000e+00\n",
      "282                          MonthSold_Jun  0.000000e+00\n",
      "284                          MonthSold_May  0.000000e+00\n",
      "285                          MonthSold_Nov  0.000000e+00\n",
      "286                          MonthSold_Oct  0.000000e+00\n",
      "257                            Floors_SLvl  0.000000e+00\n",
      "184                      Foundation_CBlock  0.000000e+00\n",
      "222                         SaleType_ConLw  0.000000e+00\n",
      "254                          Floors_1Story  0.000000e+00\n",
      "225                  SaleCondition_AdjLand  0.000000e+00\n",
      "226                   SaleCondition_Alloca  0.000000e+00\n",
      "227                   SaleCondition_Family  0.000000e+00\n",
      "228                   SaleCondition_Normal  0.000000e+00\n",
      "230    Building Class_1_5-story_unfinished  0.000000e+00\n",
      "233        Building Class_1_story_PUD_1946  0.000000e+00\n",
      "234  Building Class_1_story_finished_attic  0.000000e+00\n",
      "235               Building Class_2_5_story  0.000000e+00\n",
      "239             Building Class_2_story_PUD  0.000000e+00\n",
      "240                  Building Class_Duplex  0.000000e+00\n",
      "241          Building Class_PUD_multilevel  0.000000e+00\n",
      "242             Building Class_Split_foyer  0.000000e+00\n",
      "243        Building Class_Split_multilevel  0.000000e+00\n",
      "245                LotAccessibility_Inside  0.000000e+00\n",
      "249               OtherConditions_Railroad  0.000000e+00\n",
      "250                    BuildingType_2fmCon  0.000000e+00\n",
      "251                    BuildingType_Duplex  0.000000e+00\n",
      "252                     BuildingType_Twnhs  0.000000e+00\n",
      "253                    BuildingType_TwnhsE  0.000000e+00\n",
      "185                       Foundation_PConc  0.000000e+00\n",
      "144                       RoofMatl_WdShngl  0.000000e+00\n",
      "183                           ExterCond_TA  0.000000e+00\n",
      "182                           ExterCond_Po  0.000000e+00\n",
      "82                           LandSlope_Sev  0.000000e+00\n",
      "83                    Neighborhood_Blueste  0.000000e+00\n",
      "84                     Neighborhood_BrDale  0.000000e+00\n",
      "85                    Neighborhood_BrkSide  0.000000e+00\n",
      "87                    Neighborhood_CollgCr  0.000000e+00\n",
      "91                     Neighborhood_IDOTRR  0.000000e+00\n",
      "92                    Neighborhood_MeadowV  0.000000e+00\n",
      "93                    Neighborhood_Mitchel  0.000000e+00\n",
      "95                    Neighborhood_NPkVill  0.000000e+00\n",
      "96                     Neighborhood_NWAmes  0.000000e+00\n",
      "98                    Neighborhood_NridgHt  0.000000e+00\n",
      "99                    Neighborhood_OldTown  0.000000e+00\n",
      "100                     Neighborhood_SWISU  0.000000e+00\n",
      "101                    Neighborhood_Sawyer  0.000000e+00\n",
      "106                   Neighborhood_Veenker  0.000000e+00\n",
      "107                       Condition1_Feedr  0.000000e+00\n",
      "109                        Condition1_PosA  0.000000e+00\n",
      "111                        Condition1_RRAe  0.000000e+00\n",
      "112                        Condition1_RRAn  0.000000e+00\n",
      "113                        Condition1_RRNe  0.000000e+00\n",
      "114                        Condition1_RRNn  0.000000e+00\n",
      "115                       Condition2_Feedr  0.000000e+00\n",
      "117                        Condition2_PosA  0.000000e+00\n",
      "81                           LandSlope_Mod  0.000000e+00\n",
      "80                        LotConfig_Inside  0.000000e+00\n",
      "79                           LotConfig_FR3  0.000000e+00\n",
      "43                             LandGrading  0.000000e+00\n",
      "11                              CentralAir  0.000000e+00\n",
      "14                            LowQualFinSF  0.000000e+00\n",
      "17                            BsmtHalfBath  0.000000e+00\n",
      "24                            GarageFinish  0.000000e+00\n",
      "30                               3SsnPorch  0.000000e+00\n",
      "33                                 MiscVal  0.000000e+00\n",
      "38                            StreetPaving  0.000000e+00\n",
      "39                             AlleyAccess  0.000000e+00\n",
      "41                                   Hills  0.000000e+00\n",
      "42                             Utility-All  0.000000e+00\n",
      "45                            ShingledRoof  0.000000e+00\n",
      "78                           LotConfig_FR2  0.000000e+00\n",
      "49                             HasBasement  0.000000e+00\n",
      "53                          HeatingQuality  0.000000e+00\n",
      "57                               HasGarage  0.000000e+00\n",
      "59                                HasPorch  0.000000e+00\n",
      "60                             PoolQuality  0.000000e+00\n",
      "61                                 HasPool  0.000000e+00\n",
      "63                          Contract-Risky  0.000000e+00\n",
      "70                             Street_Pave  0.000000e+00\n",
      "72                            LotShape_IR3  0.000000e+00\n",
      "75                         LandContour_Low  0.000000e+00\n",
      "119                        Condition2_RRAe  0.000000e+00\n",
      "120                        Condition2_RRAn  0.000000e+00\n",
      "121                        Condition2_RRNn  0.000000e+00\n",
      "164                    Exterior2nd_HdBoard  0.000000e+00\n",
      "153                    Exterior1st_Plywood  0.000000e+00\n",
      "154                      Exterior1st_Stone  0.000000e+00\n",
      "155                     Exterior1st_Stucco  0.000000e+00\n",
      "157                    Exterior1st_Wd Sdng  0.000000e+00\n",
      "158                    Exterior1st_WdShing  0.000000e+00\n",
      "159                    Exterior2nd_AsphShn  0.000000e+00\n",
      "160                    Exterior2nd_Brk Cmn  0.000000e+00\n",
      "161                    Exterior2nd_BrkFace  0.000000e+00\n",
      "162                     Exterior2nd_CBlock  0.000000e+00\n",
      "163                    Exterior2nd_CmentBd  0.000000e+00\n",
      "165                    Exterior2nd_ImStucc  0.000000e+00\n",
      "151                    Exterior1st_ImStucc  0.000000e+00\n",
      "166                    Exterior2nd_MetalSd  0.000000e+00\n",
      "167                      Exterior2nd_Other  0.000000e+00\n",
      "169                      Exterior2nd_Stone  0.000000e+00\n",
      "170                     Exterior2nd_Stucco  0.000000e+00\n",
      "172                    Exterior2nd_Wd Sdng  0.000000e+00\n",
      "173                    Exterior2nd_Wd Shng  0.000000e+00\n",
      "177                           ExterQual_Fa  0.000000e+00\n",
      "179                           ExterQual_TA  0.000000e+00\n",
      "180                           ExterCond_Fa  0.000000e+00\n",
      "181                           ExterCond_Gd  0.000000e+00\n",
      "152                    Exterior1st_MetalSd  0.000000e+00\n",
      "150                    Exterior1st_HdBoard  0.000000e+00\n",
      "122                        BldgType_2fmCon  0.000000e+00\n",
      "135                          RoofStyle_Hip  0.000000e+00\n",
      "124                         BldgType_Twnhs  0.000000e+00\n",
      "125                        BldgType_TwnhsE  0.000000e+00\n",
      "126                      HouseStyle_1.5Unf  0.000000e+00\n",
      "127                      HouseStyle_1Story  0.000000e+00\n",
      "128                      HouseStyle_2.5Fin  0.000000e+00\n",
      "129                      HouseStyle_2.5Unf  0.000000e+00\n",
      "130                      HouseStyle_2Story  0.000000e+00\n",
      "131                      HouseStyle_SFoyer  0.000000e+00\n",
      "132                        HouseStyle_SLvl  0.000000e+00\n",
      "134                      RoofStyle_Gambrel  0.000000e+00\n",
      "136                      RoofStyle_Mansard  0.000000e+00\n",
      "149                    Exterior1st_CemntBd  0.000000e+00\n",
      "137                         RoofStyle_Shed  0.000000e+00\n",
      "138                       RoofMatl_CompShg  0.000000e+00\n",
      "139                       RoofMatl_Membran  0.000000e+00\n",
      "140                         RoofMatl_Metal  0.000000e+00\n",
      "141                          RoofMatl_Roll  0.000000e+00\n",
      "142                       RoofMatl_Tar&Grv  0.000000e+00\n",
      "143                       RoofMatl_WdShake  0.000000e+00\n",
      "145                    Exterior1st_AsphShn  0.000000e+00\n",
      "146                    Exterior1st_BrkComm  0.000000e+00\n",
      "148                     Exterior1st_CBlock  0.000000e+00\n",
      "287                          MonthSold_Sep  0.000000e+00\n"
     ]
    }
   ],
   "source": [
    "ShowModel = models_list[models_list[\"Name\"] == \"GradientBoostingRegressor\"][\"ModelData\"].iloc[0]\n",
    "\n",
    "ShowImportantFeatures(ShowModel, 300)"
   ]
  },
  {
   "cell_type": "code",
   "execution_count": null,
   "metadata": {},
   "outputs": [],
   "source": []
  },
  {
   "cell_type": "code",
   "execution_count": 183,
   "metadata": {},
   "outputs": [
    {
     "ename": "KeyError",
     "evalue": "\"['AgeGroup', 'BsmtFinType1', 'GarageYrBlt', 'GarageType'] not in index\"",
     "output_type": "error",
     "traceback": [
      "\u001b[1;31m---------------------------------------------------------------------------\u001b[0m",
      "\u001b[1;31mKeyError\u001b[0m                                  Traceback (most recent call last)",
      "\u001b[1;32m<ipython-input-183-6120e81ed90f>\u001b[0m in \u001b[0;36m<module>\u001b[1;34m\u001b[0m\n\u001b[0;32m     92\u001b[0m \u001b[1;31m#                        \"NormalSale\",\u001b[0m\u001b[1;33m\u001b[0m\u001b[1;33m\u001b[0m\u001b[1;33m\u001b[0m\u001b[0m\n\u001b[0;32m     93\u001b[0m                         \u001b[1;34m\"UsableAreaSF\"\u001b[0m\u001b[1;33m,\u001b[0m\u001b[1;33m\u001b[0m\u001b[1;33m\u001b[0m\u001b[0m\n\u001b[1;32m---> 94\u001b[1;33m                         \u001b[1;34m\"LivingAreaSF\"\u001b[0m\u001b[1;33m,\u001b[0m\u001b[1;33m\u001b[0m\u001b[1;33m\u001b[0m\u001b[0m\n\u001b[0m\u001b[0;32m     95\u001b[0m ]]\n",
      "\u001b[1;32mC:\\Anaconda3\\lib\\site-packages\\pandas\\core\\frame.py\u001b[0m in \u001b[0;36m__getitem__\u001b[1;34m(self, key)\u001b[0m\n\u001b[0;32m   2984\u001b[0m             \u001b[1;32mif\u001b[0m \u001b[0mis_iterator\u001b[0m\u001b[1;33m(\u001b[0m\u001b[0mkey\u001b[0m\u001b[1;33m)\u001b[0m\u001b[1;33m:\u001b[0m\u001b[1;33m\u001b[0m\u001b[1;33m\u001b[0m\u001b[0m\n\u001b[0;32m   2985\u001b[0m                 \u001b[0mkey\u001b[0m \u001b[1;33m=\u001b[0m \u001b[0mlist\u001b[0m\u001b[1;33m(\u001b[0m\u001b[0mkey\u001b[0m\u001b[1;33m)\u001b[0m\u001b[1;33m\u001b[0m\u001b[1;33m\u001b[0m\u001b[0m\n\u001b[1;32m-> 2986\u001b[1;33m             \u001b[0mindexer\u001b[0m \u001b[1;33m=\u001b[0m \u001b[0mself\u001b[0m\u001b[1;33m.\u001b[0m\u001b[0mloc\u001b[0m\u001b[1;33m.\u001b[0m\u001b[0m_convert_to_indexer\u001b[0m\u001b[1;33m(\u001b[0m\u001b[0mkey\u001b[0m\u001b[1;33m,\u001b[0m \u001b[0maxis\u001b[0m\u001b[1;33m=\u001b[0m\u001b[1;36m1\u001b[0m\u001b[1;33m,\u001b[0m \u001b[0mraise_missing\u001b[0m\u001b[1;33m=\u001b[0m\u001b[1;32mTrue\u001b[0m\u001b[1;33m)\u001b[0m\u001b[1;33m\u001b[0m\u001b[1;33m\u001b[0m\u001b[0m\n\u001b[0m\u001b[0;32m   2987\u001b[0m \u001b[1;33m\u001b[0m\u001b[0m\n\u001b[0;32m   2988\u001b[0m         \u001b[1;31m# take() does not accept boolean indexers\u001b[0m\u001b[1;33m\u001b[0m\u001b[1;33m\u001b[0m\u001b[1;33m\u001b[0m\u001b[0m\n",
      "\u001b[1;32mC:\\Anaconda3\\lib\\site-packages\\pandas\\core\\indexing.py\u001b[0m in \u001b[0;36m_convert_to_indexer\u001b[1;34m(self, obj, axis, is_setter, raise_missing)\u001b[0m\n\u001b[0;32m   1283\u001b[0m                 \u001b[1;31m# When setting, missing keys are not allowed, even with .loc:\u001b[0m\u001b[1;33m\u001b[0m\u001b[1;33m\u001b[0m\u001b[1;33m\u001b[0m\u001b[0m\n\u001b[0;32m   1284\u001b[0m                 \u001b[0mkwargs\u001b[0m \u001b[1;33m=\u001b[0m \u001b[1;33m{\u001b[0m\u001b[1;34m\"raise_missing\"\u001b[0m\u001b[1;33m:\u001b[0m \u001b[1;32mTrue\u001b[0m \u001b[1;32mif\u001b[0m \u001b[0mis_setter\u001b[0m \u001b[1;32melse\u001b[0m \u001b[0mraise_missing\u001b[0m\u001b[1;33m}\u001b[0m\u001b[1;33m\u001b[0m\u001b[1;33m\u001b[0m\u001b[0m\n\u001b[1;32m-> 1285\u001b[1;33m                 \u001b[1;32mreturn\u001b[0m \u001b[0mself\u001b[0m\u001b[1;33m.\u001b[0m\u001b[0m_get_listlike_indexer\u001b[0m\u001b[1;33m(\u001b[0m\u001b[0mobj\u001b[0m\u001b[1;33m,\u001b[0m \u001b[0maxis\u001b[0m\u001b[1;33m,\u001b[0m \u001b[1;33m**\u001b[0m\u001b[0mkwargs\u001b[0m\u001b[1;33m)\u001b[0m\u001b[1;33m[\u001b[0m\u001b[1;36m1\u001b[0m\u001b[1;33m]\u001b[0m\u001b[1;33m\u001b[0m\u001b[1;33m\u001b[0m\u001b[0m\n\u001b[0m\u001b[0;32m   1286\u001b[0m         \u001b[1;32melse\u001b[0m\u001b[1;33m:\u001b[0m\u001b[1;33m\u001b[0m\u001b[1;33m\u001b[0m\u001b[0m\n\u001b[0;32m   1287\u001b[0m             \u001b[1;32mtry\u001b[0m\u001b[1;33m:\u001b[0m\u001b[1;33m\u001b[0m\u001b[1;33m\u001b[0m\u001b[0m\n",
      "\u001b[1;32mC:\\Anaconda3\\lib\\site-packages\\pandas\\core\\indexing.py\u001b[0m in \u001b[0;36m_get_listlike_indexer\u001b[1;34m(self, key, axis, raise_missing)\u001b[0m\n\u001b[0;32m   1090\u001b[0m \u001b[1;33m\u001b[0m\u001b[0m\n\u001b[0;32m   1091\u001b[0m         self._validate_read_indexer(\n\u001b[1;32m-> 1092\u001b[1;33m             \u001b[0mkeyarr\u001b[0m\u001b[1;33m,\u001b[0m \u001b[0mindexer\u001b[0m\u001b[1;33m,\u001b[0m \u001b[0mo\u001b[0m\u001b[1;33m.\u001b[0m\u001b[0m_get_axis_number\u001b[0m\u001b[1;33m(\u001b[0m\u001b[0maxis\u001b[0m\u001b[1;33m)\u001b[0m\u001b[1;33m,\u001b[0m \u001b[0mraise_missing\u001b[0m\u001b[1;33m=\u001b[0m\u001b[0mraise_missing\u001b[0m\u001b[1;33m\u001b[0m\u001b[1;33m\u001b[0m\u001b[0m\n\u001b[0m\u001b[0;32m   1093\u001b[0m         )\n\u001b[0;32m   1094\u001b[0m         \u001b[1;32mreturn\u001b[0m \u001b[0mkeyarr\u001b[0m\u001b[1;33m,\u001b[0m \u001b[0mindexer\u001b[0m\u001b[1;33m\u001b[0m\u001b[1;33m\u001b[0m\u001b[0m\n",
      "\u001b[1;32mC:\\Anaconda3\\lib\\site-packages\\pandas\\core\\indexing.py\u001b[0m in \u001b[0;36m_validate_read_indexer\u001b[1;34m(self, key, indexer, axis, raise_missing)\u001b[0m\n\u001b[0;32m   1183\u001b[0m             \u001b[1;32mif\u001b[0m \u001b[1;32mnot\u001b[0m \u001b[1;33m(\u001b[0m\u001b[0mself\u001b[0m\u001b[1;33m.\u001b[0m\u001b[0mname\u001b[0m \u001b[1;33m==\u001b[0m \u001b[1;34m\"loc\"\u001b[0m \u001b[1;32mand\u001b[0m \u001b[1;32mnot\u001b[0m \u001b[0mraise_missing\u001b[0m\u001b[1;33m)\u001b[0m\u001b[1;33m:\u001b[0m\u001b[1;33m\u001b[0m\u001b[1;33m\u001b[0m\u001b[0m\n\u001b[0;32m   1184\u001b[0m                 \u001b[0mnot_found\u001b[0m \u001b[1;33m=\u001b[0m \u001b[0mlist\u001b[0m\u001b[1;33m(\u001b[0m\u001b[0mset\u001b[0m\u001b[1;33m(\u001b[0m\u001b[0mkey\u001b[0m\u001b[1;33m)\u001b[0m \u001b[1;33m-\u001b[0m \u001b[0mset\u001b[0m\u001b[1;33m(\u001b[0m\u001b[0max\u001b[0m\u001b[1;33m)\u001b[0m\u001b[1;33m)\u001b[0m\u001b[1;33m\u001b[0m\u001b[1;33m\u001b[0m\u001b[0m\n\u001b[1;32m-> 1185\u001b[1;33m                 \u001b[1;32mraise\u001b[0m \u001b[0mKeyError\u001b[0m\u001b[1;33m(\u001b[0m\u001b[1;34m\"{} not in index\"\u001b[0m\u001b[1;33m.\u001b[0m\u001b[0mformat\u001b[0m\u001b[1;33m(\u001b[0m\u001b[0mnot_found\u001b[0m\u001b[1;33m)\u001b[0m\u001b[1;33m)\u001b[0m\u001b[1;33m\u001b[0m\u001b[1;33m\u001b[0m\u001b[0m\n\u001b[0m\u001b[0;32m   1186\u001b[0m \u001b[1;33m\u001b[0m\u001b[0m\n\u001b[0;32m   1187\u001b[0m             \u001b[1;31m# we skip the warning on Categorical/Interval\u001b[0m\u001b[1;33m\u001b[0m\u001b[1;33m\u001b[0m\u001b[1;33m\u001b[0m\u001b[0m\n",
      "\u001b[1;31mKeyError\u001b[0m: \"['AgeGroup', 'BsmtFinType1', 'GarageYrBlt', 'GarageType'] not in index\""
     ]
    }
   ],
   "source": [
    "TrainingData = RawData[[ \"SalePrice\",\n",
    "#                        \"MSSubClass\",\n",
    "#                        \"MSZoning\",\n",
    "                        \"LotFrontage\",\n",
    "#                        \"LotArea\",\n",
    "#                        \"Street\",\n",
    "#                        \"Alley\",\n",
    "#                        \"LotShape\",\n",
    "#                        \"LandContour\",\n",
    "#                        \"Utilities\",\n",
    "#                        \"LotConfig\",\n",
    "#                        \"LandSlope\",\n",
    "                        \"Neighborhood\",\n",
    "#                        \"Condition1\",\n",
    "#                        \"Condition2\",\n",
    "#                        \"BldgType\",\n",
    "#                        \"HouseStyle\",\n",
    "                        \"OverallQual\",\n",
    "#                        \"OverallCond\",\n",
    "#                        \"YearBuilt\",\n",
    "#                        \"YearRemodAdd\",\n",
    "#                        \"RoofStyle\",\n",
    "#                        \"RoofMatl\",\n",
    "#                        \"Exterior1st\",\n",
    "#                        \"Exterior2nd\",\n",
    "                        \"MasVnrType\",\n",
    "                       \"MasVnrArea\",\n",
    "                        \"ExterQual\",\n",
    "#                        \"ExterCond\",\n",
    "                        \"Foundation\",\n",
    "                        \"BsmtQual\",\n",
    "#                        \"BsmtCond\",\n",
    "#                        \"BsmtExposure\",\n",
    "                        \"BsmtFinType1\",\n",
    "                        \"BsmtFinSF1\",\n",
    "#                        \"BsmtFinType2\",\n",
    "#                        \"BsmtFinSF2\",\n",
    "#                        \"BsmtUnfSF\",\n",
    "                        \"TotalBsmtSF\",\n",
    "#                        \"Heating\",\n",
    "#                        \"HeatingQC\",\n",
    "#                        \"CentralAir\",\n",
    "#                        \"Electrical\",\n",
    "                        \"1stFlrSF\",\n",
    "#                        \"2ndFlrSF\",\n",
    "#                        \"LowQualFinSF\",\n",
    "                        \"GrLivArea\",\n",
    "#                        \"BsmtFullBath\",\n",
    "#                        \"BsmtHalfBath\",\n",
    "                        \"FullBath\",\n",
    "#                        \"HalfBath\",\n",
    "#                        \"BedroomAbvGr\",\n",
    "#                        \"KitchenAbvGr\",\n",
    "                        \"KitchenQual\",\n",
    "                        \"TotRmsAbvGrd\",\n",
    "#                        \"Functional\",\n",
    "                        \"Fireplaces\",\n",
    "#                        \"FireplaceQu\",\n",
    "                        \"GarageType\",\n",
    "                        \"GarageYrBlt\",\n",
    "                        \"GarageFinish\",\n",
    "                        \"GarageCars\",\n",
    "                        \"GarageArea\",\n",
    "#                        \"GarageQual\",\n",
    "#                        \"GarageCond\",\n",
    "#                        \"PavedDrive\",\n",
    "#                        \"WoodDeckSF\",\n",
    "#                        \"OpenPorchSF\",\n",
    "#                        \"EnclosedPorch\",\n",
    "#                        \"3SsnPorch\",\n",
    "#                        \"ScreenPorch\",\n",
    "#                        \"PoolArea\",\n",
    "#                        \"PoolQC\",\n",
    "#                        \"Fence\",\n",
    "#                        \"MiscFeature\",\n",
    "#                        \"MiscVal\",\n",
    "#                        \"MoSold\",\n",
    "#                        \"YrSold\",\n",
    "#                        \"SaleType\",\n",
    "#                        \"SaleCondition\",\n",
    "\n",
    "                        \"BuildingClass\",\n",
    "#                        \"SplitLevel\",\n",
    "#                        \"Utility-All\",\n",
    "                        \"AgeGroup\",\n",
    "                        \"Styling\",\n",
    "#                        \"ExteriorMaterialType\",\n",
    "                        \"ExteriorQuality\",\n",
    "                        \"BasementQuality\",\n",
    "#                        \"BasementCondition\",\n",
    "                        \"SaleCondition\",\n",
    "#                        \"NormalSale\",\n",
    "                        \"UsableAreaSF\",\n",
    "                        \"LivingAreaSF\",\n",
    "]]"
   ]
  },
  {
   "cell_type": "code",
   "execution_count": null,
   "metadata": {},
   "outputs": [],
   "source": []
  },
  {
   "cell_type": "code",
   "execution_count": null,
   "metadata": {},
   "outputs": [],
   "source": []
  }
 ],
 "metadata": {
  "kernelspec": {
   "display_name": "Python 3",
   "language": "python",
   "name": "python3"
  },
  "language_info": {
   "codemirror_mode": {
    "name": "ipython",
    "version": 3
   },
   "file_extension": ".py",
   "mimetype": "text/x-python",
   "name": "python",
   "nbconvert_exporter": "python",
   "pygments_lexer": "ipython3",
   "version": "3.7.4"
  }
 },
 "nbformat": 4,
 "nbformat_minor": 2
}
